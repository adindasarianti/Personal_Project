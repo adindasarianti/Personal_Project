{
 "cells": [
  {
   "cell_type": "markdown",
   "id": "cc686768",
   "metadata": {},
   "source": [
    "# Global Bike Sales (2013-2023) - full analysis project\n",
    "This notebook shows how I went through the data cleaning process, uncovered insights, and visualized each business question with charts. The dataset was taken from [Kaggle](https://www.kaggle.com/datasets/hamedahmadinia/global-bike-sales-dataset-2013-2023) and contains information about products, revenue, profit, shipping costs, insurance, and more."
   ]
  },
  {
   "cell_type": "code",
   "execution_count": 1,
   "id": "b75ee3b1",
   "metadata": {},
   "outputs": [],
   "source": [
    "#Importing libraries\n",
    "import pandas as pd\n",
    "import numpy as np\n",
    "import matplotlib.pyplot as plt\n",
    "import seaborn as sns\n",
    "\n",
    "import warnings\n",
    "warnings.filterwarnings('ignore')"
   ]
  },
  {
   "cell_type": "markdown",
   "id": "18667623",
   "metadata": {},
   "source": [
    "## Quick Overview"
   ]
  },
  {
   "cell_type": "code",
   "execution_count": 2,
   "id": "ffb85e53",
   "metadata": {},
   "outputs": [],
   "source": [
    "#Load the data\n",
    "df = pd.read_csv('bike_sales_data_world_2013_2023.csv')"
   ]
  },
  {
   "cell_type": "code",
   "execution_count": 3,
   "id": "ca9a9594",
   "metadata": {},
   "outputs": [
    {
     "data": {
      "text/plain": [
       "(226072, 33)"
      ]
     },
     "execution_count": 3,
     "metadata": {},
     "output_type": "execute_result"
    }
   ],
   "source": [
    "#See the dimension of the data\n",
    "df.shape"
   ]
  },
  {
   "cell_type": "code",
   "execution_count": 4,
   "id": "02792ffd",
   "metadata": {},
   "outputs": [
    {
     "data": {
      "text/html": [
       "<div>\n",
       "<style scoped>\n",
       "    .dataframe tbody tr th:only-of-type {\n",
       "        vertical-align: middle;\n",
       "    }\n",
       "\n",
       "    .dataframe tbody tr th {\n",
       "        vertical-align: top;\n",
       "    }\n",
       "\n",
       "    .dataframe thead th {\n",
       "        text-align: right;\n",
       "    }\n",
       "</style>\n",
       "<table border=\"1\" class=\"dataframe\">\n",
       "  <thead>\n",
       "    <tr style=\"text-align: right;\">\n",
       "      <th></th>\n",
       "      <th>Date</th>\n",
       "      <th>Day</th>\n",
       "      <th>Month</th>\n",
       "      <th>Year</th>\n",
       "      <th>Customer_Age</th>\n",
       "      <th>Age_Group</th>\n",
       "      <th>Customer_Gender</th>\n",
       "      <th>Country</th>\n",
       "      <th>State</th>\n",
       "      <th>Product_Category</th>\n",
       "      <th>...</th>\n",
       "      <th>Rating</th>\n",
       "      <th>Shipping_Weight</th>\n",
       "      <th>Delivery_Time</th>\n",
       "      <th>Discount</th>\n",
       "      <th>Eco_Friendly</th>\n",
       "      <th>Shipping_Cost</th>\n",
       "      <th>Shipping_Company</th>\n",
       "      <th>Shipping_Type</th>\n",
       "      <th>Insurance</th>\n",
       "      <th>Return_Policy</th>\n",
       "    </tr>\n",
       "  </thead>\n",
       "  <tbody>\n",
       "    <tr>\n",
       "      <th>0</th>\n",
       "      <td>2017-11-26</td>\n",
       "      <td>26</td>\n",
       "      <td>November</td>\n",
       "      <td>2017</td>\n",
       "      <td>19</td>\n",
       "      <td>Youth (&lt;25)</td>\n",
       "      <td>M</td>\n",
       "      <td>Canada</td>\n",
       "      <td>British Columbia</td>\n",
       "      <td>Accessories</td>\n",
       "      <td>...</td>\n",
       "      <td>4</td>\n",
       "      <td>13.25</td>\n",
       "      <td>2</td>\n",
       "      <td>25</td>\n",
       "      <td>True</td>\n",
       "      <td>40.58</td>\n",
       "      <td>GLS</td>\n",
       "      <td>Standard</td>\n",
       "      <td>Basic</td>\n",
       "      <td>30 Days</td>\n",
       "    </tr>\n",
       "    <tr>\n",
       "      <th>1</th>\n",
       "      <td>2014-11-26</td>\n",
       "      <td>26</td>\n",
       "      <td>November</td>\n",
       "      <td>2014</td>\n",
       "      <td>19</td>\n",
       "      <td>Youth (&lt;25)</td>\n",
       "      <td>M</td>\n",
       "      <td>Canada</td>\n",
       "      <td>British Columbia</td>\n",
       "      <td>Accessories</td>\n",
       "      <td>...</td>\n",
       "      <td>5</td>\n",
       "      <td>4.56</td>\n",
       "      <td>4</td>\n",
       "      <td>1</td>\n",
       "      <td>True</td>\n",
       "      <td>95.32</td>\n",
       "      <td>Posti</td>\n",
       "      <td>Same Day</td>\n",
       "      <td>NaN</td>\n",
       "      <td>30 Days</td>\n",
       "    </tr>\n",
       "    <tr>\n",
       "      <th>2</th>\n",
       "      <td>2019-03-23</td>\n",
       "      <td>23</td>\n",
       "      <td>March</td>\n",
       "      <td>2019</td>\n",
       "      <td>49</td>\n",
       "      <td>Adults (35-64)</td>\n",
       "      <td>M</td>\n",
       "      <td>Australia</td>\n",
       "      <td>New South Wales</td>\n",
       "      <td>Accessories</td>\n",
       "      <td>...</td>\n",
       "      <td>3</td>\n",
       "      <td>8.97</td>\n",
       "      <td>1</td>\n",
       "      <td>0</td>\n",
       "      <td>True</td>\n",
       "      <td>74.54</td>\n",
       "      <td>GLS</td>\n",
       "      <td>Express</td>\n",
       "      <td>Premium</td>\n",
       "      <td>7 Days</td>\n",
       "    </tr>\n",
       "    <tr>\n",
       "      <th>3</th>\n",
       "      <td>2015-03-23</td>\n",
       "      <td>23</td>\n",
       "      <td>March</td>\n",
       "      <td>2015</td>\n",
       "      <td>49</td>\n",
       "      <td>Adults (35-64)</td>\n",
       "      <td>M</td>\n",
       "      <td>Australia</td>\n",
       "      <td>New South Wales</td>\n",
       "      <td>Accessories</td>\n",
       "      <td>...</td>\n",
       "      <td>5</td>\n",
       "      <td>2.56</td>\n",
       "      <td>1</td>\n",
       "      <td>10</td>\n",
       "      <td>False</td>\n",
       "      <td>61.87</td>\n",
       "      <td>DHL</td>\n",
       "      <td>Same Day</td>\n",
       "      <td>NaN</td>\n",
       "      <td>7 Days</td>\n",
       "    </tr>\n",
       "    <tr>\n",
       "      <th>4</th>\n",
       "      <td>2018-05-15</td>\n",
       "      <td>15</td>\n",
       "      <td>May</td>\n",
       "      <td>2018</td>\n",
       "      <td>47</td>\n",
       "      <td>Adults (35-64)</td>\n",
       "      <td>F</td>\n",
       "      <td>Australia</td>\n",
       "      <td>New South Wales</td>\n",
       "      <td>Accessories</td>\n",
       "      <td>...</td>\n",
       "      <td>5</td>\n",
       "      <td>11.21</td>\n",
       "      <td>1</td>\n",
       "      <td>6</td>\n",
       "      <td>False</td>\n",
       "      <td>19.82</td>\n",
       "      <td>GLS</td>\n",
       "      <td>Same Day</td>\n",
       "      <td>Basic</td>\n",
       "      <td>30 Days</td>\n",
       "    </tr>\n",
       "  </tbody>\n",
       "</table>\n",
       "<p>5 rows × 33 columns</p>\n",
       "</div>"
      ],
      "text/plain": [
       "         Date  Day     Month  Year  Customer_Age       Age_Group  \\\n",
       "0  2017-11-26   26  November  2017            19     Youth (<25)   \n",
       "1  2014-11-26   26  November  2014            19     Youth (<25)   \n",
       "2  2019-03-23   23     March  2019            49  Adults (35-64)   \n",
       "3  2015-03-23   23     March  2015            49  Adults (35-64)   \n",
       "4  2018-05-15   15       May  2018            47  Adults (35-64)   \n",
       "\n",
       "  Customer_Gender    Country             State Product_Category  ... Rating  \\\n",
       "0               M     Canada  British Columbia      Accessories  ...      4   \n",
       "1               M     Canada  British Columbia      Accessories  ...      5   \n",
       "2               M  Australia   New South Wales      Accessories  ...      3   \n",
       "3               M  Australia   New South Wales      Accessories  ...      5   \n",
       "4               F  Australia   New South Wales      Accessories  ...      5   \n",
       "\n",
       "  Shipping_Weight  Delivery_Time  Discount  Eco_Friendly  Shipping_Cost  \\\n",
       "0           13.25              2        25          True          40.58   \n",
       "1            4.56              4         1          True          95.32   \n",
       "2            8.97              1         0          True          74.54   \n",
       "3            2.56              1        10         False          61.87   \n",
       "4           11.21              1         6         False          19.82   \n",
       "\n",
       "   Shipping_Company  Shipping_Type Insurance Return_Policy  \n",
       "0               GLS       Standard     Basic       30 Days  \n",
       "1             Posti       Same Day       NaN       30 Days  \n",
       "2               GLS        Express   Premium        7 Days  \n",
       "3               DHL       Same Day       NaN        7 Days  \n",
       "4               GLS       Same Day     Basic       30 Days  \n",
       "\n",
       "[5 rows x 33 columns]"
      ]
     },
     "execution_count": 4,
     "metadata": {},
     "output_type": "execute_result"
    }
   ],
   "source": [
    "#Display the first 5 rows\n",
    "df.head()"
   ]
  },
  {
   "cell_type": "code",
   "execution_count": 5,
   "id": "0bb729e8",
   "metadata": {},
   "outputs": [
    {
     "name": "stdout",
     "output_type": "stream",
     "text": [
      "<class 'pandas.core.frame.DataFrame'>\n",
      "RangeIndex: 226072 entries, 0 to 226071\n",
      "Data columns (total 33 columns):\n",
      " #   Column            Non-Null Count   Dtype  \n",
      "---  ------            --------------   -----  \n",
      " 0   Date              226072 non-null  object \n",
      " 1   Day               226072 non-null  int64  \n",
      " 2   Month             226072 non-null  object \n",
      " 3   Year              226072 non-null  int64  \n",
      " 4   Customer_Age      226072 non-null  int64  \n",
      " 5   Age_Group         226072 non-null  object \n",
      " 6   Customer_Gender   226072 non-null  object \n",
      " 7   Country           226072 non-null  object \n",
      " 8   State             226072 non-null  object \n",
      " 9   Product_Category  226072 non-null  object \n",
      " 10  Sub_Category      226072 non-null  object \n",
      " 11  Product           226072 non-null  object \n",
      " 12  Order_Quantity    226072 non-null  int64  \n",
      " 13  Unit_Cost         226072 non-null  int64  \n",
      " 14  Unit_Price        226072 non-null  int64  \n",
      " 15  Profit            226072 non-null  int64  \n",
      " 16  Cost              226072 non-null  int64  \n",
      " 17  Revenue           226072 non-null  int64  \n",
      " 18  Size              226072 non-null  object \n",
      " 19  Color             226072 non-null  object \n",
      " 20  Material          226072 non-null  object \n",
      " 21  Warranty          226072 non-null  object \n",
      " 22  Manufacturer      226072 non-null  object \n",
      " 23  Rating            226072 non-null  int64  \n",
      " 24  Shipping_Weight   226072 non-null  float64\n",
      " 25  Delivery_Time     226072 non-null  int64  \n",
      " 26  Discount          226072 non-null  int64  \n",
      " 27  Eco_Friendly      226072 non-null  bool   \n",
      " 28  Shipping_Cost     226072 non-null  float64\n",
      " 29  Shipping_Company  226072 non-null  object \n",
      " 30  Shipping_Type     226072 non-null  object \n",
      " 31  Insurance         150790 non-null  object \n",
      " 32  Return_Policy     226072 non-null  object \n",
      "dtypes: bool(1), float64(2), int64(12), object(18)\n",
      "memory usage: 55.4+ MB\n"
     ]
    }
   ],
   "source": [
    "#Get a concise summary of the data\n",
    "df.info()"
   ]
  },
  {
   "cell_type": "code",
   "execution_count": 6,
   "id": "94ef93b6",
   "metadata": {},
   "outputs": [
    {
     "data": {
      "text/html": [
       "<div>\n",
       "<style scoped>\n",
       "    .dataframe tbody tr th:only-of-type {\n",
       "        vertical-align: middle;\n",
       "    }\n",
       "\n",
       "    .dataframe tbody tr th {\n",
       "        vertical-align: top;\n",
       "    }\n",
       "\n",
       "    .dataframe thead th {\n",
       "        text-align: right;\n",
       "    }\n",
       "</style>\n",
       "<table border=\"1\" class=\"dataframe\">\n",
       "  <thead>\n",
       "    <tr style=\"text-align: right;\">\n",
       "      <th></th>\n",
       "      <th>Day</th>\n",
       "      <th>Year</th>\n",
       "      <th>Customer_Age</th>\n",
       "      <th>Order_Quantity</th>\n",
       "      <th>Unit_Cost</th>\n",
       "      <th>Unit_Price</th>\n",
       "      <th>Profit</th>\n",
       "      <th>Cost</th>\n",
       "      <th>Revenue</th>\n",
       "      <th>Rating</th>\n",
       "      <th>Shipping_Weight</th>\n",
       "      <th>Delivery_Time</th>\n",
       "      <th>Discount</th>\n",
       "      <th>Shipping_Cost</th>\n",
       "    </tr>\n",
       "  </thead>\n",
       "  <tbody>\n",
       "    <tr>\n",
       "      <th>count</th>\n",
       "      <td>226072.000000</td>\n",
       "      <td>226072.000000</td>\n",
       "      <td>226072.000000</td>\n",
       "      <td>226072.000000</td>\n",
       "      <td>226072.000000</td>\n",
       "      <td>226072.000000</td>\n",
       "      <td>226072.000000</td>\n",
       "      <td>226072.000000</td>\n",
       "      <td>226072.000000</td>\n",
       "      <td>226072.000000</td>\n",
       "      <td>226072.000000</td>\n",
       "      <td>226072.000000</td>\n",
       "      <td>226072.000000</td>\n",
       "      <td>226072.000000</td>\n",
       "    </tr>\n",
       "    <tr>\n",
       "      <th>mean</th>\n",
       "      <td>15.665753</td>\n",
       "      <td>2017.992887</td>\n",
       "      <td>35.919212</td>\n",
       "      <td>11.901660</td>\n",
       "      <td>267.296366</td>\n",
       "      <td>452.938427</td>\n",
       "      <td>285.051665</td>\n",
       "      <td>469.318695</td>\n",
       "      <td>754.370360</td>\n",
       "      <td>3.005724</td>\n",
       "      <td>7.748286</td>\n",
       "      <td>5.001009</td>\n",
       "      <td>14.488172</td>\n",
       "      <td>52.471199</td>\n",
       "    </tr>\n",
       "    <tr>\n",
       "      <th>std</th>\n",
       "      <td>8.781547</td>\n",
       "      <td>3.163415</td>\n",
       "      <td>11.021911</td>\n",
       "      <td>9.561836</td>\n",
       "      <td>549.834267</td>\n",
       "      <td>922.069180</td>\n",
       "      <td>453.886439</td>\n",
       "      <td>884.864161</td>\n",
       "      <td>1309.091778</td>\n",
       "      <td>1.416783</td>\n",
       "      <td>4.185197</td>\n",
       "      <td>2.579064</td>\n",
       "      <td>8.631218</td>\n",
       "      <td>27.398519</td>\n",
       "    </tr>\n",
       "    <tr>\n",
       "      <th>min</th>\n",
       "      <td>1.000000</td>\n",
       "      <td>2013.000000</td>\n",
       "      <td>17.000000</td>\n",
       "      <td>1.000000</td>\n",
       "      <td>1.000000</td>\n",
       "      <td>2.000000</td>\n",
       "      <td>-30.000000</td>\n",
       "      <td>1.000000</td>\n",
       "      <td>2.000000</td>\n",
       "      <td>1.000000</td>\n",
       "      <td>0.500000</td>\n",
       "      <td>1.000000</td>\n",
       "      <td>0.000000</td>\n",
       "      <td>5.000000</td>\n",
       "    </tr>\n",
       "    <tr>\n",
       "      <th>25%</th>\n",
       "      <td>8.000000</td>\n",
       "      <td>2015.000000</td>\n",
       "      <td>28.000000</td>\n",
       "      <td>2.000000</td>\n",
       "      <td>2.000000</td>\n",
       "      <td>5.000000</td>\n",
       "      <td>29.000000</td>\n",
       "      <td>28.000000</td>\n",
       "      <td>63.000000</td>\n",
       "      <td>2.000000</td>\n",
       "      <td>4.120000</td>\n",
       "      <td>3.000000</td>\n",
       "      <td>7.000000</td>\n",
       "      <td>28.700000</td>\n",
       "    </tr>\n",
       "    <tr>\n",
       "      <th>50%</th>\n",
       "      <td>16.000000</td>\n",
       "      <td>2018.000000</td>\n",
       "      <td>35.000000</td>\n",
       "      <td>10.000000</td>\n",
       "      <td>9.000000</td>\n",
       "      <td>24.000000</td>\n",
       "      <td>101.000000</td>\n",
       "      <td>108.000000</td>\n",
       "      <td>223.000000</td>\n",
       "      <td>3.000000</td>\n",
       "      <td>7.750000</td>\n",
       "      <td>5.000000</td>\n",
       "      <td>15.000000</td>\n",
       "      <td>52.580000</td>\n",
       "    </tr>\n",
       "    <tr>\n",
       "      <th>75%</th>\n",
       "      <td>23.000000</td>\n",
       "      <td>2021.000000</td>\n",
       "      <td>43.000000</td>\n",
       "      <td>20.000000</td>\n",
       "      <td>42.000000</td>\n",
       "      <td>70.000000</td>\n",
       "      <td>358.000000</td>\n",
       "      <td>432.000000</td>\n",
       "      <td>800.000000</td>\n",
       "      <td>4.000000</td>\n",
       "      <td>11.360000</td>\n",
       "      <td>7.000000</td>\n",
       "      <td>22.000000</td>\n",
       "      <td>76.230000</td>\n",
       "    </tr>\n",
       "    <tr>\n",
       "      <th>max</th>\n",
       "      <td>31.000000</td>\n",
       "      <td>2023.000000</td>\n",
       "      <td>87.000000</td>\n",
       "      <td>32.000000</td>\n",
       "      <td>2171.000000</td>\n",
       "      <td>3578.000000</td>\n",
       "      <td>15096.000000</td>\n",
       "      <td>42978.000000</td>\n",
       "      <td>58074.000000</td>\n",
       "      <td>5.000000</td>\n",
       "      <td>15.000000</td>\n",
       "      <td>9.000000</td>\n",
       "      <td>29.000000</td>\n",
       "      <td>100.000000</td>\n",
       "    </tr>\n",
       "  </tbody>\n",
       "</table>\n",
       "</div>"
      ],
      "text/plain": [
       "                 Day           Year   Customer_Age  Order_Quantity  \\\n",
       "count  226072.000000  226072.000000  226072.000000   226072.000000   \n",
       "mean       15.665753    2017.992887      35.919212       11.901660   \n",
       "std         8.781547       3.163415      11.021911        9.561836   \n",
       "min         1.000000    2013.000000      17.000000        1.000000   \n",
       "25%         8.000000    2015.000000      28.000000        2.000000   \n",
       "50%        16.000000    2018.000000      35.000000       10.000000   \n",
       "75%        23.000000    2021.000000      43.000000       20.000000   \n",
       "max        31.000000    2023.000000      87.000000       32.000000   \n",
       "\n",
       "           Unit_Cost     Unit_Price         Profit           Cost  \\\n",
       "count  226072.000000  226072.000000  226072.000000  226072.000000   \n",
       "mean      267.296366     452.938427     285.051665     469.318695   \n",
       "std       549.834267     922.069180     453.886439     884.864161   \n",
       "min         1.000000       2.000000     -30.000000       1.000000   \n",
       "25%         2.000000       5.000000      29.000000      28.000000   \n",
       "50%         9.000000      24.000000     101.000000     108.000000   \n",
       "75%        42.000000      70.000000     358.000000     432.000000   \n",
       "max      2171.000000    3578.000000   15096.000000   42978.000000   \n",
       "\n",
       "             Revenue         Rating  Shipping_Weight  Delivery_Time  \\\n",
       "count  226072.000000  226072.000000    226072.000000  226072.000000   \n",
       "mean      754.370360       3.005724         7.748286       5.001009   \n",
       "std      1309.091778       1.416783         4.185197       2.579064   \n",
       "min         2.000000       1.000000         0.500000       1.000000   \n",
       "25%        63.000000       2.000000         4.120000       3.000000   \n",
       "50%       223.000000       3.000000         7.750000       5.000000   \n",
       "75%       800.000000       4.000000        11.360000       7.000000   \n",
       "max     58074.000000       5.000000        15.000000       9.000000   \n",
       "\n",
       "            Discount  Shipping_Cost  \n",
       "count  226072.000000  226072.000000  \n",
       "mean       14.488172      52.471199  \n",
       "std         8.631218      27.398519  \n",
       "min         0.000000       5.000000  \n",
       "25%         7.000000      28.700000  \n",
       "50%        15.000000      52.580000  \n",
       "75%        22.000000      76.230000  \n",
       "max        29.000000     100.000000  "
      ]
     },
     "execution_count": 6,
     "metadata": {},
     "output_type": "execute_result"
    }
   ],
   "source": [
    "#Summary statistics for numerical columns\n",
    "df.describe()"
   ]
  },
  {
   "cell_type": "markdown",
   "id": "e5aa816b",
   "metadata": {},
   "source": [
    "## Data Cleaning & Preprocessing"
   ]
  },
  {
   "cell_type": "markdown",
   "id": "bf70630e",
   "metadata": {},
   "source": [
    "### Handling Missing Values"
   ]
  },
  {
   "cell_type": "code",
   "execution_count": 7,
   "id": "cbf79f7a",
   "metadata": {},
   "outputs": [
    {
     "data": {
      "text/plain": [
       "Date                    0\n",
       "Day                     0\n",
       "Month                   0\n",
       "Year                    0\n",
       "Customer_Age            0\n",
       "Age_Group               0\n",
       "Customer_Gender         0\n",
       "Country                 0\n",
       "State                   0\n",
       "Product_Category        0\n",
       "Sub_Category            0\n",
       "Product                 0\n",
       "Order_Quantity          0\n",
       "Unit_Cost               0\n",
       "Unit_Price              0\n",
       "Profit                  0\n",
       "Cost                    0\n",
       "Revenue                 0\n",
       "Size                    0\n",
       "Color                   0\n",
       "Material                0\n",
       "Warranty                0\n",
       "Manufacturer            0\n",
       "Rating                  0\n",
       "Shipping_Weight         0\n",
       "Delivery_Time           0\n",
       "Discount                0\n",
       "Eco_Friendly            0\n",
       "Shipping_Cost           0\n",
       "Shipping_Company        0\n",
       "Shipping_Type           0\n",
       "Insurance           75282\n",
       "Return_Policy           0\n",
       "dtype: int64"
      ]
     },
     "execution_count": 7,
     "metadata": {},
     "output_type": "execute_result"
    }
   ],
   "source": [
    "#Check for missing values\n",
    "df.isna().sum()"
   ]
  },
  {
   "cell_type": "markdown",
   "id": "27e2a3ec",
   "metadata": {},
   "source": [
    "#### Handling Missing Values in \"Insurance\" column"
   ]
  },
  {
   "cell_type": "code",
   "execution_count": 8,
   "id": "0147f8bb",
   "metadata": {},
   "outputs": [
    {
     "data": {
      "text/plain": [
       "array(['Basic', nan, 'Premium'], dtype=object)"
      ]
     },
     "execution_count": 8,
     "metadata": {},
     "output_type": "execute_result"
    }
   ],
   "source": [
    "#Check unique values in the \"Insurance\" column\n",
    "df['Insurance'].unique()"
   ]
  },
  {
   "cell_type": "code",
   "execution_count": 9,
   "id": "f6ff503a",
   "metadata": {},
   "outputs": [],
   "source": [
    "#Fill missing insurance with 'Unknown'\n",
    "df['Insurance'] = df['Insurance'].fillna('Unknown')"
   ]
  },
  {
   "cell_type": "code",
   "execution_count": 10,
   "id": "81ad2456",
   "metadata": {},
   "outputs": [
    {
     "data": {
      "text/plain": [
       "Date                0\n",
       "Day                 0\n",
       "Month               0\n",
       "Year                0\n",
       "Customer_Age        0\n",
       "Age_Group           0\n",
       "Customer_Gender     0\n",
       "Country             0\n",
       "State               0\n",
       "Product_Category    0\n",
       "Sub_Category        0\n",
       "Product             0\n",
       "Order_Quantity      0\n",
       "Unit_Cost           0\n",
       "Unit_Price          0\n",
       "Profit              0\n",
       "Cost                0\n",
       "Revenue             0\n",
       "Size                0\n",
       "Color               0\n",
       "Material            0\n",
       "Warranty            0\n",
       "Manufacturer        0\n",
       "Rating              0\n",
       "Shipping_Weight     0\n",
       "Delivery_Time       0\n",
       "Discount            0\n",
       "Eco_Friendly        0\n",
       "Shipping_Cost       0\n",
       "Shipping_Company    0\n",
       "Shipping_Type       0\n",
       "Insurance           0\n",
       "Return_Policy       0\n",
       "dtype: int64"
      ]
     },
     "execution_count": 10,
     "metadata": {},
     "output_type": "execute_result"
    }
   ],
   "source": [
    "#Check for missing values in the dataset\n",
    "df.isna().sum()"
   ]
  },
  {
   "cell_type": "markdown",
   "id": "e21d91c7",
   "metadata": {},
   "source": [
    "### Handling Duplicates Data"
   ]
  },
  {
   "cell_type": "code",
   "execution_count": 11,
   "id": "494b007b",
   "metadata": {},
   "outputs": [
    {
     "data": {
      "text/plain": [
       "113011"
      ]
     },
     "execution_count": 11,
     "metadata": {},
     "output_type": "execute_result"
    }
   ],
   "source": [
    "#Check for duplicate data\n",
    "df.duplicated().sum()"
   ]
  },
  {
   "cell_type": "code",
   "execution_count": 12,
   "id": "048b052f",
   "metadata": {},
   "outputs": [],
   "source": [
    "#Drop duplicate values\n",
    "df = df.drop_duplicates()"
   ]
  },
  {
   "cell_type": "code",
   "execution_count": 13,
   "id": "3e3b41b2",
   "metadata": {},
   "outputs": [
    {
     "data": {
      "text/plain": [
       "0"
      ]
     },
     "execution_count": 13,
     "metadata": {},
     "output_type": "execute_result"
    }
   ],
   "source": [
    "#Check for duplicate data\n",
    "df.duplicated().sum()"
   ]
  },
  {
   "cell_type": "markdown",
   "id": "7e701152",
   "metadata": {},
   "source": [
    "### Check and Handling Column One by One"
   ]
  },
  {
   "cell_type": "markdown",
   "id": "736bc23f",
   "metadata": {},
   "source": [
    "#### \"Date\" Column"
   ]
  },
  {
   "cell_type": "code",
   "execution_count": 14,
   "id": "c3dbea2f",
   "metadata": {},
   "outputs": [],
   "source": [
    "#Convert \"Date\" to datetime\n",
    "df['Date'] = pd.to_datetime(df['Date'])"
   ]
  },
  {
   "cell_type": "markdown",
   "id": "7058762d",
   "metadata": {},
   "source": [
    "#### \"Customer_Gender\" Column"
   ]
  },
  {
   "cell_type": "code",
   "execution_count": 15,
   "id": "39b84709",
   "metadata": {},
   "outputs": [],
   "source": [
    "gender = {\n",
    "    'M': 'Male',\n",
    "    'F': 'Female'\n",
    "}\n",
    "\n",
    "df['Customer_Gender'] = df['Customer_Gender'].replace(gender, regex=False)"
   ]
  },
  {
   "cell_type": "markdown",
   "id": "f41da45c",
   "metadata": {},
   "source": [
    "#### Check All Columns Using Loop"
   ]
  },
  {
   "cell_type": "code",
   "execution_count": 16,
   "id": "0a1f0808",
   "metadata": {},
   "outputs": [
    {
     "name": "stdout",
     "output_type": "stream",
     "text": [
      "Column: Date\n",
      "Total of unique column: 4015\n",
      "Unique values (max 10): <DatetimeArray>\n",
      "['2017-11-26 00:00:00', '2014-11-26 00:00:00', '2019-03-23 00:00:00',\n",
      " '2015-03-23 00:00:00', '2018-05-15 00:00:00', '2023-05-15 00:00:00',\n",
      " '2015-05-22 00:00:00', '2014-05-22 00:00:00', '2021-02-22 00:00:00',\n",
      " '2023-02-22 00:00:00']\n",
      "Length: 10, dtype: datetime64[ns]\n",
      "----------------------------------------\n",
      "Column: Day\n",
      "Total of unique column: 31\n",
      "Unique values (max 10): [26 23 15 22 30  2 17 27 25 13]\n",
      "----------------------------------------\n",
      "Column: Month\n",
      "Total of unique column: 12\n",
      "Unique values (max 10): ['November' 'March' 'May' 'February' 'July' 'August' 'September' 'January'\n",
      " 'December' 'June']\n",
      "----------------------------------------\n",
      "Column: Year\n",
      "Total of unique column: 11\n",
      "Unique values (max 10): [2017 2014 2019 2015 2018 2023 2021 2020 2013 2022]\n",
      "----------------------------------------\n",
      "Column: Customer_Age\n",
      "Total of unique column: 70\n",
      "Unique values (max 10): [19 49 47 35 32 34 29 51 48 43]\n",
      "----------------------------------------\n",
      "Column: Age_Group\n",
      "Total of unique column: 4\n",
      "Unique values (max 10): ['Youth (<25)' 'Adults (35-64)' 'Young Adults (25-34)' 'Seniors (64+)']\n",
      "----------------------------------------\n",
      "Column: Customer_Gender\n",
      "Total of unique column: 2\n",
      "Unique values (max 10): ['Male' 'Female']\n",
      "----------------------------------------\n",
      "Column: Country\n",
      "Total of unique column: 31\n",
      "Unique values (max 10): ['Canada' 'Australia' 'United States' 'Germany' 'France' 'United Kingdom'\n",
      " 'Austria' 'Denmark' 'Slovakia' 'Estonia']\n",
      "----------------------------------------\n",
      "Column: State\n",
      "Total of unique column: 53\n",
      "Unique values (max 10): ['British Columbia' 'New South Wales' 'Victoria' 'Oregon' 'California'\n",
      " 'Saarland' 'Seine Saint Denis' 'Moselle' 'Queensland' 'England']\n",
      "----------------------------------------\n",
      "Column: Product_Category\n",
      "Total of unique column: 3\n",
      "Unique values (max 10): ['Accessories' 'Clothing' 'Bikes']\n",
      "----------------------------------------\n",
      "Column: Sub_Category\n",
      "Total of unique column: 17\n",
      "Unique values (max 10): ['Bike Racks' 'Bike Stands' 'Bottles and Cages' 'Caps' 'Cleaners'\n",
      " 'Fenders' 'Gloves' 'Helmets' 'Hydration Packs' 'Jerseys']\n",
      "----------------------------------------\n",
      "Column: Product\n",
      "Total of unique column: 130\n",
      "Unique values (max 10): ['Hitch Rack - 4-Bike' 'All-Purpose Bike Stand' 'Mountain Bottle Cage'\n",
      " 'Water Bottle - 30 oz.' 'Road Bottle Cage' 'AWC Logo Cap'\n",
      " 'Bike Wash - Dissolver' 'Fender Set - Mountain' 'Half-Finger Gloves, L'\n",
      " 'Half-Finger Gloves, M']\n",
      "----------------------------------------\n",
      "Column: Order_Quantity\n",
      "Total of unique column: 32\n",
      "Unique values (max 10): [ 8 23 20  4  5  2 22 21  7  1]\n",
      "----------------------------------------\n",
      "Column: Unit_Cost\n",
      "Total of unique column: 34\n",
      "Unique values (max 10): [45 59  4  2  3  7  8  9 13 21]\n",
      "----------------------------------------\n",
      "Column: Unit_Price\n",
      "Total of unique column: 36\n",
      "Unique values (max 10): [120 159  10   5   9   8  22  24  35  55]\n",
      "----------------------------------------\n",
      "Column: Profit\n",
      "Total of unique column: 1256\n",
      "Unique values (max 10): [ 590 1366 1188  238  297  199  100 1096 1046  398]\n",
      "----------------------------------------\n",
      "Column: Cost\n",
      "Total of unique column: 360\n",
      "Unique values (max 10): [ 360 1035  900  180  225   90  990  945  315   45]\n",
      "----------------------------------------\n",
      "Column: Revenue\n",
      "Total of unique column: 1876\n",
      "Unique values (max 10): [ 950 2401 2088  418  522  379  190 2086 1991  758]\n",
      "----------------------------------------\n",
      "Column: Size\n",
      "Total of unique column: 4\n",
      "Unique values (max 10): ['Extra Large' 'Small' 'Large' 'Medium']\n",
      "----------------------------------------\n",
      "Column: Color\n",
      "Total of unique column: 5\n",
      "Unique values (max 10): ['White' 'Green' 'Red' 'Blue' 'Black']\n",
      "----------------------------------------\n",
      "Column: Material\n",
      "Total of unique column: 4\n",
      "Unique values (max 10): ['Plastic' 'Steel' 'Carbon Fiber' 'Aluminum']\n",
      "----------------------------------------\n",
      "Column: Warranty\n",
      "Total of unique column: 4\n",
      "Unique values (max 10): ['1 Year' '2 Years' '3 Years' 'Lifetime']\n",
      "----------------------------------------\n",
      "Column: Manufacturer\n",
      "Total of unique column: 4\n",
      "Unique values (max 10): ['Manufacturer A' 'Manufacturer D' 'Manufacturer B' 'Manufacturer C']\n",
      "----------------------------------------\n",
      "Column: Rating\n",
      "Total of unique column: 5\n",
      "Unique values (max 10): [4 5 3 2 1]\n",
      "----------------------------------------\n",
      "Column: Shipping_Weight\n",
      "Total of unique column: 1451\n",
      "Unique values (max 10): [13.25  4.56  8.97  2.56 11.21  8.33 14.05 10.46 14.73 12.28]\n",
      "----------------------------------------\n",
      "Column: Delivery_Time\n",
      "Total of unique column: 9\n",
      "Unique values (max 10): [2 4 1 9 6 8 7 3 5]\n",
      "----------------------------------------\n",
      "Column: Discount\n",
      "Total of unique column: 30\n",
      "Unique values (max 10): [25  1  0 10  6 27 13  8  5  9]\n",
      "----------------------------------------\n",
      "Column: Eco_Friendly\n",
      "Total of unique column: 2\n",
      "Unique values (max 10): [ True False]\n",
      "----------------------------------------\n",
      "Column: Shipping_Cost\n",
      "Total of unique column: 9501\n",
      "Unique values (max 10): [40.58 95.32 74.54 61.87 19.82 10.52 87.29 62.11 72.27  6.96]\n",
      "----------------------------------------\n",
      "Column: Shipping_Company\n",
      "Total of unique column: 5\n",
      "Unique values (max 10): ['GLS' 'Posti' 'DHL' 'FedEx' 'UPS']\n",
      "----------------------------------------\n",
      "Column: Shipping_Type\n",
      "Total of unique column: 4\n",
      "Unique values (max 10): ['Standard' 'Same Day' 'Express' 'Next Day']\n",
      "----------------------------------------\n",
      "Column: Insurance\n",
      "Total of unique column: 3\n",
      "Unique values (max 10): ['Basic' 'Unknown' 'Premium']\n",
      "----------------------------------------\n",
      "Column: Return_Policy\n",
      "Total of unique column: 4\n",
      "Unique values (max 10): ['30 Days' '7 Days' '60 Days' 'No Return']\n",
      "----------------------------------------\n"
     ]
    }
   ],
   "source": [
    "columns = df.columns\n",
    "\n",
    "for col in columns:\n",
    "    print(\"Column:\", col)\n",
    "    print(\"Total of unique column:\", df[col].nunique())\n",
    "    print(\"Unique values (max 10):\", df[col].unique()[:10])\n",
    "    print(\"-\" * 40)"
   ]
  },
  {
   "cell_type": "markdown",
   "id": "a0ec993a",
   "metadata": {},
   "source": [
    "## Exploratory Data Analysis (EDA) & Data Visualizations"
   ]
  },
  {
   "cell_type": "markdown",
   "id": "b3184f8f",
   "metadata": {},
   "source": [
    "### 1. What is the total profit and revenue made each year?"
   ]
  },
  {
   "cell_type": "code",
   "execution_count": 17,
   "id": "e655a5dd",
   "metadata": {},
   "outputs": [
    {
     "data": {
      "text/html": [
       "<div>\n",
       "<style scoped>\n",
       "    .dataframe tbody tr th:only-of-type {\n",
       "        vertical-align: middle;\n",
       "    }\n",
       "\n",
       "    .dataframe tbody tr th {\n",
       "        vertical-align: top;\n",
       "    }\n",
       "\n",
       "    .dataframe thead th {\n",
       "        text-align: right;\n",
       "    }\n",
       "</style>\n",
       "<table border=\"1\" class=\"dataframe\">\n",
       "  <thead>\n",
       "    <tr style=\"text-align: right;\">\n",
       "      <th></th>\n",
       "      <th>Year</th>\n",
       "      <th>Revenue</th>\n",
       "      <th>Profit</th>\n",
       "    </tr>\n",
       "  </thead>\n",
       "  <tbody>\n",
       "    <tr>\n",
       "      <th>0</th>\n",
       "      <td>2013</td>\n",
       "      <td>7782163</td>\n",
       "      <td>2933932</td>\n",
       "    </tr>\n",
       "    <tr>\n",
       "      <th>1</th>\n",
       "      <td>2014</td>\n",
       "      <td>7753872</td>\n",
       "      <td>2929264</td>\n",
       "    </tr>\n",
       "    <tr>\n",
       "      <th>2</th>\n",
       "      <td>2015</td>\n",
       "      <td>7853503</td>\n",
       "      <td>2963825</td>\n",
       "    </tr>\n",
       "    <tr>\n",
       "      <th>3</th>\n",
       "      <td>2016</td>\n",
       "      <td>7971310</td>\n",
       "      <td>3026307</td>\n",
       "    </tr>\n",
       "    <tr>\n",
       "      <th>4</th>\n",
       "      <td>2017</td>\n",
       "      <td>7862502</td>\n",
       "      <td>2963335</td>\n",
       "    </tr>\n",
       "    <tr>\n",
       "      <th>5</th>\n",
       "      <td>2018</td>\n",
       "      <td>7595956</td>\n",
       "      <td>2867297</td>\n",
       "    </tr>\n",
       "    <tr>\n",
       "      <th>6</th>\n",
       "      <td>2019</td>\n",
       "      <td>7865723</td>\n",
       "      <td>2980984</td>\n",
       "    </tr>\n",
       "    <tr>\n",
       "      <th>7</th>\n",
       "      <td>2020</td>\n",
       "      <td>7550455</td>\n",
       "      <td>2870185</td>\n",
       "    </tr>\n",
       "    <tr>\n",
       "      <th>8</th>\n",
       "      <td>2021</td>\n",
       "      <td>7671898</td>\n",
       "      <td>2895217</td>\n",
       "    </tr>\n",
       "    <tr>\n",
       "      <th>9</th>\n",
       "      <td>2022</td>\n",
       "      <td>7592783</td>\n",
       "      <td>2839784</td>\n",
       "    </tr>\n",
       "    <tr>\n",
       "      <th>10</th>\n",
       "      <td>2023</td>\n",
       "      <td>7798033</td>\n",
       "      <td>2959821</td>\n",
       "    </tr>\n",
       "  </tbody>\n",
       "</table>\n",
       "</div>"
      ],
      "text/plain": [
       "    Year  Revenue   Profit\n",
       "0   2013  7782163  2933932\n",
       "1   2014  7753872  2929264\n",
       "2   2015  7853503  2963825\n",
       "3   2016  7971310  3026307\n",
       "4   2017  7862502  2963335\n",
       "5   2018  7595956  2867297\n",
       "6   2019  7865723  2980984\n",
       "7   2020  7550455  2870185\n",
       "8   2021  7671898  2895217\n",
       "9   2022  7592783  2839784\n",
       "10  2023  7798033  2959821"
      ]
     },
     "execution_count": 17,
     "metadata": {},
     "output_type": "execute_result"
    }
   ],
   "source": [
    "df1 = df.groupby('Year')[['Revenue', 'Profit']].sum().reset_index()\n",
    "df1"
   ]
  },
  {
   "cell_type": "code",
   "execution_count": 18,
   "id": "c4e9fda6",
   "metadata": {},
   "outputs": [
    {
     "data": {
      "image/png": "[encoded data removed]",
      "text/plain": [
       "<Figure size 720x360 with 1 Axes>"
      ]
     },
     "metadata": {},
     "output_type": "display_data"
    }
   ],
   "source": [
    "#Set style\n",
    "sns.set_style(\"white\")\n",
    "plt.figure(figsize=(10,5))\n",
    "\n",
    "plt.bar(df1['Year'], df1['Revenue'], color='#81c784', label='Revenue') #Bar chart revenue\n",
    "plt.plot(df1['Year'].values, df1['Profit'].values, color='#1b5e20', marker='o', label='Profit') #Line chart profit\n",
    "\n",
    "#Label and title\n",
    "plt.title(\"Total Revenue and Profit by Year\")\n",
    "plt.xlabel(\"Year\")\n",
    "plt.legend(loc='center right', bbox_to_anchor=(1.15, 0.5))\n",
    "plt.xticks(df1['Year'])\n",
    "plt.tight_layout()\n",
    "\n",
    "#Save the picture\n",
    "plt.savefig(\"plot1.png\", dpi=300, bbox_inches='tight')\n",
    "\n",
    "plt.show()"
   ]
  },
  {
   "cell_type": "markdown",
   "id": "f7706153",
   "metadata": {},
   "source": [
    "### 2. Which age group and gender contribute the highest revenue?"
   ]
  },
  {
   "cell_type": "code",
   "execution_count": 19,
   "id": "96ceba06",
   "metadata": {},
   "outputs": [
    {
     "data": {
      "text/html": [
       "<div>\n",
       "<style scoped>\n",
       "    .dataframe tbody tr th:only-of-type {\n",
       "        vertical-align: middle;\n",
       "    }\n",
       "\n",
       "    .dataframe tbody tr th {\n",
       "        vertical-align: top;\n",
       "    }\n",
       "\n",
       "    .dataframe thead th {\n",
       "        text-align: right;\n",
       "    }\n",
       "</style>\n",
       "<table border=\"1\" class=\"dataframe\">\n",
       "  <thead>\n",
       "    <tr style=\"text-align: right;\">\n",
       "      <th></th>\n",
       "      <th>Age_Group</th>\n",
       "      <th>Customer_Gender</th>\n",
       "      <th>Revenue</th>\n",
       "    </tr>\n",
       "  </thead>\n",
       "  <tbody>\n",
       "    <tr>\n",
       "      <th>0</th>\n",
       "      <td>Adults (35-64)</td>\n",
       "      <td>Female</td>\n",
       "      <td>21273892</td>\n",
       "    </tr>\n",
       "    <tr>\n",
       "      <th>1</th>\n",
       "      <td>Adults (35-64)</td>\n",
       "      <td>Male</td>\n",
       "      <td>21328097</td>\n",
       "    </tr>\n",
       "    <tr>\n",
       "      <th>2</th>\n",
       "      <td>Seniors (64+)</td>\n",
       "      <td>Female</td>\n",
       "      <td>130050</td>\n",
       "    </tr>\n",
       "    <tr>\n",
       "      <th>3</th>\n",
       "      <td>Seniors (64+)</td>\n",
       "      <td>Male</td>\n",
       "      <td>177992</td>\n",
       "    </tr>\n",
       "    <tr>\n",
       "      <th>4</th>\n",
       "      <td>Young Adults (25-34)</td>\n",
       "      <td>Female</td>\n",
       "      <td>15197837</td>\n",
       "    </tr>\n",
       "    <tr>\n",
       "      <th>5</th>\n",
       "      <td>Young Adults (25-34)</td>\n",
       "      <td>Male</td>\n",
       "      <td>15466425</td>\n",
       "    </tr>\n",
       "    <tr>\n",
       "      <th>6</th>\n",
       "      <td>Youth (&lt;25)</td>\n",
       "      <td>Female</td>\n",
       "      <td>5342158</td>\n",
       "    </tr>\n",
       "    <tr>\n",
       "      <th>7</th>\n",
       "      <td>Youth (&lt;25)</td>\n",
       "      <td>Male</td>\n",
       "      <td>6381747</td>\n",
       "    </tr>\n",
       "  </tbody>\n",
       "</table>\n",
       "</div>"
      ],
      "text/plain": [
       "              Age_Group Customer_Gender   Revenue\n",
       "0        Adults (35-64)          Female  21273892\n",
       "1        Adults (35-64)            Male  21328097\n",
       "2         Seniors (64+)          Female    130050\n",
       "3         Seniors (64+)            Male    177992\n",
       "4  Young Adults (25-34)          Female  15197837\n",
       "5  Young Adults (25-34)            Male  15466425\n",
       "6           Youth (<25)          Female   5342158\n",
       "7           Youth (<25)            Male   6381747"
      ]
     },
     "execution_count": 19,
     "metadata": {},
     "output_type": "execute_result"
    }
   ],
   "source": [
    "df2 = df.groupby(['Age_Group', 'Customer_Gender'])['Revenue'].sum().reset_index()\n",
    "df2"
   ]
  },
  {
   "cell_type": "code",
   "execution_count": 20,
   "id": "11ff48b2",
   "metadata": {},
   "outputs": [
    {
     "data": {
      "image/png": "[encoded data removed]",
      "text/plain": [
       "<Figure size 720x360 with 1 Axes>"
      ]
     },
     "metadata": {},
     "output_type": "display_data"
    }
   ],
   "source": [
    "#Plot\n",
    "age_order = ['Youth (<25)', 'Young Adults (25-34)', 'Adults (35-64)', 'Seniors (64+)']\n",
    "df2['Age_Group'] = pd.Categorical(df2['Age_Group'], categories=age_order, ordered=True)\n",
    "\n",
    "plt.figure(figsize=(10,5))\n",
    "sns.barplot(data=df2, x='Age_Group', y='Revenue', hue='Customer_Gender', palette=['#43a047', '#81c784'])\n",
    "plt.title(\"Revenue by Age Group and Gender\")\n",
    "plt.xlabel(\"Age Group\")\n",
    "plt.legend(loc='center right', bbox_to_anchor=(1.15, 0.5))\n",
    "plt.tight_layout()\n",
    "\n",
    "#Save the picture\n",
    "plt.savefig(\"plot2.png\", dpi=300, bbox_inches='tight')\n",
    "\n",
    "plt.show()"
   ]
  },
  {
   "cell_type": "markdown",
   "id": "97d0f9d5",
   "metadata": {},
   "source": [
    "### 3. Which product category contribute the highest revenue?"
   ]
  },
  {
   "cell_type": "code",
   "execution_count": 21,
   "id": "2a5ac067",
   "metadata": {},
   "outputs": [
    {
     "data": {
      "text/html": [
       "<div>\n",
       "<style scoped>\n",
       "    .dataframe tbody tr th:only-of-type {\n",
       "        vertical-align: middle;\n",
       "    }\n",
       "\n",
       "    .dataframe tbody tr th {\n",
       "        vertical-align: top;\n",
       "    }\n",
       "\n",
       "    .dataframe thead th {\n",
       "        text-align: right;\n",
       "    }\n",
       "</style>\n",
       "<table border=\"1\" class=\"dataframe\">\n",
       "  <thead>\n",
       "    <tr style=\"text-align: right;\">\n",
       "      <th></th>\n",
       "      <th>Product_Category</th>\n",
       "      <th>Revenue</th>\n",
       "    </tr>\n",
       "  </thead>\n",
       "  <tbody>\n",
       "    <tr>\n",
       "      <th>0</th>\n",
       "      <td>Accessories</td>\n",
       "      <td>15119947</td>\n",
       "    </tr>\n",
       "    <tr>\n",
       "      <th>1</th>\n",
       "      <td>Bikes</td>\n",
       "      <td>61802247</td>\n",
       "    </tr>\n",
       "    <tr>\n",
       "      <th>2</th>\n",
       "      <td>Clothing</td>\n",
       "      <td>8376004</td>\n",
       "    </tr>\n",
       "  </tbody>\n",
       "</table>\n",
       "</div>"
      ],
      "text/plain": [
       "  Product_Category   Revenue\n",
       "0      Accessories  15119947\n",
       "1            Bikes  61802247\n",
       "2         Clothing   8376004"
      ]
     },
     "execution_count": 21,
     "metadata": {},
     "output_type": "execute_result"
    }
   ],
   "source": [
    "df3 = df.groupby('Product_Category')['Revenue'].sum().reset_index()\n",
    "df3"
   ]
  },
  {
   "cell_type": "code",
   "execution_count": 22,
   "id": "c57340ce",
   "metadata": {},
   "outputs": [
    {
     "data": {
      "image/png": "[encoded data removed]",
      "text/plain": [
       "<Figure size 504x360 with 1 Axes>"
      ]
     },
     "metadata": {},
     "output_type": "display_data"
    }
   ],
   "source": [
    "#Plot\n",
    "plt.figure(figsize=(7,5))\n",
    "plt.bar(df3['Product_Category'], df3['Revenue'], color='#66bb6a')\n",
    "plt.title(\"Total Revenue by Product Category\")\n",
    "plt.xlabel(\"Product Category\")\n",
    "plt.tight_layout()\n",
    "\n",
    "#Save the picture\n",
    "plt.savefig(\"plot3.png\", dpi=300, bbox_inches='tight')\n",
    "\n",
    "plt.show()"
   ]
  },
  {
   "cell_type": "markdown",
   "id": "d1349ced",
   "metadata": {},
   "source": [
    "### 4. Which are the top 10 countries contributing the most profit?"
   ]
  },
  {
   "cell_type": "code",
   "execution_count": 23,
   "id": "ce0c1643",
   "metadata": {},
   "outputs": [
    {
     "data": {
      "text/html": [
       "<div>\n",
       "<style scoped>\n",
       "    .dataframe tbody tr th:only-of-type {\n",
       "        vertical-align: middle;\n",
       "    }\n",
       "\n",
       "    .dataframe tbody tr th {\n",
       "        vertical-align: top;\n",
       "    }\n",
       "\n",
       "    .dataframe thead th {\n",
       "        text-align: right;\n",
       "    }\n",
       "</style>\n",
       "<table border=\"1\" class=\"dataframe\">\n",
       "  <thead>\n",
       "    <tr style=\"text-align: right;\">\n",
       "      <th></th>\n",
       "      <th>Country</th>\n",
       "      <th>Profit</th>\n",
       "    </tr>\n",
       "  </thead>\n",
       "  <tbody>\n",
       "    <tr>\n",
       "      <th>0</th>\n",
       "      <td>United States</td>\n",
       "      <td>11073644</td>\n",
       "    </tr>\n",
       "    <tr>\n",
       "      <th>1</th>\n",
       "      <td>Australia</td>\n",
       "      <td>6776030</td>\n",
       "    </tr>\n",
       "    <tr>\n",
       "      <th>2</th>\n",
       "      <td>United Kingdom</td>\n",
       "      <td>4413853</td>\n",
       "    </tr>\n",
       "    <tr>\n",
       "      <th>3</th>\n",
       "      <td>Canada</td>\n",
       "      <td>3717296</td>\n",
       "    </tr>\n",
       "    <tr>\n",
       "      <th>4</th>\n",
       "      <td>Germany</td>\n",
       "      <td>3359995</td>\n",
       "    </tr>\n",
       "    <tr>\n",
       "      <th>5</th>\n",
       "      <td>France</td>\n",
       "      <td>2880282</td>\n",
       "    </tr>\n",
       "    <tr>\n",
       "      <th>6</th>\n",
       "      <td>Lithuania</td>\n",
       "      <td>2257</td>\n",
       "    </tr>\n",
       "    <tr>\n",
       "      <th>7</th>\n",
       "      <td>Finland</td>\n",
       "      <td>1008</td>\n",
       "    </tr>\n",
       "    <tr>\n",
       "      <th>8</th>\n",
       "      <td>Greece</td>\n",
       "      <td>760</td>\n",
       "    </tr>\n",
       "    <tr>\n",
       "      <th>9</th>\n",
       "      <td>Netherlands</td>\n",
       "      <td>750</td>\n",
       "    </tr>\n",
       "  </tbody>\n",
       "</table>\n",
       "</div>"
      ],
      "text/plain": [
       "          Country    Profit\n",
       "0   United States  11073644\n",
       "1       Australia   6776030\n",
       "2  United Kingdom   4413853\n",
       "3          Canada   3717296\n",
       "4         Germany   3359995\n",
       "5          France   2880282\n",
       "6       Lithuania      2257\n",
       "7         Finland      1008\n",
       "8          Greece       760\n",
       "9     Netherlands       750"
      ]
     },
     "execution_count": 23,
     "metadata": {},
     "output_type": "execute_result"
    }
   ],
   "source": [
    "df4 = df.groupby('Country')['Profit'].sum().sort_values(ascending=False).head(10).reset_index()\n",
    "df4"
   ]
  },
  {
   "cell_type": "code",
   "execution_count": 24,
   "id": "d531e6c4",
   "metadata": {},
   "outputs": [
    {
     "data": {
      "image/png": "[encoded data removed]",
      "text/plain": [
       "<Figure size 720x360 with 1 Axes>"
      ]
     },
     "metadata": {},
     "output_type": "display_data"
    }
   ],
   "source": [
    "#Plot\n",
    "plt.figure(figsize=(10,5))\n",
    "plt.bar(df4['Country'], df4['Profit'], color='#66bb6a')\n",
    "plt.yscale('log')\n",
    "plt.title(\"Top 10 Most Profitable Countries\")\n",
    "plt.xlabel(\"Country\")\n",
    "plt.tight_layout()\n",
    "\n",
    "#Save the picture\n",
    "plt.savefig(\"plot4.png\", dpi=300, bbox_inches='tight')\n",
    "\n",
    "plt.show()"
   ]
  },
  {
   "cell_type": "markdown",
   "id": "20f9a994",
   "metadata": {},
   "source": [
    "### 5. What are the top 10 best-selling products?"
   ]
  },
  {
   "cell_type": "code",
   "execution_count": 25,
   "id": "83da6ad1",
   "metadata": {},
   "outputs": [
    {
     "data": {
      "text/html": [
       "<div>\n",
       "<style scoped>\n",
       "    .dataframe tbody tr th:only-of-type {\n",
       "        vertical-align: middle;\n",
       "    }\n",
       "\n",
       "    .dataframe tbody tr th {\n",
       "        vertical-align: top;\n",
       "    }\n",
       "\n",
       "    .dataframe thead th {\n",
       "        text-align: right;\n",
       "    }\n",
       "</style>\n",
       "<table border=\"1\" class=\"dataframe\">\n",
       "  <thead>\n",
       "    <tr style=\"text-align: right;\">\n",
       "      <th></th>\n",
       "      <th>Product</th>\n",
       "      <th>Order_Quantity</th>\n",
       "    </tr>\n",
       "  </thead>\n",
       "  <tbody>\n",
       "    <tr>\n",
       "      <th>0</th>\n",
       "      <td>Water Bottle - 30 oz.</td>\n",
       "      <td>164134</td>\n",
       "    </tr>\n",
       "    <tr>\n",
       "      <th>1</th>\n",
       "      <td>Patch Kit/8 Patches</td>\n",
       "      <td>157614</td>\n",
       "    </tr>\n",
       "    <tr>\n",
       "      <th>2</th>\n",
       "      <td>Mountain Tire Tube</td>\n",
       "      <td>102792</td>\n",
       "    </tr>\n",
       "    <tr>\n",
       "      <th>3</th>\n",
       "      <td>AWC Logo Cap</td>\n",
       "      <td>67334</td>\n",
       "    </tr>\n",
       "    <tr>\n",
       "      <th>4</th>\n",
       "      <td>Sport-100 Helmet, Red</td>\n",
       "      <td>63691</td>\n",
       "    </tr>\n",
       "    <tr>\n",
       "      <th>5</th>\n",
       "      <td>Road Tire Tube</td>\n",
       "      <td>62296</td>\n",
       "    </tr>\n",
       "    <tr>\n",
       "      <th>6</th>\n",
       "      <td>Sport-100 Helmet, Black</td>\n",
       "      <td>62131</td>\n",
       "    </tr>\n",
       "    <tr>\n",
       "      <th>7</th>\n",
       "      <td>Fender Set - Mountain</td>\n",
       "      <td>62118</td>\n",
       "    </tr>\n",
       "    <tr>\n",
       "      <th>8</th>\n",
       "      <td>Touring Tire Tube</td>\n",
       "      <td>56802</td>\n",
       "    </tr>\n",
       "    <tr>\n",
       "      <th>9</th>\n",
       "      <td>Sport-100 Helmet, Blue</td>\n",
       "      <td>55895</td>\n",
       "    </tr>\n",
       "  </tbody>\n",
       "</table>\n",
       "</div>"
      ],
      "text/plain": [
       "                   Product  Order_Quantity\n",
       "0    Water Bottle - 30 oz.          164134\n",
       "1      Patch Kit/8 Patches          157614\n",
       "2       Mountain Tire Tube          102792\n",
       "3             AWC Logo Cap           67334\n",
       "4    Sport-100 Helmet, Red           63691\n",
       "5           Road Tire Tube           62296\n",
       "6  Sport-100 Helmet, Black           62131\n",
       "7    Fender Set - Mountain           62118\n",
       "8        Touring Tire Tube           56802\n",
       "9   Sport-100 Helmet, Blue           55895"
      ]
     },
     "execution_count": 25,
     "metadata": {},
     "output_type": "execute_result"
    }
   ],
   "source": [
    "df5 = df.groupby('Product')['Order_Quantity'].sum().sort_values(ascending=False).head(10).reset_index()\n",
    "df5"
   ]
  },
  {
   "cell_type": "code",
   "execution_count": 26,
   "id": "48dd1980",
   "metadata": {},
   "outputs": [
    {
     "data": {
      "image/png": "[encoded data removed]",
      "text/plain": [
       "<Figure size 720x360 with 1 Axes>"
      ]
     },
     "metadata": {},
     "output_type": "display_data"
    }
   ],
   "source": [
    "#Plot\n",
    "plt.figure(figsize=(10,5))\n",
    "plt.barh(df5['Product'][::-1], df5['Order_Quantity'][::-1], color='#66bb6a')\n",
    "plt.title(\"Top 10 Best-Selling Products\")\n",
    "plt.xlabel(\"Order Quantity\")\n",
    "plt.ylabel(\"Product\")\n",
    "plt.tight_layout()\n",
    "\n",
    "#Save the picture\n",
    "plt.savefig(\"plot5.png\", dpi=300, bbox_inches='tight')\n",
    "\n",
    "plt.show()"
   ]
  },
  {
   "cell_type": "markdown",
   "id": "f92f8029",
   "metadata": {},
   "source": [
    "### 6. Which shipping method is used the most?"
   ]
  },
  {
   "cell_type": "code",
   "execution_count": 27,
   "id": "64549ad4",
   "metadata": {},
   "outputs": [
    {
     "data": {
      "text/plain": [
       "Shipping_Type\n",
       "Same Day    28312\n",
       "Standard    28311\n",
       "Next Day    28291\n",
       "Express     28147\n",
       "Name: count, dtype: int64"
      ]
     },
     "execution_count": 27,
     "metadata": {},
     "output_type": "execute_result"
    }
   ],
   "source": [
    "df6 = df['Shipping_Type'].value_counts().sort_values(ascending=False)\n",
    "df6"
   ]
  },
  {
   "cell_type": "code",
   "execution_count": 28,
   "id": "e860ff5c",
   "metadata": {},
   "outputs": [
    {
     "data": {
      "image/png": "[encoded data removed]",
      "text/plain": [
       "<Figure size 504x360 with 1 Axes>"
      ]
     },
     "metadata": {},
     "output_type": "display_data"
    }
   ],
   "source": [
    "#Plot\n",
    "plt.figure(figsize=(7,5))\n",
    "df6.plot(kind='bar', color='#66bb6a')\n",
    "plt.title(\"Most Frequently Used Shipping Method\")\n",
    "plt.xlabel(\"Shipping Method\")\n",
    "plt.xticks(rotation=0)\n",
    "plt.tight_layout()\n",
    "\n",
    "#Save the picture\n",
    "plt.savefig(\"plot6.png\", dpi=300, bbox_inches='tight')\n",
    "\n",
    "plt.show()"
   ]
  },
  {
   "cell_type": "markdown",
   "id": "3184bc67",
   "metadata": {},
   "source": [
    "### 7. What are the correlations between key sales performance metrics?"
   ]
  },
  {
   "cell_type": "code",
   "execution_count": 29,
   "id": "d29e511b",
   "metadata": {},
   "outputs": [
    {
     "data": {
      "image/png": "[encoded data removed]",
      "text/plain": [
       "<Figure size 720x360 with 2 Axes>"
      ]
     },
     "metadata": {},
     "output_type": "display_data"
    }
   ],
   "source": [
    "columns = ['Order_Quantity', 'Unit_Cost', 'Unit_Price', 'Profit', 'Cost', 'Revenue', 'Rating', 'Delivery_Time', 'Discount', 'Shipping_Cost']\n",
    "heatmap_df = df[columns]\n",
    "\n",
    "plt.figure(figsize=(10,5))\n",
    "sns.heatmap(data=heatmap_df.corr(), annot=True, cmap='Greens')\n",
    "plt.title(\"Correlation Heatmap of Key Business Metrics\")\n",
    "\n",
    "#Save the picture\n",
    "plt.savefig(\"plot8.png\", dpi=300, bbox_inches='tight')\n",
    "\n",
    "plt.show()"
   ]
  },
  {
   "cell_type": "code",
   "execution_count": null,
   "id": "5855ffee",
   "metadata": {},
   "outputs": [],
   "source": []
  },
  {
   "cell_type": "code",
   "execution_count": null,
   "id": "41e02cc3",
   "metadata": {},
   "outputs": [],
   "source": []
  },
  {
   "cell_type": "code",
   "execution_count": null,
   "id": "24af170e",
   "metadata": {},
   "outputs": [],
   "source": []
  },
  {
   "cell_type": "code",
   "execution_count": null,
   "id": "e60da212",
   "metadata": {},
   "outputs": [],
   "source": []
  }
 ],
 "metadata": {
  "kernelspec": {
   "display_name": "Python 3",
   "language": "python",
   "name": "python3"
  },
  "language_info": {
   "codemirror_mode": {
    "name": "ipython",
    "version": 3
   },
   "file_extension": ".py",
   "mimetype": "text/x-python",
   "name": "python",
   "nbconvert_exporter": "python",
   "pygments_lexer": "ipython3",
   "version": "3.8.8"
  }
 },
 "nbformat": 4,
 "nbformat_minor": 5
}
