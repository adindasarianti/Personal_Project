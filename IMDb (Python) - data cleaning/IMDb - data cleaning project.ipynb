{
 "cells": [
  {
   "cell_type": "markdown",
   "id": "95b4c48f",
   "metadata": {},
   "source": [
    "# Data Cleaning Project\n",
    "This notebook presents the data cleaning process for a dataset of IMDb. I got the dataset from [Kaggle](https://www.kaggle.com/datasets/davidfuenteherraiz/messy-imdb-dataset/data). It contains informartion about Title, Release Year, Genre, Content Rating, etc. The goal is to clean and organize the data so it's ready for further analysis. In this notebook, I'll go through the cleaning steps I took - such as handling missing values,removing duplicates, and fixing data formats."
   ]
  },
  {
   "cell_type": "code",
   "execution_count": 1,
   "id": "fc636805",
   "metadata": {},
   "outputs": [],
   "source": [
    "#Importing Libraries\n",
    "import numpy as np\n",
    "import pandas as pd\n",
    "\n",
    "import warnings\n",
    "warnings.filterwarnings('ignore')"
   ]
  },
  {
   "cell_type": "code",
   "execution_count": 2,
   "id": "d8bea671",
   "metadata": {},
   "outputs": [],
   "source": [
    "#Loading the Dataset\n",
    "import chardet\n",
    "\n",
    "with open('messy_IMDB_dataset.csv', 'rb') as f:\n",
    "    rawdata = f.read()\n",
    "    result = chardet.detect(rawdata)\n",
    "    encoding = result['encoding']\n",
    "\n",
    "IMDb = pd.read_csv('messy_IMDB_dataset.csv', encoding = encoding, sep=';')"
   ]
  },
  {
   "cell_type": "code",
   "execution_count": 3,
   "id": "9fdac14a",
   "metadata": {},
   "outputs": [
    {
     "data": {
      "text/html": [
       "<div>\n",
       "<style scoped>\n",
       "    .dataframe tbody tr th:only-of-type {\n",
       "        vertical-align: middle;\n",
       "    }\n",
       "\n",
       "    .dataframe tbody tr th {\n",
       "        vertical-align: top;\n",
       "    }\n",
       "\n",
       "    .dataframe thead th {\n",
       "        text-align: right;\n",
       "    }\n",
       "</style>\n",
       "<table border=\"1\" class=\"dataframe\">\n",
       "  <thead>\n",
       "    <tr style=\"text-align: right;\">\n",
       "      <th></th>\n",
       "      <th>IMBD title ID</th>\n",
       "      <th>Original titlÊ</th>\n",
       "      <th>Release year</th>\n",
       "      <th>Genrë¨</th>\n",
       "      <th>Duration</th>\n",
       "      <th>Country</th>\n",
       "      <th>Content Rating</th>\n",
       "      <th>Director</th>\n",
       "      <th>Unnamed: 8</th>\n",
       "      <th>Income</th>\n",
       "      <th>Votes</th>\n",
       "      <th>Score</th>\n",
       "    </tr>\n",
       "  </thead>\n",
       "  <tbody>\n",
       "    <tr>\n",
       "      <th>0</th>\n",
       "      <td>tt0111161</td>\n",
       "      <td>The Shawshank Redemption</td>\n",
       "      <td>1995-02-10</td>\n",
       "      <td>Drama</td>\n",
       "      <td>142</td>\n",
       "      <td>USA</td>\n",
       "      <td>R</td>\n",
       "      <td>Frank Darabont</td>\n",
       "      <td>NaN</td>\n",
       "      <td>$ 28815245</td>\n",
       "      <td>2.278.845</td>\n",
       "      <td>9.3</td>\n",
       "    </tr>\n",
       "    <tr>\n",
       "      <th>1</th>\n",
       "      <td>tt0068646</td>\n",
       "      <td>The Godfather</td>\n",
       "      <td>09 21 1972</td>\n",
       "      <td>Crime, Drama</td>\n",
       "      <td>175</td>\n",
       "      <td>USA</td>\n",
       "      <td>R</td>\n",
       "      <td>Francis Ford Coppola</td>\n",
       "      <td>NaN</td>\n",
       "      <td>$ 246120974</td>\n",
       "      <td>1.572.674</td>\n",
       "      <td>9.2</td>\n",
       "    </tr>\n",
       "    <tr>\n",
       "      <th>2</th>\n",
       "      <td>tt0468569</td>\n",
       "      <td>The Dark Knight</td>\n",
       "      <td>23 -07-2008</td>\n",
       "      <td>Action, Crime, Drama</td>\n",
       "      <td>152</td>\n",
       "      <td>US</td>\n",
       "      <td>PG-13</td>\n",
       "      <td>Christopher Nolan</td>\n",
       "      <td>NaN</td>\n",
       "      <td>$ 1005455211</td>\n",
       "      <td>2.241.615</td>\n",
       "      <td>9.</td>\n",
       "    </tr>\n",
       "    <tr>\n",
       "      <th>3</th>\n",
       "      <td>tt0071562</td>\n",
       "      <td>The Godfather: Part II</td>\n",
       "      <td>1975-09-25</td>\n",
       "      <td>Crime, Drama</td>\n",
       "      <td>220</td>\n",
       "      <td>USA</td>\n",
       "      <td>R</td>\n",
       "      <td>Francis Ford Coppola</td>\n",
       "      <td>NaN</td>\n",
       "      <td>$ 4o8,035,783</td>\n",
       "      <td>1.098.714</td>\n",
       "      <td>9,.0</td>\n",
       "    </tr>\n",
       "    <tr>\n",
       "      <th>4</th>\n",
       "      <td>tt0110912</td>\n",
       "      <td>Pulp Fiction</td>\n",
       "      <td>1994-10-28</td>\n",
       "      <td>Crime, Drama</td>\n",
       "      <td></td>\n",
       "      <td>USA</td>\n",
       "      <td>R</td>\n",
       "      <td>Quentin Tarantino</td>\n",
       "      <td>NaN</td>\n",
       "      <td>$ 222831817</td>\n",
       "      <td>1.780.147</td>\n",
       "      <td>8,9f</td>\n",
       "    </tr>\n",
       "  </tbody>\n",
       "</table>\n",
       "</div>"
      ],
      "text/plain": [
       "  IMBD title ID            Original titlÊ  Release year                Genrë¨  \\\n",
       "0     tt0111161  The Shawshank Redemption    1995-02-10                 Drama   \n",
       "1     tt0068646             The Godfather    09 21 1972          Crime, Drama   \n",
       "2     tt0468569           The Dark Knight   23 -07-2008  Action, Crime, Drama   \n",
       "3     tt0071562    The Godfather: Part II    1975-09-25          Crime, Drama   \n",
       "4     tt0110912              Pulp Fiction    1994-10-28          Crime, Drama   \n",
       "\n",
       "  Duration Country Content Rating              Director  Unnamed: 8  \\\n",
       "0      142     USA              R        Frank Darabont         NaN   \n",
       "1      175     USA              R  Francis Ford Coppola         NaN   \n",
       "2      152      US          PG-13     Christopher Nolan         NaN   \n",
       "3      220     USA              R  Francis Ford Coppola         NaN   \n",
       "4              USA              R     Quentin Tarantino         NaN   \n",
       "\n",
       "          Income     Votes  Score  \n",
       "0     $ 28815245  2.278.845   9.3  \n",
       "1    $ 246120974  1.572.674   9.2  \n",
       "2   $ 1005455211  2.241.615    9.  \n",
       "3  $ 4o8,035,783  1.098.714  9,.0  \n",
       "4    $ 222831817  1.780.147  8,9f  "
      ]
     },
     "execution_count": 3,
     "metadata": {},
     "output_type": "execute_result"
    }
   ],
   "source": [
    "#Display the first 5 rows of the dataset\n",
    "IMDb.head()"
   ]
  },
  {
   "cell_type": "code",
   "execution_count": 4,
   "id": "9109b17d",
   "metadata": {},
   "outputs": [
    {
     "data": {
      "text/plain": [
       "Index(['IMBD title ID', 'Original titlÊ', 'Release year', 'Genrë¨', 'Duration',\n",
       "       'Country', 'Content Rating', 'Director', 'Unnamed: 8', 'Income',\n",
       "       ' Votes ', 'Score'],\n",
       "      dtype='object')"
      ]
     },
     "execution_count": 4,
     "metadata": {},
     "output_type": "execute_result"
    }
   ],
   "source": [
    "#Checking column names\n",
    "IMDb.columns"
   ]
  },
  {
   "cell_type": "code",
   "execution_count": 5,
   "id": "f6df9790",
   "metadata": {},
   "outputs": [],
   "source": [
    "#Rename columns to standardize format and fix typos\n",
    "IMDb.rename(columns={\n",
    "    'IMBD title ID': 'IMDb Title ID',\n",
    "    'Original titlÊ': 'Original Title',\n",
    "    'Release year': 'Release Year',\n",
    "    'Genrë¨': 'Genre',\n",
    "    ' Votes ': 'Votes'\n",
    "}, inplace=True)"
   ]
  },
  {
   "cell_type": "code",
   "execution_count": 6,
   "id": "05481226",
   "metadata": {},
   "outputs": [
    {
     "name": "stdout",
     "output_type": "stream",
     "text": [
      "<class 'pandas.core.frame.DataFrame'>\n",
      "RangeIndex: 101 entries, 0 to 100\n",
      "Data columns (total 12 columns):\n",
      " #   Column          Non-Null Count  Dtype  \n",
      "---  ------          --------------  -----  \n",
      " 0   IMDb Title ID   100 non-null    object \n",
      " 1   Original Title  100 non-null    object \n",
      " 2   Release Year    100 non-null    object \n",
      " 3   Genre           100 non-null    object \n",
      " 4   Duration        99 non-null     object \n",
      " 5   Country         100 non-null    object \n",
      " 6   Content Rating  77 non-null     object \n",
      " 7   Director        100 non-null    object \n",
      " 8   Unnamed: 8      0 non-null      float64\n",
      " 9   Income          100 non-null    object \n",
      " 10  Votes           100 non-null    object \n",
      " 11  Score           100 non-null    object \n",
      "dtypes: float64(1), object(11)\n",
      "memory usage: 9.6+ KB\n"
     ]
    }
   ],
   "source": [
    "#Get a concise summary of the DataFrame\n",
    "IMDb.info()"
   ]
  },
  {
   "cell_type": "code",
   "execution_count": 7,
   "id": "004db05e",
   "metadata": {},
   "outputs": [
    {
     "data": {
      "text/html": [
       "<div>\n",
       "<style scoped>\n",
       "    .dataframe tbody tr th:only-of-type {\n",
       "        vertical-align: middle;\n",
       "    }\n",
       "\n",
       "    .dataframe tbody tr th {\n",
       "        vertical-align: top;\n",
       "    }\n",
       "\n",
       "    .dataframe thead th {\n",
       "        text-align: right;\n",
       "    }\n",
       "</style>\n",
       "<table border=\"1\" class=\"dataframe\">\n",
       "  <thead>\n",
       "    <tr style=\"text-align: right;\">\n",
       "      <th></th>\n",
       "      <th>Unnamed: 8</th>\n",
       "    </tr>\n",
       "  </thead>\n",
       "  <tbody>\n",
       "    <tr>\n",
       "      <th>count</th>\n",
       "      <td>0.0</td>\n",
       "    </tr>\n",
       "    <tr>\n",
       "      <th>mean</th>\n",
       "      <td>NaN</td>\n",
       "    </tr>\n",
       "    <tr>\n",
       "      <th>std</th>\n",
       "      <td>NaN</td>\n",
       "    </tr>\n",
       "    <tr>\n",
       "      <th>min</th>\n",
       "      <td>NaN</td>\n",
       "    </tr>\n",
       "    <tr>\n",
       "      <th>25%</th>\n",
       "      <td>NaN</td>\n",
       "    </tr>\n",
       "    <tr>\n",
       "      <th>50%</th>\n",
       "      <td>NaN</td>\n",
       "    </tr>\n",
       "    <tr>\n",
       "      <th>75%</th>\n",
       "      <td>NaN</td>\n",
       "    </tr>\n",
       "    <tr>\n",
       "      <th>max</th>\n",
       "      <td>NaN</td>\n",
       "    </tr>\n",
       "  </tbody>\n",
       "</table>\n",
       "</div>"
      ],
      "text/plain": [
       "       Unnamed: 8\n",
       "count         0.0\n",
       "mean          NaN\n",
       "std           NaN\n",
       "min           NaN\n",
       "25%           NaN\n",
       "50%           NaN\n",
       "75%           NaN\n",
       "max           NaN"
      ]
     },
     "execution_count": 7,
     "metadata": {},
     "output_type": "execute_result"
    }
   ],
   "source": [
    "#Summary statistics for numerical columns\n",
    "IMDb.describe()"
   ]
  },
  {
   "cell_type": "markdown",
   "id": "8496d304",
   "metadata": {},
   "source": [
    "## Handling Missing Values"
   ]
  },
  {
   "cell_type": "code",
   "execution_count": 8,
   "id": "c6075d83",
   "metadata": {},
   "outputs": [
    {
     "data": {
      "text/plain": [
       "IMDb Title ID       1\n",
       "Original Title      1\n",
       "Release Year        1\n",
       "Genre               1\n",
       "Duration            2\n",
       "Country             1\n",
       "Content Rating     24\n",
       "Director            1\n",
       "Unnamed: 8        101\n",
       "Income              1\n",
       "Votes               1\n",
       "Score               1\n",
       "dtype: int64"
      ]
     },
     "execution_count": 8,
     "metadata": {},
     "output_type": "execute_result"
    }
   ],
   "source": [
    "#Check for missing values in the dataset\n",
    "IMDb.isna().sum()"
   ]
  },
  {
   "cell_type": "markdown",
   "id": "82a0adb3",
   "metadata": {},
   "source": [
    "### \"Unnamed: 8\" Column"
   ]
  },
  {
   "cell_type": "code",
   "execution_count": 9,
   "id": "1e032a8c",
   "metadata": {},
   "outputs": [],
   "source": [
    "#Drop \"Unnamed: 8\" column\n",
    "IMDb = IMDb.drop(columns=['Unnamed: 8'])"
   ]
  },
  {
   "cell_type": "code",
   "execution_count": 10,
   "id": "31cce178",
   "metadata": {},
   "outputs": [
    {
     "data": {
      "text/plain": [
       "IMDb Title ID      1\n",
       "Original Title     1\n",
       "Release Year       1\n",
       "Genre              1\n",
       "Duration           2\n",
       "Country            1\n",
       "Content Rating    24\n",
       "Director           1\n",
       "Income             1\n",
       "Votes              1\n",
       "Score              1\n",
       "dtype: int64"
      ]
     },
     "execution_count": 10,
     "metadata": {},
     "output_type": "execute_result"
    }
   ],
   "source": [
    "IMDb.isna().sum()"
   ]
  },
  {
   "cell_type": "markdown",
   "id": "46ced0f9",
   "metadata": {},
   "source": [
    "### \"Content Rating\" Column"
   ]
  },
  {
   "cell_type": "code",
   "execution_count": 11,
   "id": "f08118fa",
   "metadata": {},
   "outputs": [
    {
     "data": {
      "text/plain": [
       "array(['R', 'PG-13', 'Not Rated', 'Approved', nan, 'PG', 'Unrated', 'G'],\n",
       "      dtype=object)"
      ]
     },
     "execution_count": 11,
     "metadata": {},
     "output_type": "execute_result"
    }
   ],
   "source": [
    "#Check unique values in the \"Content Rating\" column\n",
    "IMDb['Content Rating'].unique()"
   ]
  },
  {
   "cell_type": "code",
   "execution_count": 12,
   "id": "af82309e",
   "metadata": {},
   "outputs": [],
   "source": [
    "#Replace 'Unrated' with 'Not Rated' for consistency\n",
    "IMDb['Content Rating'] = IMDb['Content Rating'].replace({'Unrated': 'Not Rated'})"
   ]
  },
  {
   "cell_type": "code",
   "execution_count": 13,
   "id": "274b7256",
   "metadata": {},
   "outputs": [
    {
     "data": {
      "text/plain": [
       "array(['R', 'PG-13', 'Not Rated', 'Approved', nan, 'PG', 'G'],\n",
       "      dtype=object)"
      ]
     },
     "execution_count": 13,
     "metadata": {},
     "output_type": "execute_result"
    }
   ],
   "source": [
    "IMDb['Content Rating'].unique()"
   ]
  },
  {
   "cell_type": "code",
   "execution_count": 14,
   "id": "dc282d34",
   "metadata": {},
   "outputs": [
    {
     "data": {
      "text/plain": [
       "array(['R', 'PG-13', 'Not Rated', 'Approved', 'PG', 'G'], dtype=object)"
      ]
     },
     "execution_count": 14,
     "metadata": {},
     "output_type": "execute_result"
    }
   ],
   "source": [
    "#Fill missing content ratings with 'Not Rated'\n",
    "IMDb['Content Rating'] = IMDb['Content Rating'].fillna('Not Rated')\n",
    "IMDb['Content Rating'].unique()"
   ]
  },
  {
   "cell_type": "code",
   "execution_count": 15,
   "id": "5e297454",
   "metadata": {},
   "outputs": [
    {
     "data": {
      "text/plain": [
       "IMDb Title ID     1\n",
       "Original Title    1\n",
       "Release Year      1\n",
       "Genre             1\n",
       "Duration          2\n",
       "Country           1\n",
       "Content Rating    0\n",
       "Director          1\n",
       "Income            1\n",
       "Votes             1\n",
       "Score             1\n",
       "dtype: int64"
      ]
     },
     "execution_count": 15,
     "metadata": {},
     "output_type": "execute_result"
    }
   ],
   "source": [
    "IMDb.isna().sum()"
   ]
  },
  {
   "cell_type": "markdown",
   "id": "c75adc54",
   "metadata": {},
   "source": [
    "### \"Duration\" Column"
   ]
  },
  {
   "cell_type": "code",
   "execution_count": 16,
   "id": "dd1a7ff8",
   "metadata": {},
   "outputs": [
    {
     "data": {
      "text/html": [
       "<div>\n",
       "<style scoped>\n",
       "    .dataframe tbody tr th:only-of-type {\n",
       "        vertical-align: middle;\n",
       "    }\n",
       "\n",
       "    .dataframe tbody tr th {\n",
       "        vertical-align: top;\n",
       "    }\n",
       "\n",
       "    .dataframe thead th {\n",
       "        text-align: right;\n",
       "    }\n",
       "</style>\n",
       "<table border=\"1\" class=\"dataframe\">\n",
       "  <thead>\n",
       "    <tr style=\"text-align: right;\">\n",
       "      <th></th>\n",
       "      <th>IMDb Title ID</th>\n",
       "      <th>Original Title</th>\n",
       "      <th>Release Year</th>\n",
       "      <th>Genre</th>\n",
       "      <th>Duration</th>\n",
       "      <th>Country</th>\n",
       "      <th>Content Rating</th>\n",
       "      <th>Director</th>\n",
       "      <th>Income</th>\n",
       "      <th>Votes</th>\n",
       "      <th>Score</th>\n",
       "    </tr>\n",
       "  </thead>\n",
       "  <tbody>\n",
       "    <tr>\n",
       "      <th>13</th>\n",
       "      <td>NaN</td>\n",
       "      <td>NaN</td>\n",
       "      <td>NaN</td>\n",
       "      <td>NaN</td>\n",
       "      <td>NaN</td>\n",
       "      <td>NaN</td>\n",
       "      <td>Not Rated</td>\n",
       "      <td>NaN</td>\n",
       "      <td>NaN</td>\n",
       "      <td>NaN</td>\n",
       "      <td>NaN</td>\n",
       "    </tr>\n",
       "    <tr>\n",
       "      <th>14</th>\n",
       "      <td>tt0133093</td>\n",
       "      <td>The Matrix</td>\n",
       "      <td>1999-05-07</td>\n",
       "      <td>Action, Sci-Fi</td>\n",
       "      <td>NaN</td>\n",
       "      <td>USA</td>\n",
       "      <td>R</td>\n",
       "      <td>Lana Wachowski, Lilly Wachowski</td>\n",
       "      <td>$ 465718588</td>\n",
       "      <td>1.632.315</td>\n",
       "      <td>++8.7</td>\n",
       "    </tr>\n",
       "  </tbody>\n",
       "</table>\n",
       "</div>"
      ],
      "text/plain": [
       "   IMDb Title ID Original Title Release Year           Genre Duration Country  \\\n",
       "13           NaN            NaN          NaN             NaN      NaN     NaN   \n",
       "14     tt0133093     The Matrix   1999-05-07  Action, Sci-Fi      NaN     USA   \n",
       "\n",
       "   Content Rating                         Director       Income      Votes  \\\n",
       "13      Not Rated                              NaN          NaN        NaN   \n",
       "14              R  Lana Wachowski, Lilly Wachowski  $ 465718588  1.632.315   \n",
       "\n",
       "    Score  \n",
       "13    NaN  \n",
       "14  ++8.7  "
      ]
     },
     "execution_count": 16,
     "metadata": {},
     "output_type": "execute_result"
    }
   ],
   "source": [
    "#Filter and display all rows where \"Duration\" is missing\n",
    "IMDb[IMDb['Duration'].isna()]"
   ]
  },
  {
   "cell_type": "code",
   "execution_count": 17,
   "id": "3073dfca",
   "metadata": {},
   "outputs": [],
   "source": [
    "#Drop row with index 13 due to missing or invalid values\n",
    "IMDb.drop(index=13, inplace=True)"
   ]
  },
  {
   "cell_type": "code",
   "execution_count": 18,
   "id": "2b219020",
   "metadata": {},
   "outputs": [
    {
     "data": {
      "text/plain": [
       "IMDb Title ID     0\n",
       "Original Title    0\n",
       "Release Year      0\n",
       "Genre             0\n",
       "Duration          1\n",
       "Country           0\n",
       "Content Rating    0\n",
       "Director          0\n",
       "Income            0\n",
       "Votes             0\n",
       "Score             0\n",
       "dtype: int64"
      ]
     },
     "execution_count": 18,
     "metadata": {},
     "output_type": "execute_result"
    }
   ],
   "source": [
    "IMDb.isna().sum()"
   ]
  },
  {
   "cell_type": "code",
   "execution_count": 19,
   "id": "3c850e1c",
   "metadata": {},
   "outputs": [
    {
     "data": {
      "text/plain": [
       "array(['142', '175', '152', '220', ' ', '201', 'Nan', '96', '148', 'Inf',\n",
       "       '178c', '161', nan, '179', 'Not Applicable', '146', '-', '169',\n",
       "       '127', '118', '121', '189', '130', '125', '116', '132', '207',\n",
       "       '155', '151', '119', '110', '137', '106', '88', '122', '112',\n",
       "       '150', '109', '102', '165', '89', '87', '164', '113', '98', '115',\n",
       "       '149', '117', '181', '147', '120', '95', '105', '170', '134',\n",
       "       '229', '153', '178', '131', '99', '108', '81', '126', '104', '136',\n",
       "       '103', '114', '160', '128', '228', '129', '123'], dtype=object)"
      ]
     },
     "execution_count": 19,
     "metadata": {},
     "output_type": "execute_result"
    }
   ],
   "source": [
    "#Check unique values in the \"Duration\" column\n",
    "IMDb['Duration'].unique()"
   ]
  },
  {
   "cell_type": "code",
   "execution_count": 20,
   "id": "d6d7a2e0",
   "metadata": {},
   "outputs": [
    {
     "data": {
      "text/html": [
       "<div>\n",
       "<style scoped>\n",
       "    .dataframe tbody tr th:only-of-type {\n",
       "        vertical-align: middle;\n",
       "    }\n",
       "\n",
       "    .dataframe tbody tr th {\n",
       "        vertical-align: top;\n",
       "    }\n",
       "\n",
       "    .dataframe thead th {\n",
       "        text-align: right;\n",
       "    }\n",
       "</style>\n",
       "<table border=\"1\" class=\"dataframe\">\n",
       "  <thead>\n",
       "    <tr style=\"text-align: right;\">\n",
       "      <th></th>\n",
       "      <th>IMDb Title ID</th>\n",
       "      <th>Original Title</th>\n",
       "      <th>Release Year</th>\n",
       "      <th>Genre</th>\n",
       "      <th>Duration</th>\n",
       "      <th>Country</th>\n",
       "      <th>Content Rating</th>\n",
       "      <th>Director</th>\n",
       "      <th>Income</th>\n",
       "      <th>Votes</th>\n",
       "      <th>Score</th>\n",
       "    </tr>\n",
       "  </thead>\n",
       "  <tbody>\n",
       "    <tr>\n",
       "      <th>4</th>\n",
       "      <td>tt0110912</td>\n",
       "      <td>Pulp Fiction</td>\n",
       "      <td>1994-10-28</td>\n",
       "      <td>Crime, Drama</td>\n",
       "      <td></td>\n",
       "      <td>USA</td>\n",
       "      <td>R</td>\n",
       "      <td>Quentin Tarantino</td>\n",
       "      <td>$ 222831817</td>\n",
       "      <td>1.780.147</td>\n",
       "      <td>8,9f</td>\n",
       "    </tr>\n",
       "    <tr>\n",
       "      <th>6</th>\n",
       "      <td>tt0108052</td>\n",
       "      <td>Schindler's List</td>\n",
       "      <td>1994-03-11</td>\n",
       "      <td>Biography, Drama, History</td>\n",
       "      <td>Nan</td>\n",
       "      <td>USA</td>\n",
       "      <td>R</td>\n",
       "      <td>Steven Spielberg</td>\n",
       "      <td>$ 322287794</td>\n",
       "      <td>1.183.248</td>\n",
       "      <td>8.9</td>\n",
       "    </tr>\n",
       "    <tr>\n",
       "      <th>9</th>\n",
       "      <td>tt0137523</td>\n",
       "      <td>Fight Club</td>\n",
       "      <td>10-29-99</td>\n",
       "      <td>Drama</td>\n",
       "      <td>Inf</td>\n",
       "      <td>UK</td>\n",
       "      <td>R</td>\n",
       "      <td>David Fincher</td>\n",
       "      <td>$ 101218804</td>\n",
       "      <td>1.807.440</td>\n",
       "      <td>8.8</td>\n",
       "    </tr>\n",
       "    <tr>\n",
       "      <th>14</th>\n",
       "      <td>tt0133093</td>\n",
       "      <td>The Matrix</td>\n",
       "      <td>1999-05-07</td>\n",
       "      <td>Action, Sci-Fi</td>\n",
       "      <td>NaN</td>\n",
       "      <td>USA</td>\n",
       "      <td>R</td>\n",
       "      <td>Lana Wachowski, Lilly Wachowski</td>\n",
       "      <td>$ 465718588</td>\n",
       "      <td>1.632.315</td>\n",
       "      <td>++8.7</td>\n",
       "    </tr>\n",
       "    <tr>\n",
       "      <th>16</th>\n",
       "      <td>tt0080684</td>\n",
       "      <td>Star Wars: Episode V - The Empire Strikes Back</td>\n",
       "      <td>1980-09-19</td>\n",
       "      <td>Action, Adventure, Fantasy</td>\n",
       "      <td>Not Applicable</td>\n",
       "      <td>USA</td>\n",
       "      <td>PG</td>\n",
       "      <td>Irvin Kershner</td>\n",
       "      <td>$ 549265501</td>\n",
       "      <td>1.132.073</td>\n",
       "      <td>8,7e-0</td>\n",
       "    </tr>\n",
       "    <tr>\n",
       "      <th>18</th>\n",
       "      <td>tt0073486</td>\n",
       "      <td>One Flew Over the Cuckoo's Nest</td>\n",
       "      <td>18/11/1976</td>\n",
       "      <td>Drama</td>\n",
       "      <td>-</td>\n",
       "      <td>USA</td>\n",
       "      <td>R</td>\n",
       "      <td>Milos Forman</td>\n",
       "      <td>$ 108997629</td>\n",
       "      <td>891.071</td>\n",
       "      <td>8.7</td>\n",
       "    </tr>\n",
       "  </tbody>\n",
       "</table>\n",
       "</div>"
      ],
      "text/plain": [
       "   IMDb Title ID                                  Original Title Release Year  \\\n",
       "4      tt0110912                                    Pulp Fiction   1994-10-28   \n",
       "6      tt0108052                                Schindler's List   1994-03-11   \n",
       "9      tt0137523                                      Fight Club     10-29-99   \n",
       "14     tt0133093                                      The Matrix   1999-05-07   \n",
       "16     tt0080684  Star Wars: Episode V - The Empire Strikes Back   1980-09-19   \n",
       "18     tt0073486                 One Flew Over the Cuckoo's Nest   18/11/1976   \n",
       "\n",
       "                         Genre        Duration Country Content Rating  \\\n",
       "4                 Crime, Drama                     USA              R   \n",
       "6    Biography, Drama, History             Nan     USA              R   \n",
       "9                        Drama             Inf      UK              R   \n",
       "14              Action, Sci-Fi             NaN     USA              R   \n",
       "16  Action, Adventure, Fantasy  Not Applicable     USA             PG   \n",
       "18                       Drama               -     USA              R   \n",
       "\n",
       "                           Director       Income      Votes   Score  \n",
       "4                 Quentin Tarantino  $ 222831817  1.780.147    8,9f  \n",
       "6                  Steven Spielberg  $ 322287794  1.183.248     8.9  \n",
       "9                     David Fincher  $ 101218804  1.807.440     8.8  \n",
       "14  Lana Wachowski, Lilly Wachowski  $ 465718588  1.632.315   ++8.7  \n",
       "16                   Irvin Kershner  $ 549265501  1.132.073  8,7e-0  \n",
       "18                     Milos Forman  $ 108997629    891.071     8.7  "
      ]
     },
     "execution_count": 20,
     "metadata": {},
     "output_type": "execute_result"
    }
   ],
   "source": [
    "#Filter rows where \"Duration\" has invalid values or missing\n",
    "invalid_values = [' ', 'Nan', 'Inf', 'Not Applicable', '-']\n",
    "\n",
    "IMDb[IMDb['Duration'].isin(invalid_values) |\n",
    "     IMDb['Duration'].isna()]"
   ]
  },
  {
   "cell_type": "code",
   "execution_count": 21,
   "id": "2e164e1a",
   "metadata": {},
   "outputs": [],
   "source": [
    "#Fill missing values in the \"Duration\" column\n",
    "durations = {\n",
    "    'Pulp Fiction': 154,\n",
    "    \"Schindler's List\": 195,\n",
    "    'Fight Club': 139,\n",
    "    'The Matrix': 126,\n",
    "    'Star Wars: Episode V - The Empire Strikes Back': 124,\n",
    "    \"One Flew Over the Cuckoo's Nest\": 133\n",
    "}\n",
    "\n",
    "IMDb['Duration'] = IMDb.apply(\n",
    "    lambda row: durations.get(row['Original Title'], row['Duration']), axis=1\n",
    ")"
   ]
  },
  {
   "cell_type": "code",
   "execution_count": 22,
   "id": "72a3f33e",
   "metadata": {},
   "outputs": [],
   "source": [
    "#Replace '178c' with '178' for consistency\n",
    "IMDb['Duration'] = IMDb['Duration'].replace({'178c': '178'})"
   ]
  },
  {
   "cell_type": "code",
   "execution_count": 23,
   "id": "f8d5d9dc",
   "metadata": {},
   "outputs": [
    {
     "data": {
      "text/plain": [
       "array(['142', '175', '152', '220', 154, '201', 195, '96', '148', 139,\n",
       "       '178', '161', 126, '179', 124, '146', 133, '169', '127', '118',\n",
       "       '121', '189', '130', '125', '116', '132', '207', '155', '151',\n",
       "       '119', '110', '137', '106', '88', '122', '112', '150', '109',\n",
       "       '102', '165', '89', '87', '164', '113', '98', '115', '149', '117',\n",
       "       '181', '147', '120', '95', '105', '170', '134', '229', '153',\n",
       "       '131', '99', '108', '81', '126', '104', '136', '103', '114', '160',\n",
       "       '128', '228', '129', '123'], dtype=object)"
      ]
     },
     "execution_count": 23,
     "metadata": {},
     "output_type": "execute_result"
    }
   ],
   "source": [
    "IMDb['Duration'].unique()"
   ]
  },
  {
   "cell_type": "code",
   "execution_count": 24,
   "id": "bfb4bfb5",
   "metadata": {},
   "outputs": [
    {
     "data": {
      "text/plain": [
       "IMDb Title ID     0\n",
       "Original Title    0\n",
       "Release Year      0\n",
       "Genre             0\n",
       "Duration          0\n",
       "Country           0\n",
       "Content Rating    0\n",
       "Director          0\n",
       "Income            0\n",
       "Votes             0\n",
       "Score             0\n",
       "dtype: int64"
      ]
     },
     "execution_count": 24,
     "metadata": {},
     "output_type": "execute_result"
    }
   ],
   "source": [
    "#Check for missing values in the dataset\n",
    "IMDb.isna().sum()"
   ]
  },
  {
   "cell_type": "markdown",
   "id": "654080e0",
   "metadata": {},
   "source": [
    "## Handling Duplicate Values"
   ]
  },
  {
   "cell_type": "code",
   "execution_count": 25,
   "id": "3317ec4e",
   "metadata": {},
   "outputs": [
    {
     "data": {
      "text/plain": [
       "0"
      ]
     },
     "execution_count": 25,
     "metadata": {},
     "output_type": "execute_result"
    }
   ],
   "source": [
    "#Check for duplicate data\n",
    "IMDb.duplicated().sum()"
   ]
  },
  {
   "cell_type": "markdown",
   "id": "226df170",
   "metadata": {},
   "source": [
    "## Checking Columns One by One"
   ]
  },
  {
   "cell_type": "markdown",
   "id": "b9ca9880",
   "metadata": {},
   "source": [
    "### \"IMDb Title ID\" Column"
   ]
  },
  {
   "cell_type": "code",
   "execution_count": 26,
   "id": "f263ded4",
   "metadata": {},
   "outputs": [
    {
     "data": {
      "text/plain": [
       "array(['tt0111161', 'tt0068646', 'tt0468569', 'tt0071562', 'tt0110912',\n",
       "       'tt0167260', 'tt0108052', 'tt0050083', 'tt1375666', 'tt0137523',\n",
       "       'tt0109830', 'tt0120737', 'tt0060196', 'tt0133093', 'tt0167261',\n",
       "       'tt0080684', 'tt0099685', 'tt0073486', 'tt0816692', 'tt0114369',\n",
       "       'tt0102926', 'tt0076759', 'tt0120815', 'tt0120689', 'tt0317248',\n",
       "       'tt0245429', 'tt0118799', 'tt6751668', 'tt0038650', 'tt0047478',\n",
       "       'tt0172495', 'tt0407887', 'tt0482571', 'tt0088763', 'tt0120586',\n",
       "       'tt0110413', 'tt0103064', 'tt0114814', 'tt0110357', 'tt7286456',\n",
       "       'tt1675434', 'tt0253474', 'tt2582802', 'tt0054215', 'tt0034583',\n",
       "       'tt0064116', 'tt0095327', 'tt0095765', 'tt0027977', 'tt1345836',\n",
       "       'tt1853728', 'tt0209144', 'tt0910970', 'tt0081505', 'tt0082971',\n",
       "       'tt4154756', 'tt0078748', 'tt4154796', 'tt0078788', 'tt0364569',\n",
       "       'tt0057012', 'tt0047396', 'tt2380307', 'tt0405094', 'tt4633694',\n",
       "       'tt1187043', 'tt0119698', 'tt0087843', 'tt0032553', 'tt0043014',\n",
       "       'tt0361748', 'tt0169547', 'tt0112573', 'tt0086190', 'tt0105236',\n",
       "       'tt0338013', 'tt0114709', 'tt0119217', 'tt0208092', 'tt0180093',\n",
       "       'tt0066921', 'tt0435761', 'tt0086250', 'tt0075314', 'tt0211915',\n",
       "       'tt0093058', 'tt0090605', 'tt0062622', 'tt0033467', 'tt8579674',\n",
       "       'tt0086879', 'tt0052357', 'tt0053125', 'tt2106476', 'tt0056172',\n",
       "       'tt0070735', 'tt0082096', 'tt0059578', 'tt1832382', 'tt0045152'],\n",
       "      dtype=object)"
      ]
     },
     "execution_count": 26,
     "metadata": {},
     "output_type": "execute_result"
    }
   ],
   "source": [
    "#Check unique values in the \"IMDb Title ID\" column\n",
    "IMDb['IMDb Title ID'].unique()"
   ]
  },
  {
   "cell_type": "markdown",
   "id": "a8d6d930",
   "metadata": {},
   "source": [
    "### \"Original Title\" Column"
   ]
  },
  {
   "cell_type": "code",
   "execution_count": 27,
   "id": "67e4d4ba",
   "metadata": {},
   "outputs": [
    {
     "data": {
      "text/plain": [
       "array(['The Shawshank Redemption', 'The Godfather', 'The Dark Knight',\n",
       "       'The Godfather: Part II', 'Pulp Fiction',\n",
       "       'The Lord of the Rings: The Return of the King',\n",
       "       \"Schindler's List\", '12 Angry Men', 'Inception', 'Fight Club',\n",
       "       'Forrest Gump',\n",
       "       'The Lord of the Rings: The Fellowship of the Ring',\n",
       "       'Il buono, il brutto, il cattivo', 'The Matrix',\n",
       "       'The Lord of the Rings: The Two Towers',\n",
       "       'Star Wars: Episode V - The Empire Strikes Back', 'Goodfellas',\n",
       "       \"One Flew Over the Cuckoo's Nest\", 'Interstellar', 'Se7en',\n",
       "       'The Silence of the Lambs', 'Star Wars', 'Saving Private Ryan',\n",
       "       'The Green Mile', 'Cidade de Deus',\n",
       "       'Sen to Chihiro no kamikakushi', 'La vita B9 bella',\n",
       "       'Gisaengchung', \"It's a Wonderful Life\", 'Shichinin no samurai',\n",
       "       'Gladiator', 'The Departed', 'The Prestige', 'Back to the Future',\n",
       "       'American History X', 'LÃ©on', 'Terminator 2: Judgment Day',\n",
       "       'The Usual Suspects', 'The Lion King', 'Joker', 'Intouchables',\n",
       "       'The Pianist', 'Whiplash', 'Psycho', 'Casablanca',\n",
       "       \"C'era una volta il West\", 'Hotaru no haka',\n",
       "       'Nuovo Cinema Paradiso', 'Modern Times', 'The Dark Knight Rises',\n",
       "       'Django Unchained', 'Memento', 'WALLÂ·E', 'The Shining',\n",
       "       'Raiders of the Lost Ark', 'Avengers: Infinity War', 'Alien',\n",
       "       'Avengers: Endgame', 'Apocalypse Now', 'Oldeuboi',\n",
       "       'Dr. Strangelove or: How I Learned to Stop Worrying and Love the Bomb',\n",
       "       'Rear Window', 'Coco', 'Das Leben der Anderen',\n",
       "       'Spider-Man: Into the Spider-Verse', '3 Idiots', 'Mononoke-hime',\n",
       "       'Once Upon a Time in America', 'The Great Dictator',\n",
       "       'Sunset Blvd.', 'Inglourious Basterds', 'American Beauty',\n",
       "       'Braveheart', 'Star Wars: Episode VI - Return of the Jedi',\n",
       "       'Reservoir Dogs', 'Eternal Sunshine of the Spotless Mind',\n",
       "       'Toy Story', 'Good Will Hunting', 'Snatch', 'Requiem for a Dream',\n",
       "       'A Clockwork Orange', 'Toy Story 3', 'Scarface', 'Taxi Driver',\n",
       "       \"Le fabuleux destin d'AmÃ©lie Poulain\", 'Full Metal Jacket',\n",
       "       'Aliens', '2001: A Space Odyssey', 'Citizen Kane', '1917',\n",
       "       'Amadeus', 'Vertigo', 'North by Northwest', 'Jagten',\n",
       "       'Lawrence of Arabia', 'The Sting', 'Das Boot',\n",
       "       'Per qualche dollaro in piÃ¹', 'Jodaeiye Nader az Simin',\n",
       "       \"Singin' in the Rain\"], dtype=object)"
      ]
     },
     "execution_count": 27,
     "metadata": {},
     "output_type": "execute_result"
    }
   ],
   "source": [
    "#Check unique values in the \"Original Title\" column\n",
    "IMDb['Original Title'].unique()"
   ]
  },
  {
   "cell_type": "markdown",
   "id": "d587a8a8",
   "metadata": {},
   "source": [
    "### \"Release Year\" Column"
   ]
  },
  {
   "cell_type": "code",
   "execution_count": 28,
   "id": "c687d4c1",
   "metadata": {},
   "outputs": [
    {
     "data": {
      "text/plain": [
       "array(['1995-02-10', '09 21 1972', ' 23 -07-2008', '1975-09-25',\n",
       "       '1994-10-28', '22 Feb 04', '1994-03-11', '1957-09-04',\n",
       "       '2010-09-24', '10-29-99', '1994-10-06', '2002-01-18',\n",
       "       '23rd December of 1966 ', '1999-05-07', '01/16-03', '1980-09-19',\n",
       "       '1990-09-20', '18/11/1976', '2014-11-06', '1995-12-15',\n",
       "       '1991-03-05', '1977-10-20', '1998-10-30', '2000-10-03',\n",
       "       '2003-05-09', '2003-04-18', '1997-12-20', '2019-11-07',\n",
       "       '1948-03-11', '1955-08-19', '2000-05-19', '2006-10-27',\n",
       "       '2006-12-22', '1985-10-18', '1999-08-27', '1995-04-07',\n",
       "       '1991-12-19', '1995-11-30', '1994-11-25', '2019-10-03',\n",
       "       '2012-02-24', '2002-10-25', '2015-02-12', '1960-10-28', '21-11-46',\n",
       "       '1968-12-21', '2015-10-11', '1988-11-17', '1937-03-12',\n",
       "       '2012-08-29', '2013-01-17', '2001-01-19', '2008-10-17',\n",
       "       '1980-12-22', '1981-06-12', '2018-04-25', '1979-10-25',\n",
       "       '2019-04-24', '1979-12-18', '2005-05-06', '1964-04-03',\n",
       "       '1955-04-14', '2017-12-28', '2007-04-06', '2018-12-25',\n",
       "       '2009-12-25', '1984-09-28', '1945-06-25',\n",
       "       'The 6th of marzo, year 1951', '2009-10-02', '2000-01-21',\n",
       "       '1995-12-01', '1983-10-21', '1992-10-09', '2004-10-22',\n",
       "       '1996-03-22', '1998-03-06', '2001-03-16', '2000-12-15',\n",
       "       '1972-09-07', '2010-07-07', '1984-02-34', '1976-13-24',\n",
       "       '2002-01-25', '1987-10-09', '1986-09-24', '1968-12-12',\n",
       "       '1948-11-25', '2020-01-23', '1985-02-15', '1958-11-18',\n",
       "       '1959-10-28', '2012-11-22', '1963-10-29', '1974-03-21',\n",
       "       '1982-03-18', '1965-12-20', '2011-10-21', '1953-02-05'],\n",
       "      dtype=object)"
      ]
     },
     "execution_count": 28,
     "metadata": {},
     "output_type": "execute_result"
    }
   ],
   "source": [
    "#Check unique values in the \"Release Year\" column\n",
    "IMDb['Release Year'].unique()"
   ]
  },
  {
   "cell_type": "code",
   "execution_count": 29,
   "id": "2341e53c",
   "metadata": {},
   "outputs": [],
   "source": [
    "#Replace incorrect dates\n",
    "date_map = {\n",
    "    '09 21 1972': '1972-03-24',\n",
    "    ' 23 -07-2008': '2008-07-18',\n",
    "    '22 Feb 04': '2003-12-17',\n",
    "    '23rd December of 1966 ': '1966-12-23',\n",
    "    '01/16-03': '2002-12-18',\n",
    "    'The 6th of marzo, year 1951': '1950-08-04',\n",
    "    '1984-02-34': '1983-12-09',\n",
    "    '1976-13-24': '1976-02-09'\n",
    "}\n",
    "\n",
    "IMDb['Release Year'] = IMDb['Release Year'].replace(date_map, regex=False)"
   ]
  },
  {
   "cell_type": "code",
   "execution_count": 30,
   "id": "af8f41bf",
   "metadata": {},
   "outputs": [],
   "source": [
    "#Convert \"Release Year\" to datetime\n",
    "IMDb['Release Year'] = pd.to_datetime(IMDb['Release Year'], format='mixed').dt.date"
   ]
  },
  {
   "cell_type": "code",
   "execution_count": 31,
   "id": "9108c0e7",
   "metadata": {},
   "outputs": [
    {
     "data": {
      "text/plain": [
       "array([datetime.date(1995, 2, 10), datetime.date(1972, 3, 24),\n",
       "       datetime.date(2008, 7, 18), datetime.date(1975, 9, 25),\n",
       "       datetime.date(1994, 10, 28), datetime.date(2003, 12, 17),\n",
       "       datetime.date(1994, 3, 11), datetime.date(1957, 9, 4),\n",
       "       datetime.date(2010, 9, 24), datetime.date(1999, 10, 29),\n",
       "       datetime.date(1994, 10, 6), datetime.date(2002, 1, 18),\n",
       "       datetime.date(1966, 12, 23), datetime.date(1999, 5, 7),\n",
       "       datetime.date(2002, 12, 18), datetime.date(1980, 9, 19),\n",
       "       datetime.date(1990, 9, 20), datetime.date(1976, 11, 18),\n",
       "       datetime.date(2014, 11, 6), datetime.date(1995, 12, 15),\n",
       "       datetime.date(1991, 3, 5), datetime.date(1977, 10, 20),\n",
       "       datetime.date(1998, 10, 30), datetime.date(2000, 10, 3),\n",
       "       datetime.date(2003, 5, 9), datetime.date(2003, 4, 18),\n",
       "       datetime.date(1997, 12, 20), datetime.date(2019, 11, 7),\n",
       "       datetime.date(1948, 3, 11), datetime.date(1955, 8, 19),\n",
       "       datetime.date(2000, 5, 19), datetime.date(2006, 10, 27),\n",
       "       datetime.date(2006, 12, 22), datetime.date(1985, 10, 18),\n",
       "       datetime.date(1999, 8, 27), datetime.date(1995, 4, 7),\n",
       "       datetime.date(1991, 12, 19), datetime.date(1995, 11, 30),\n",
       "       datetime.date(1994, 11, 25), datetime.date(2019, 10, 3),\n",
       "       datetime.date(2012, 2, 24), datetime.date(2002, 10, 25),\n",
       "       datetime.date(2015, 2, 12), datetime.date(1960, 10, 28),\n",
       "       datetime.date(2046, 11, 21), datetime.date(1968, 12, 21),\n",
       "       datetime.date(2015, 10, 11), datetime.date(1988, 11, 17),\n",
       "       datetime.date(1937, 3, 12), datetime.date(2012, 8, 29),\n",
       "       datetime.date(2013, 1, 17), datetime.date(2001, 1, 19),\n",
       "       datetime.date(2008, 10, 17), datetime.date(1980, 12, 22),\n",
       "       datetime.date(1981, 6, 12), datetime.date(2018, 4, 25),\n",
       "       datetime.date(1979, 10, 25), datetime.date(2019, 4, 24),\n",
       "       datetime.date(1979, 12, 18), datetime.date(2005, 5, 6),\n",
       "       datetime.date(1964, 4, 3), datetime.date(1955, 4, 14),\n",
       "       datetime.date(2017, 12, 28), datetime.date(2007, 4, 6),\n",
       "       datetime.date(2018, 12, 25), datetime.date(2009, 12, 25),\n",
       "       datetime.date(1984, 9, 28), datetime.date(1945, 6, 25),\n",
       "       datetime.date(1950, 8, 4), datetime.date(2009, 10, 2),\n",
       "       datetime.date(2000, 1, 21), datetime.date(1995, 12, 1),\n",
       "       datetime.date(1983, 10, 21), datetime.date(1992, 10, 9),\n",
       "       datetime.date(2004, 10, 22), datetime.date(1996, 3, 22),\n",
       "       datetime.date(1998, 3, 6), datetime.date(2001, 3, 16),\n",
       "       datetime.date(2000, 12, 15), datetime.date(1972, 9, 7),\n",
       "       datetime.date(2010, 7, 7), datetime.date(1983, 12, 9),\n",
       "       datetime.date(1976, 2, 9), datetime.date(2002, 1, 25),\n",
       "       datetime.date(1987, 10, 9), datetime.date(1986, 9, 24),\n",
       "       datetime.date(1968, 12, 12), datetime.date(1948, 11, 25),\n",
       "       datetime.date(2020, 1, 23), datetime.date(1985, 2, 15),\n",
       "       datetime.date(1958, 11, 18), datetime.date(1959, 10, 28),\n",
       "       datetime.date(2012, 11, 22), datetime.date(1963, 10, 29),\n",
       "       datetime.date(1974, 3, 21), datetime.date(1982, 3, 18),\n",
       "       datetime.date(1965, 12, 20), datetime.date(2011, 10, 21),\n",
       "       datetime.date(1953, 2, 5)], dtype=object)"
      ]
     },
     "execution_count": 31,
     "metadata": {},
     "output_type": "execute_result"
    }
   ],
   "source": [
    "IMDb['Release Year'].unique()"
   ]
  },
  {
   "cell_type": "markdown",
   "id": "b6a020bd",
   "metadata": {},
   "source": [
    "### \"Genre\" Column"
   ]
  },
  {
   "cell_type": "code",
   "execution_count": 32,
   "id": "244fcc10",
   "metadata": {},
   "outputs": [
    {
     "data": {
      "text/plain": [
       "array(['Drama', 'Crime, Drama', 'Action, Crime, Drama',\n",
       "       'Action, Adventure, Drama', 'Biography, Drama, History',\n",
       "       'Action, Adventure, Sci-Fi', 'Drama, Romance', 'Western',\n",
       "       'Action, Sci-Fi', 'Action, Adventure, Fantasy',\n",
       "       'Biography, Crime, Drama', 'Adventure, Drama, Sci-Fi',\n",
       "       'Crime, Drama, Mystery', 'Crime, Drama, Thriller', 'Drama, War',\n",
       "       'Crime, Drama, Fantasy', 'Animation, Adventure, Family',\n",
       "       'Comedy, Drama, Romance', 'Comedy, Drama, Thriller',\n",
       "       'Drama, Family, Fantasy', 'Drama, Mystery, Sci-Fi',\n",
       "       'Adventure, Comedy, Sci-Fi', 'Crime, Mystery, Thriller',\n",
       "       'Animation, Adventure, Drama', 'Biography, Comedy, Drama',\n",
       "       'Biography, Drama, Music', 'Drama, Music',\n",
       "       'Horror, Mystery, Thriller', 'Drama, Romance, War',\n",
       "       'Animation, Drama, War', 'Comedy, Drama, Family',\n",
       "       'Action, Adventure', 'Drama, Western', 'Mystery, Thriller',\n",
       "       'Drama, Horror', 'Horror, Sci-Fi', 'Drama, Mystery, War',\n",
       "       'Action, Drama, Mystery', 'Comedy', 'Drama, Mystery, Thriller',\n",
       "       'Animation, Action, Adventure', 'Comedy, Drama',\n",
       "       'Animation, Adventure, Fantasy', 'Comedy, Drama, War',\n",
       "       'Drama, Film-Noir', 'Adventure, Drama, War',\n",
       "       'Drama, Romance, Sci-Fi', 'Animation, Adventure, Comedy',\n",
       "       'Comedy, Crime', 'Crime, Drama, Sci-Fi', 'Comedy, Romance',\n",
       "       'Adventure, Sci-Fi', 'Drama, Mystery',\n",
       "       'Mystery, Romance, Thriller', 'Adventure, Mystery, Thriller',\n",
       "       'Adventure, Biography, Drama', 'Comedy, Crime, Drama',\n",
       "       'Adventure, Drama, Thriller', 'Comedy, Musical, Romance'],\n",
       "      dtype=object)"
      ]
     },
     "execution_count": 32,
     "metadata": {},
     "output_type": "execute_result"
    }
   ],
   "source": [
    "#Check unique values in the \"Genre\" column\n",
    "IMDb['Genre'].unique()"
   ]
  },
  {
   "cell_type": "markdown",
   "id": "2d67d889",
   "metadata": {},
   "source": [
    "### \"Duration\" Column"
   ]
  },
  {
   "cell_type": "code",
   "execution_count": 33,
   "id": "aba053c2",
   "metadata": {},
   "outputs": [
    {
     "data": {
      "text/plain": [
       "array(['142', '175', '152', '220', 154, '201', 195, '96', '148', 139,\n",
       "       '178', '161', 126, '179', 124, '146', 133, '169', '127', '118',\n",
       "       '121', '189', '130', '125', '116', '132', '207', '155', '151',\n",
       "       '119', '110', '137', '106', '88', '122', '112', '150', '109',\n",
       "       '102', '165', '89', '87', '164', '113', '98', '115', '149', '117',\n",
       "       '181', '147', '120', '95', '105', '170', '134', '229', '153',\n",
       "       '131', '99', '108', '81', '126', '104', '136', '103', '114', '160',\n",
       "       '128', '228', '129', '123'], dtype=object)"
      ]
     },
     "execution_count": 33,
     "metadata": {},
     "output_type": "execute_result"
    }
   ],
   "source": [
    "#Check unique values in the \"Duration\" column\n",
    "IMDb['Duration'].unique()"
   ]
  },
  {
   "cell_type": "code",
   "execution_count": 34,
   "id": "a2238742",
   "metadata": {},
   "outputs": [],
   "source": [
    "#Convert \"Duration\" to numeric\n",
    "IMDb['Duration'] = pd.to_numeric(IMDb['Duration'], errors='coerce')"
   ]
  },
  {
   "cell_type": "markdown",
   "id": "e08f678c",
   "metadata": {},
   "source": [
    "### \"Country\" Column"
   ]
  },
  {
   "cell_type": "code",
   "execution_count": 35,
   "id": "57f03827",
   "metadata": {},
   "outputs": [
    {
     "data": {
      "text/plain": [
       "array(['USA', 'US', 'New Zealand', 'UK', 'New Zesland', 'Italy',\n",
       "       'New Zeland', 'US.', 'Brazil', 'Japan', 'Italy1', 'South Korea',\n",
       "       'France', 'Germany', 'India', 'Denmark', 'West Germany', 'Iran'],\n",
       "      dtype=object)"
      ]
     },
     "execution_count": 35,
     "metadata": {},
     "output_type": "execute_result"
    }
   ],
   "source": [
    "#Check unique values in the \"Country\" column\n",
    "IMDb['Country'].unique()"
   ]
  },
  {
   "cell_type": "code",
   "execution_count": 36,
   "id": "bf53580c",
   "metadata": {},
   "outputs": [],
   "source": [
    "#Replace inconsistent country names\n",
    "country_map = {\n",
    "    'New Zesland': 'New Zealand',\n",
    "    'New Zeland': 'New Zealand',\n",
    "    'US.': 'US',\n",
    "    'Italy1': 'Italy'\n",
    "}\n",
    "\n",
    "IMDb['Country'] = IMDb['Country'].replace(country_map, regex=False)"
   ]
  },
  {
   "cell_type": "code",
   "execution_count": 37,
   "id": "6621206c",
   "metadata": {},
   "outputs": [
    {
     "data": {
      "text/plain": [
       "array(['USA', 'US', 'New Zealand', 'UK', 'Italy', 'Brazil', 'Japan',\n",
       "       'South Korea', 'France', 'Germany', 'India', 'Denmark',\n",
       "       'West Germany', 'Iran'], dtype=object)"
      ]
     },
     "execution_count": 37,
     "metadata": {},
     "output_type": "execute_result"
    }
   ],
   "source": [
    "IMDb['Country'].unique()"
   ]
  },
  {
   "cell_type": "markdown",
   "id": "caa8bd97",
   "metadata": {},
   "source": [
    "### \"Content Rating\" Column"
   ]
  },
  {
   "cell_type": "code",
   "execution_count": 38,
   "id": "bf5538ea",
   "metadata": {},
   "outputs": [
    {
     "data": {
      "text/plain": [
       "array(['R', 'PG-13', 'Not Rated', 'Approved', 'PG', 'G'], dtype=object)"
      ]
     },
     "execution_count": 38,
     "metadata": {},
     "output_type": "execute_result"
    }
   ],
   "source": [
    "#Check unique values in the \"Content Rating\" column\n",
    "IMDb['Content Rating'].unique()"
   ]
  },
  {
   "cell_type": "markdown",
   "id": "a1fb1dda",
   "metadata": {},
   "source": [
    "### \"Director\" Column"
   ]
  },
  {
   "cell_type": "code",
   "execution_count": 39,
   "id": "09be8c1d",
   "metadata": {},
   "outputs": [
    {
     "data": {
      "text/plain": [
       "array(['Frank Darabont', 'Francis Ford Coppola', 'Christopher Nolan',\n",
       "       'Quentin Tarantino', 'Peter Jackson', 'Steven Spielberg',\n",
       "       'Sidney Lumet', 'David Fincher', 'Robert Zemeckis', 'Sergio Leone',\n",
       "       'Lana Wachowski, Lilly Wachowski', 'Irvin Kershner',\n",
       "       'Martin Scorsese', 'Milos Forman', 'Jonathan Demme',\n",
       "       'George Lucas', 'Fernando Meirelles, KÃ¡tia Lund',\n",
       "       'Hayao Miyazaki', 'Roberto Benigni', 'Bong Joon Ho', 'Frank Capra',\n",
       "       'Akira Kurosawa', 'Ridley Scott', 'Tony Kaye', 'Luc Besson',\n",
       "       'James Cameron', 'Bryan Singer', 'Roger Allers, Rob Minkoff',\n",
       "       'Todd Phillips', 'Olivier Nakache, Ã‰ric Toledano',\n",
       "       'Roman Polanski', 'Damien Chazelle', 'Alfred Hitchcock',\n",
       "       'Michael Curtiz', 'Isao Takahata', 'Giuseppe Tornatore',\n",
       "       'Charles Chaplin', 'Andrew Stanton', 'Stanley Kubrick',\n",
       "       'Anthony Russo, Joe Russo', 'Chan-wook Park',\n",
       "       'Lee Unkrich, Adrian Molina', 'Florian Henckel von Donnersmarck',\n",
       "       'Bob Persichetti, Peter Ramsey', 'Rajkumar Hirani', 'Billy Wilder',\n",
       "       'Sam Mendes', 'Mel Gibson', 'Richard Marquand', 'Michel Gondry',\n",
       "       'John Lasseter', 'Gus Van Sant', 'Guy Ritchie', 'Darren Aronofsky',\n",
       "       'Lee Unkrich', 'Brian De Palma', 'Jean-Pierre Jeunet',\n",
       "       'Orson Welles', 'Thomas Vinterberg', 'David Lean',\n",
       "       'George Roy Hill', 'Wolfgang Petersen', 'Asghar Farhadi',\n",
       "       'Stanley Donen'], dtype=object)"
      ]
     },
     "execution_count": 39,
     "metadata": {},
     "output_type": "execute_result"
    }
   ],
   "source": [
    "#Check unique values in the \"Director\" column\n",
    "IMDb['Director'].unique()"
   ]
  },
  {
   "cell_type": "markdown",
   "id": "0417cfdf",
   "metadata": {},
   "source": [
    "### \"Income\" Column"
   ]
  },
  {
   "cell_type": "code",
   "execution_count": 40,
   "id": "155a6235",
   "metadata": {},
   "outputs": [
    {
     "data": {
      "text/plain": [
       "array(['$ 28815245', '$ 246120974', '$ 1005455211', '$ 4o8,035,783',\n",
       "       '$ 222831817', '$ 1142271098', '$ 322287794', '$ 576',\n",
       "       '$ 869784991', '$ 101218804', '$ 678229452', '$ 887934303',\n",
       "       '$ 25252481', '$ 465718588', '$ 951227416', '$ 549265501',\n",
       "       '$ 46879633', '$ 108997629', '$ 696742056', '$ 327333559',\n",
       "       '$ 272753884', '$ 775768912', '$ 482349603', '$ 286801374',\n",
       "       '$ 30680793', '$ 355467056', '$ 230098753', '$ 257604912',\n",
       "       '$ 6130720', '$ 322773', '$ 465361176', '$ 291465034',\n",
       "       '$ 109676311', '$ 388774684', '$ 23875127', '$ 19552639',\n",
       "       '$ 520884847', '$ 23341568', '$ 968511805', '$ 1074251311',\n",
       "       '$ 426588510', '$ 120072577', '$ 48983260', '$ 32008644',\n",
       "       '$ 4374761', '$ 112911', '$ 516962', '$ 13826605', '$ 457688',\n",
       "       '$ 1081133191', '$ 425368238', '$ 39970386', '$ 521311860',\n",
       "       '$ 46520613', '$ 390133212', '$ 2048359754', '$ 108110316',\n",
       "       '$ 2797800564', '$ 91968688', '$ 15002116', '$ 9443876',\n",
       "       '$ 37032034', '$ 807083670', '$ 77356942', '$ 375540831',\n",
       "       '$ 60262836', '$ 169785629', '$ 5472914', '$ 969879', '$ 299645',\n",
       "       '$ 321455689', '$ 356296601', '$ 213216216', '$ 475347111',\n",
       "       '$ 2889963', '$ 74036715', '$ 404265438', '$ 225933435',\n",
       "       '$ 83557872', '$ 7390108', '$ 26903440', '$ 1066969703',\n",
       "       '$ 66023585', '$ 28441292', '$ 173924742', '$ 46357676',\n",
       "       '$ 131384634', '$ 68989547', '$ 1594107', '$ 384857224',\n",
       "       '$ 52066791', '$ 7796389', '$ 73446', '$ 15843274', '$ 45710874',\n",
       "       '$ 156000000', '$ 11487676', '$ 15000000', '$ 22926076',\n",
       "       '$ 1864182'], dtype=object)"
      ]
     },
     "execution_count": 40,
     "metadata": {},
     "output_type": "execute_result"
    }
   ],
   "source": [
    "#Check unique values in the \"Income\" column\n",
    "IMDb['Income'].unique()"
   ]
  },
  {
   "cell_type": "code",
   "execution_count": 41,
   "id": "587df345",
   "metadata": {},
   "outputs": [],
   "source": [
    "#Replace inconsistent income value and remove dollar signs\n",
    "income_map = {\n",
    "    'o': '0',\n",
    "    ',': '',\n",
    "    '\\$': '',\n",
    "    ' ': ''\n",
    "}\n",
    "\n",
    "IMDb['Income'] = IMDb['Income'].replace(income_map, regex=True)"
   ]
  },
  {
   "cell_type": "code",
   "execution_count": 42,
   "id": "15835de9",
   "metadata": {},
   "outputs": [
    {
     "data": {
      "text/plain": [
       "array(['28815245', '246120974', '1005455211', '408035783', '222831817',\n",
       "       '1142271098', '322287794', '576', '869784991', '101218804',\n",
       "       '678229452', '887934303', '25252481', '465718588', '951227416',\n",
       "       '549265501', '46879633', '108997629', '696742056', '327333559',\n",
       "       '272753884', '775768912', '482349603', '286801374', '30680793',\n",
       "       '355467056', '230098753', '257604912', '6130720', '322773',\n",
       "       '465361176', '291465034', '109676311', '388774684', '23875127',\n",
       "       '19552639', '520884847', '23341568', '968511805', '1074251311',\n",
       "       '426588510', '120072577', '48983260', '32008644', '4374761',\n",
       "       '112911', '516962', '13826605', '457688', '1081133191',\n",
       "       '425368238', '39970386', '521311860', '46520613', '390133212',\n",
       "       '2048359754', '108110316', '2797800564', '91968688', '15002116',\n",
       "       '9443876', '37032034', '807083670', '77356942', '375540831',\n",
       "       '60262836', '169785629', '5472914', '969879', '299645',\n",
       "       '321455689', '356296601', '213216216', '475347111', '2889963',\n",
       "       '74036715', '404265438', '225933435', '83557872', '7390108',\n",
       "       '26903440', '1066969703', '66023585', '28441292', '173924742',\n",
       "       '46357676', '131384634', '68989547', '1594107', '384857224',\n",
       "       '52066791', '7796389', '73446', '15843274', '45710874',\n",
       "       '156000000', '11487676', '15000000', '22926076', '1864182'],\n",
       "      dtype=object)"
      ]
     },
     "execution_count": 42,
     "metadata": {},
     "output_type": "execute_result"
    }
   ],
   "source": [
    "IMDb['Income'].unique()"
   ]
  },
  {
   "cell_type": "code",
   "execution_count": 43,
   "id": "7cf9ef31",
   "metadata": {},
   "outputs": [],
   "source": [
    "#Convert \"Income\" to numeric\n",
    "IMDb['Income'] = pd.to_numeric(IMDb['Income'], errors='coerce')"
   ]
  },
  {
   "cell_type": "code",
   "execution_count": 44,
   "id": "8f1d8f51",
   "metadata": {},
   "outputs": [],
   "source": [
    "#Rename the column\n",
    "IMDb = IMDb.rename(columns={'Income': 'Income ($)'})"
   ]
  },
  {
   "cell_type": "markdown",
   "id": "9c3a6c4a",
   "metadata": {},
   "source": [
    "### \"Votes\" Column"
   ]
  },
  {
   "cell_type": "code",
   "execution_count": 45,
   "id": "c3f7190f",
   "metadata": {},
   "outputs": [
    {
     "data": {
      "text/plain": [
       "array(['2.278.845', '1.572.674', '2.241.615', '1.098.714', '1.780.147',\n",
       "       '1.604.280', '1.183.248', '668.473', '2.002.816', '1.807.440',\n",
       "       '1.755.490', '1.619.920', '672.499', '1.632.315', '1.449.778',\n",
       "       '1.132.073', '991.505', '891.071', '1.449.256', '1.402.015',\n",
       "       '1.234.134', '1.204.107', '1.203.825', '1.112.336', '685.856',\n",
       "       '626.693', '605.648', '470.931', '388.310', '307.958', '1.308.193',\n",
       "       '1.159.703', '1.155.723', '1.027.330', '1.014.218', '1.007.598',\n",
       "       '974.970', '968.947', '917.248', '855.097', '736.691', '707.942',\n",
       "       '690.732', '586.765', '509.953', '295.220', '225.438', '223.050',\n",
       "       '211.250', '1.480.582', '1.317.856', '1.098.879', '974.734',\n",
       "       '869.480', '865.510', '796.486', '768.874', '754.786', '591.251',\n",
       "       '501.082', '441.115', '432.390', '352.455', '349.642', '335.892',\n",
       "       '332.217', '331.045', '302.317', '197.381', '195.789', '1.229.958',\n",
       "       '1.049.009', '941.683', '928.036', '896.551', '889.875', '864.461',\n",
       "       '837.379', '766.589', '748.291', '740.301', '739.717', '721.343',\n",
       "       '703.264', '690.480', '658.175', '639.500', '587.866', '389.322',\n",
       "       '362.897', '361.028', '352.786', '291.628', '269.616', '261.504',\n",
       "       '236.285', '226.427', '226.039', '214.165', '213.152'],\n",
       "      dtype=object)"
      ]
     },
     "execution_count": 45,
     "metadata": {},
     "output_type": "execute_result"
    }
   ],
   "source": [
    "#Check unique values in the \"Votes\" column\n",
    "IMDb['Votes'].unique()"
   ]
  },
  {
   "cell_type": "code",
   "execution_count": 46,
   "id": "6739d179",
   "metadata": {},
   "outputs": [],
   "source": [
    "#Remove dot characters\n",
    "IMDb['Votes'] = IMDb['Votes'].str.replace('.', '', regex=False)"
   ]
  },
  {
   "cell_type": "code",
   "execution_count": 47,
   "id": "054acf11",
   "metadata": {},
   "outputs": [
    {
     "data": {
      "text/plain": [
       "array(['2278845', '1572674', '2241615', '1098714', '1780147', '1604280',\n",
       "       '1183248', '668473', '2002816', '1807440', '1755490', '1619920',\n",
       "       '672499', '1632315', '1449778', '1132073', '991505', '891071',\n",
       "       '1449256', '1402015', '1234134', '1204107', '1203825', '1112336',\n",
       "       '685856', '626693', '605648', '470931', '388310', '307958',\n",
       "       '1308193', '1159703', '1155723', '1027330', '1014218', '1007598',\n",
       "       '974970', '968947', '917248', '855097', '736691', '707942',\n",
       "       '690732', '586765', '509953', '295220', '225438', '223050',\n",
       "       '211250', '1480582', '1317856', '1098879', '974734', '869480',\n",
       "       '865510', '796486', '768874', '754786', '591251', '501082',\n",
       "       '441115', '432390', '352455', '349642', '335892', '332217',\n",
       "       '331045', '302317', '197381', '195789', '1229958', '1049009',\n",
       "       '941683', '928036', '896551', '889875', '864461', '837379',\n",
       "       '766589', '748291', '740301', '739717', '721343', '703264',\n",
       "       '690480', '658175', '639500', '587866', '389322', '362897',\n",
       "       '361028', '352786', '291628', '269616', '261504', '236285',\n",
       "       '226427', '226039', '214165', '213152'], dtype=object)"
      ]
     },
     "execution_count": 47,
     "metadata": {},
     "output_type": "execute_result"
    }
   ],
   "source": [
    "IMDb['Votes'].unique()"
   ]
  },
  {
   "cell_type": "code",
   "execution_count": 48,
   "id": "785ed4d9",
   "metadata": {},
   "outputs": [],
   "source": [
    "#Convert \"Votes\" to numeric\n",
    "IMDb['Votes'] = pd.to_numeric(IMDb['Votes'], errors='coerce')"
   ]
  },
  {
   "cell_type": "markdown",
   "id": "e382751d",
   "metadata": {},
   "source": [
    "### \"Score\" Column"
   ]
  },
  {
   "cell_type": "code",
   "execution_count": 49,
   "id": "468f52dd",
   "metadata": {},
   "outputs": [
    {
     "data": {
      "text/plain": [
       "array(['9.3', '9.2', '9.', '9,.0', '8,9f', '08.9', '8.9', '8..8', '8.8',\n",
       "       '8:8', '++8.7', '8.7.', '8,7e-0', '8.7', '8.6', '8,6', '8.5',\n",
       "       '8.4', '8.3', '8.2', '8.1', '8.0', '7.9', '7.8', '7.7', '7.6',\n",
       "       '7.5', '7.4'], dtype=object)"
      ]
     },
     "execution_count": 49,
     "metadata": {},
     "output_type": "execute_result"
    }
   ],
   "source": [
    "#Check unique values in the \"Score\" column\n",
    "IMDb['Score'].unique()"
   ]
  },
  {
   "cell_type": "code",
   "execution_count": 50,
   "id": "c17db18f",
   "metadata": {},
   "outputs": [
    {
     "data": {
      "text/plain": [
       "Score\n",
       "8.6       11\n",
       "8.2        8\n",
       "8.3        8\n",
       "8.1        7\n",
       "8.4        7\n",
       "8.5        6\n",
       "7.5        6\n",
       "7.8        6\n",
       "8.0        6\n",
       "7.9        5\n",
       "7.6        4\n",
       "7.7        4\n",
       "7.4        3\n",
       "8.8        3\n",
       "8.7        2\n",
       "8.9        2\n",
       "9.2        1\n",
       "8,6        1\n",
       "8,7e-0     1\n",
       "8.7.       1\n",
       "++8.7      1\n",
       "8:8        1\n",
       "8..8       1\n",
       "08.9       1\n",
       "8,9f       1\n",
       "9,.0       1\n",
       "9.         1\n",
       "9.3        1\n",
       "Name: count, dtype: int64"
      ]
     },
     "execution_count": 50,
     "metadata": {},
     "output_type": "execute_result"
    }
   ],
   "source": [
    "#Checking how many times each unique value appears in the \"Score\" column\n",
    "IMDb['Score'].value_counts()"
   ]
  },
  {
   "cell_type": "code",
   "execution_count": 51,
   "id": "b38b4dc5",
   "metadata": {},
   "outputs": [],
   "source": [
    "#Replace inconsistent score values\n",
    "score_map = {\n",
    "    '9.': '9.0',\n",
    "    '9,.0': '9.0',\n",
    "    '8,9f': '8.9',\n",
    "    '08.9': '8.9',\n",
    "    '8..8': '8.8',\n",
    "    '8:8': '8.8',\n",
    "    '++8.7': '8.7',\n",
    "    '8.7.': '8.7',\n",
    "    '8,7e-0': '8.7',\n",
    "    '8,6': '8.6'\n",
    "}\n",
    "\n",
    "IMDb['Score'] = IMDb['Score'].replace(score_map, regex=False)"
   ]
  },
  {
   "cell_type": "code",
   "execution_count": 52,
   "id": "fd9a7014",
   "metadata": {},
   "outputs": [
    {
     "data": {
      "text/plain": [
       "array(['9.3', '9.2', '9.0', '8.9', '8.8', '8.7', '8.6', '8.5', '8.4',\n",
       "       '8.3', '8.2', '8.1', '8.0', '7.9', '7.8', '7.7', '7.6', '7.5',\n",
       "       '7.4'], dtype=object)"
      ]
     },
     "execution_count": 52,
     "metadata": {},
     "output_type": "execute_result"
    }
   ],
   "source": [
    "IMDb['Score'].unique()"
   ]
  },
  {
   "cell_type": "code",
   "execution_count": 53,
   "id": "a1740687",
   "metadata": {},
   "outputs": [],
   "source": [
    "#Mengubah tipe data\n",
    "IMDb['Score'] = pd.to_numeric(IMDb['Score'], errors='coerce')"
   ]
  },
  {
   "cell_type": "markdown",
   "id": "edffcc1a",
   "metadata": {},
   "source": [
    "## Cleaned Data"
   ]
  },
  {
   "cell_type": "code",
   "execution_count": 54,
   "id": "c2a46a71",
   "metadata": {},
   "outputs": [
    {
     "data": {
      "text/html": [
       "<div>\n",
       "<style scoped>\n",
       "    .dataframe tbody tr th:only-of-type {\n",
       "        vertical-align: middle;\n",
       "    }\n",
       "\n",
       "    .dataframe tbody tr th {\n",
       "        vertical-align: top;\n",
       "    }\n",
       "\n",
       "    .dataframe thead th {\n",
       "        text-align: right;\n",
       "    }\n",
       "</style>\n",
       "<table border=\"1\" class=\"dataframe\">\n",
       "  <thead>\n",
       "    <tr style=\"text-align: right;\">\n",
       "      <th></th>\n",
       "      <th>IMDb Title ID</th>\n",
       "      <th>Original Title</th>\n",
       "      <th>Release Year</th>\n",
       "      <th>Genre</th>\n",
       "      <th>Duration</th>\n",
       "      <th>Country</th>\n",
       "      <th>Content Rating</th>\n",
       "      <th>Director</th>\n",
       "      <th>Income ($)</th>\n",
       "      <th>Votes</th>\n",
       "      <th>Score</th>\n",
       "    </tr>\n",
       "  </thead>\n",
       "  <tbody>\n",
       "    <tr>\n",
       "      <th>0</th>\n",
       "      <td>tt0111161</td>\n",
       "      <td>The Shawshank Redemption</td>\n",
       "      <td>1995-02-10</td>\n",
       "      <td>Drama</td>\n",
       "      <td>142</td>\n",
       "      <td>USA</td>\n",
       "      <td>R</td>\n",
       "      <td>Frank Darabont</td>\n",
       "      <td>28815245</td>\n",
       "      <td>2278845</td>\n",
       "      <td>9.3</td>\n",
       "    </tr>\n",
       "    <tr>\n",
       "      <th>1</th>\n",
       "      <td>tt0068646</td>\n",
       "      <td>The Godfather</td>\n",
       "      <td>1972-03-24</td>\n",
       "      <td>Crime, Drama</td>\n",
       "      <td>175</td>\n",
       "      <td>USA</td>\n",
       "      <td>R</td>\n",
       "      <td>Francis Ford Coppola</td>\n",
       "      <td>246120974</td>\n",
       "      <td>1572674</td>\n",
       "      <td>9.2</td>\n",
       "    </tr>\n",
       "    <tr>\n",
       "      <th>2</th>\n",
       "      <td>tt0468569</td>\n",
       "      <td>The Dark Knight</td>\n",
       "      <td>2008-07-18</td>\n",
       "      <td>Action, Crime, Drama</td>\n",
       "      <td>152</td>\n",
       "      <td>US</td>\n",
       "      <td>PG-13</td>\n",
       "      <td>Christopher Nolan</td>\n",
       "      <td>1005455211</td>\n",
       "      <td>2241615</td>\n",
       "      <td>9.0</td>\n",
       "    </tr>\n",
       "    <tr>\n",
       "      <th>3</th>\n",
       "      <td>tt0071562</td>\n",
       "      <td>The Godfather: Part II</td>\n",
       "      <td>1975-09-25</td>\n",
       "      <td>Crime, Drama</td>\n",
       "      <td>220</td>\n",
       "      <td>USA</td>\n",
       "      <td>R</td>\n",
       "      <td>Francis Ford Coppola</td>\n",
       "      <td>408035783</td>\n",
       "      <td>1098714</td>\n",
       "      <td>9.0</td>\n",
       "    </tr>\n",
       "    <tr>\n",
       "      <th>4</th>\n",
       "      <td>tt0110912</td>\n",
       "      <td>Pulp Fiction</td>\n",
       "      <td>1994-10-28</td>\n",
       "      <td>Crime, Drama</td>\n",
       "      <td>154</td>\n",
       "      <td>USA</td>\n",
       "      <td>R</td>\n",
       "      <td>Quentin Tarantino</td>\n",
       "      <td>222831817</td>\n",
       "      <td>1780147</td>\n",
       "      <td>8.9</td>\n",
       "    </tr>\n",
       "  </tbody>\n",
       "</table>\n",
       "</div>"
      ],
      "text/plain": [
       "  IMDb Title ID            Original Title Release Year                 Genre  \\\n",
       "0     tt0111161  The Shawshank Redemption   1995-02-10                 Drama   \n",
       "1     tt0068646             The Godfather   1972-03-24          Crime, Drama   \n",
       "2     tt0468569           The Dark Knight   2008-07-18  Action, Crime, Drama   \n",
       "3     tt0071562    The Godfather: Part II   1975-09-25          Crime, Drama   \n",
       "4     tt0110912              Pulp Fiction   1994-10-28          Crime, Drama   \n",
       "\n",
       "   Duration Country Content Rating              Director  Income ($)    Votes  \\\n",
       "0       142     USA              R        Frank Darabont    28815245  2278845   \n",
       "1       175     USA              R  Francis Ford Coppola   246120974  1572674   \n",
       "2       152      US          PG-13     Christopher Nolan  1005455211  2241615   \n",
       "3       220     USA              R  Francis Ford Coppola   408035783  1098714   \n",
       "4       154     USA              R     Quentin Tarantino   222831817  1780147   \n",
       "\n",
       "   Score  \n",
       "0    9.3  \n",
       "1    9.2  \n",
       "2    9.0  \n",
       "3    9.0  \n",
       "4    8.9  "
      ]
     },
     "execution_count": 54,
     "metadata": {},
     "output_type": "execute_result"
    }
   ],
   "source": [
    "#Display the first 5 rows of the dataset after cleaning\n",
    "IMDb.head()"
   ]
  },
  {
   "cell_type": "code",
   "execution_count": 55,
   "id": "700d2978",
   "metadata": {},
   "outputs": [
    {
     "name": "stdout",
     "output_type": "stream",
     "text": [
      "<class 'pandas.core.frame.DataFrame'>\n",
      "Index: 100 entries, 0 to 100\n",
      "Data columns (total 11 columns):\n",
      " #   Column          Non-Null Count  Dtype  \n",
      "---  ------          --------------  -----  \n",
      " 0   IMDb Title ID   100 non-null    object \n",
      " 1   Original Title  100 non-null    object \n",
      " 2   Release Year    100 non-null    object \n",
      " 3   Genre           100 non-null    object \n",
      " 4   Duration        100 non-null    int64  \n",
      " 5   Country         100 non-null    object \n",
      " 6   Content Rating  100 non-null    object \n",
      " 7   Director        100 non-null    object \n",
      " 8   Income ($)      100 non-null    int64  \n",
      " 9   Votes           100 non-null    int64  \n",
      " 10  Score           100 non-null    float64\n",
      "dtypes: float64(1), int64(3), object(7)\n",
      "memory usage: 9.4+ KB\n"
     ]
    }
   ],
   "source": [
    "#Get a conscise summary of the DataFrame after cleaning\n",
    "IMDb.info()"
   ]
  },
  {
   "cell_type": "code",
   "execution_count": 56,
   "id": "96bed4e9",
   "metadata": {},
   "outputs": [
    {
     "data": {
      "text/html": [
       "<div>\n",
       "<style scoped>\n",
       "    .dataframe tbody tr th:only-of-type {\n",
       "        vertical-align: middle;\n",
       "    }\n",
       "\n",
       "    .dataframe tbody tr th {\n",
       "        vertical-align: top;\n",
       "    }\n",
       "\n",
       "    .dataframe thead th {\n",
       "        text-align: right;\n",
       "    }\n",
       "</style>\n",
       "<table border=\"1\" class=\"dataframe\">\n",
       "  <thead>\n",
       "    <tr style=\"text-align: right;\">\n",
       "      <th></th>\n",
       "      <th>Duration</th>\n",
       "      <th>Income ($)</th>\n",
       "      <th>Votes</th>\n",
       "      <th>Score</th>\n",
       "    </tr>\n",
       "  </thead>\n",
       "  <tbody>\n",
       "    <tr>\n",
       "      <th>count</th>\n",
       "      <td>100.00000</td>\n",
       "      <td>1.000000e+02</td>\n",
       "      <td>1.000000e+02</td>\n",
       "      <td>100.000000</td>\n",
       "    </tr>\n",
       "    <tr>\n",
       "      <th>mean</th>\n",
       "      <td>135.94000</td>\n",
       "      <td>2.991255e+08</td>\n",
       "      <td>8.297713e+05</td>\n",
       "      <td>8.240000</td>\n",
       "    </tr>\n",
       "    <tr>\n",
       "      <th>std</th>\n",
       "      <td>31.04276</td>\n",
       "      <td>4.360335e+08</td>\n",
       "      <td>4.829340e+05</td>\n",
       "      <td>0.451485</td>\n",
       "    </tr>\n",
       "    <tr>\n",
       "      <th>min</th>\n",
       "      <td>81.00000</td>\n",
       "      <td>5.760000e+02</td>\n",
       "      <td>1.957890e+05</td>\n",
       "      <td>7.400000</td>\n",
       "    </tr>\n",
       "    <tr>\n",
       "      <th>25%</th>\n",
       "      <td>115.00000</td>\n",
       "      <td>2.374174e+07</td>\n",
       "      <td>3.890690e+05</td>\n",
       "      <td>7.900000</td>\n",
       "    </tr>\n",
       "    <tr>\n",
       "      <th>50%</th>\n",
       "      <td>130.00000</td>\n",
       "      <td>1.093370e+08</td>\n",
       "      <td>7.515385e+05</td>\n",
       "      <td>8.300000</td>\n",
       "    </tr>\n",
       "    <tr>\n",
       "      <th>75%</th>\n",
       "      <td>152.25000</td>\n",
       "      <td>4.052080e+08</td>\n",
       "      <td>1.102243e+06</td>\n",
       "      <td>8.600000</td>\n",
       "    </tr>\n",
       "    <tr>\n",
       "      <th>max</th>\n",
       "      <td>229.00000</td>\n",
       "      <td>2.797801e+09</td>\n",
       "      <td>2.278845e+06</td>\n",
       "      <td>9.300000</td>\n",
       "    </tr>\n",
       "  </tbody>\n",
       "</table>\n",
       "</div>"
      ],
      "text/plain": [
       "        Duration    Income ($)         Votes       Score\n",
       "count  100.00000  1.000000e+02  1.000000e+02  100.000000\n",
       "mean   135.94000  2.991255e+08  8.297713e+05    8.240000\n",
       "std     31.04276  4.360335e+08  4.829340e+05    0.451485\n",
       "min     81.00000  5.760000e+02  1.957890e+05    7.400000\n",
       "25%    115.00000  2.374174e+07  3.890690e+05    7.900000\n",
       "50%    130.00000  1.093370e+08  7.515385e+05    8.300000\n",
       "75%    152.25000  4.052080e+08  1.102243e+06    8.600000\n",
       "max    229.00000  2.797801e+09  2.278845e+06    9.300000"
      ]
     },
     "execution_count": 56,
     "metadata": {},
     "output_type": "execute_result"
    }
   ],
   "source": [
    "#Summary statistics for numerical columns after cleaning\n",
    "IMDb.describe()"
   ]
  },
  {
   "cell_type": "markdown",
   "id": "5faf57df",
   "metadata": {},
   "source": [
    "## Saving the Cleaned Data"
   ]
  },
  {
   "cell_type": "code",
   "execution_count": 57,
   "id": "c7a2ec19",
   "metadata": {},
   "outputs": [],
   "source": [
    "IMDb.to_csv(\"IMDb_cleaned.csv\", index=False)"
   ]
  }
 ],
 "metadata": {
  "kernelspec": {
   "display_name": "Python 3",
   "language": "python",
   "name": "python3"
  },
  "language_info": {
   "codemirror_mode": {
    "name": "ipython",
    "version": 3
   },
   "file_extension": ".py",
   "mimetype": "text/x-python",
   "name": "python",
   "nbconvert_exporter": "python",
   "pygments_lexer": "ipython3",
   "version": "3.8.8"
  }
 },
 "nbformat": 4,
 "nbformat_minor": 5
}
