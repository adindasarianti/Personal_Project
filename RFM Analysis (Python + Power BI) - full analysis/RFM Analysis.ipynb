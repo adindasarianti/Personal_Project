{
 "cells": [
  {
   "cell_type": "markdown",
   "id": "0232becf",
   "metadata": {},
   "source": [
    "# RFM Analysis - full analysis"
   ]
  },
  {
   "cell_type": "code",
   "execution_count": 1,
   "id": "a64c19b1",
   "metadata": {},
   "outputs": [],
   "source": [
    "#Importing libraries\n",
    "import pandas as pd\n",
    "import numpy as np\n",
    "import matplotlib.pyplot as plt\n",
    "import seaborn as sns\n",
    "import sklearn\n",
    "\n",
    "import warnings\n",
    "warnings.filterwarnings('ignore')"
   ]
  },
  {
   "cell_type": "markdown",
   "id": "fdedb1b6",
   "metadata": {},
   "source": [
    "## Quick Overview"
   ]
  },
  {
   "cell_type": "code",
   "execution_count": 2,
   "id": "dd314b1f",
   "metadata": {},
   "outputs": [],
   "source": [
    "#Load the dataset\n",
    "\n",
    "df1 = pd.read_excel('online_retail_II.xlsx', sheet_name='Year 2009-2010')\n",
    "df2 = pd.read_excel('online_retail_II.xlsx', sheet_name='Year 2010-2011')"
   ]
  },
  {
   "cell_type": "code",
   "execution_count": 3,
   "id": "8dceccb7",
   "metadata": {},
   "outputs": [],
   "source": [
    "#Merge the two datasets\n",
    "df = pd.concat([df1, df2], ignore_index=True)"
   ]
  },
  {
   "cell_type": "code",
   "execution_count": 4,
   "id": "d7e56ade",
   "metadata": {},
   "outputs": [],
   "source": [
    "#Add \"Amount\" column\n",
    "df['Amount'] = df['Quantity'] * df['Price']"
   ]
  },
  {
   "cell_type": "code",
   "execution_count": 5,
   "id": "bb092ff3",
   "metadata": {},
   "outputs": [
    {
     "data": {
      "text/plain": [
       "(1067371, 9)"
      ]
     },
     "execution_count": 5,
     "metadata": {},
     "output_type": "execute_result"
    }
   ],
   "source": [
    "#Check the number of rows and columns in the dataset\n",
    "df.shape"
   ]
  },
  {
   "cell_type": "code",
   "execution_count": 6,
   "id": "75841e7c",
   "metadata": {},
   "outputs": [
    {
     "data": {
      "text/html": [
       "<div>\n",
       "<style scoped>\n",
       "    .dataframe tbody tr th:only-of-type {\n",
       "        vertical-align: middle;\n",
       "    }\n",
       "\n",
       "    .dataframe tbody tr th {\n",
       "        vertical-align: top;\n",
       "    }\n",
       "\n",
       "    .dataframe thead th {\n",
       "        text-align: right;\n",
       "    }\n",
       "</style>\n",
       "<table border=\"1\" class=\"dataframe\">\n",
       "  <thead>\n",
       "    <tr style=\"text-align: right;\">\n",
       "      <th></th>\n",
       "      <th>Invoice</th>\n",
       "      <th>StockCode</th>\n",
       "      <th>Description</th>\n",
       "      <th>Quantity</th>\n",
       "      <th>InvoiceDate</th>\n",
       "      <th>Price</th>\n",
       "      <th>Customer ID</th>\n",
       "      <th>Country</th>\n",
       "      <th>Amount</th>\n",
       "    </tr>\n",
       "  </thead>\n",
       "  <tbody>\n",
       "    <tr>\n",
       "      <th>0</th>\n",
       "      <td>489434</td>\n",
       "      <td>85048</td>\n",
       "      <td>15CM CHRISTMAS GLASS BALL 20 LIGHTS</td>\n",
       "      <td>12</td>\n",
       "      <td>2009-12-01 07:45:00</td>\n",
       "      <td>6.95</td>\n",
       "      <td>13085.0</td>\n",
       "      <td>United Kingdom</td>\n",
       "      <td>83.4</td>\n",
       "    </tr>\n",
       "    <tr>\n",
       "      <th>1</th>\n",
       "      <td>489434</td>\n",
       "      <td>79323P</td>\n",
       "      <td>PINK CHERRY LIGHTS</td>\n",
       "      <td>12</td>\n",
       "      <td>2009-12-01 07:45:00</td>\n",
       "      <td>6.75</td>\n",
       "      <td>13085.0</td>\n",
       "      <td>United Kingdom</td>\n",
       "      <td>81.0</td>\n",
       "    </tr>\n",
       "    <tr>\n",
       "      <th>2</th>\n",
       "      <td>489434</td>\n",
       "      <td>79323W</td>\n",
       "      <td>WHITE CHERRY LIGHTS</td>\n",
       "      <td>12</td>\n",
       "      <td>2009-12-01 07:45:00</td>\n",
       "      <td>6.75</td>\n",
       "      <td>13085.0</td>\n",
       "      <td>United Kingdom</td>\n",
       "      <td>81.0</td>\n",
       "    </tr>\n",
       "    <tr>\n",
       "      <th>3</th>\n",
       "      <td>489434</td>\n",
       "      <td>22041</td>\n",
       "      <td>RECORD FRAME 7\" SINGLE SIZE</td>\n",
       "      <td>48</td>\n",
       "      <td>2009-12-01 07:45:00</td>\n",
       "      <td>2.10</td>\n",
       "      <td>13085.0</td>\n",
       "      <td>United Kingdom</td>\n",
       "      <td>100.8</td>\n",
       "    </tr>\n",
       "    <tr>\n",
       "      <th>4</th>\n",
       "      <td>489434</td>\n",
       "      <td>21232</td>\n",
       "      <td>STRAWBERRY CERAMIC TRINKET BOX</td>\n",
       "      <td>24</td>\n",
       "      <td>2009-12-01 07:45:00</td>\n",
       "      <td>1.25</td>\n",
       "      <td>13085.0</td>\n",
       "      <td>United Kingdom</td>\n",
       "      <td>30.0</td>\n",
       "    </tr>\n",
       "    <tr>\n",
       "      <th>5</th>\n",
       "      <td>489434</td>\n",
       "      <td>22064</td>\n",
       "      <td>PINK DOUGHNUT TRINKET POT</td>\n",
       "      <td>24</td>\n",
       "      <td>2009-12-01 07:45:00</td>\n",
       "      <td>1.65</td>\n",
       "      <td>13085.0</td>\n",
       "      <td>United Kingdom</td>\n",
       "      <td>39.6</td>\n",
       "    </tr>\n",
       "    <tr>\n",
       "      <th>6</th>\n",
       "      <td>489434</td>\n",
       "      <td>21871</td>\n",
       "      <td>SAVE THE PLANET MUG</td>\n",
       "      <td>24</td>\n",
       "      <td>2009-12-01 07:45:00</td>\n",
       "      <td>1.25</td>\n",
       "      <td>13085.0</td>\n",
       "      <td>United Kingdom</td>\n",
       "      <td>30.0</td>\n",
       "    </tr>\n",
       "    <tr>\n",
       "      <th>7</th>\n",
       "      <td>489434</td>\n",
       "      <td>21523</td>\n",
       "      <td>FANCY FONT HOME SWEET HOME DOORMAT</td>\n",
       "      <td>10</td>\n",
       "      <td>2009-12-01 07:45:00</td>\n",
       "      <td>5.95</td>\n",
       "      <td>13085.0</td>\n",
       "      <td>United Kingdom</td>\n",
       "      <td>59.5</td>\n",
       "    </tr>\n",
       "    <tr>\n",
       "      <th>8</th>\n",
       "      <td>489435</td>\n",
       "      <td>22350</td>\n",
       "      <td>CAT BOWL</td>\n",
       "      <td>12</td>\n",
       "      <td>2009-12-01 07:46:00</td>\n",
       "      <td>2.55</td>\n",
       "      <td>13085.0</td>\n",
       "      <td>United Kingdom</td>\n",
       "      <td>30.6</td>\n",
       "    </tr>\n",
       "    <tr>\n",
       "      <th>9</th>\n",
       "      <td>489435</td>\n",
       "      <td>22349</td>\n",
       "      <td>DOG BOWL , CHASING BALL DESIGN</td>\n",
       "      <td>12</td>\n",
       "      <td>2009-12-01 07:46:00</td>\n",
       "      <td>3.75</td>\n",
       "      <td>13085.0</td>\n",
       "      <td>United Kingdom</td>\n",
       "      <td>45.0</td>\n",
       "    </tr>\n",
       "  </tbody>\n",
       "</table>\n",
       "</div>"
      ],
      "text/plain": [
       "  Invoice StockCode                          Description  Quantity  \\\n",
       "0  489434     85048  15CM CHRISTMAS GLASS BALL 20 LIGHTS        12   \n",
       "1  489434    79323P                   PINK CHERRY LIGHTS        12   \n",
       "2  489434    79323W                  WHITE CHERRY LIGHTS        12   \n",
       "3  489434     22041         RECORD FRAME 7\" SINGLE SIZE         48   \n",
       "4  489434     21232       STRAWBERRY CERAMIC TRINKET BOX        24   \n",
       "5  489434     22064           PINK DOUGHNUT TRINKET POT         24   \n",
       "6  489434     21871                  SAVE THE PLANET MUG        24   \n",
       "7  489434     21523   FANCY FONT HOME SWEET HOME DOORMAT        10   \n",
       "8  489435     22350                            CAT BOWL         12   \n",
       "9  489435     22349       DOG BOWL , CHASING BALL DESIGN        12   \n",
       "\n",
       "          InvoiceDate  Price  Customer ID         Country  Amount  \n",
       "0 2009-12-01 07:45:00   6.95      13085.0  United Kingdom    83.4  \n",
       "1 2009-12-01 07:45:00   6.75      13085.0  United Kingdom    81.0  \n",
       "2 2009-12-01 07:45:00   6.75      13085.0  United Kingdom    81.0  \n",
       "3 2009-12-01 07:45:00   2.10      13085.0  United Kingdom   100.8  \n",
       "4 2009-12-01 07:45:00   1.25      13085.0  United Kingdom    30.0  \n",
       "5 2009-12-01 07:45:00   1.65      13085.0  United Kingdom    39.6  \n",
       "6 2009-12-01 07:45:00   1.25      13085.0  United Kingdom    30.0  \n",
       "7 2009-12-01 07:45:00   5.95      13085.0  United Kingdom    59.5  \n",
       "8 2009-12-01 07:46:00   2.55      13085.0  United Kingdom    30.6  \n",
       "9 2009-12-01 07:46:00   3.75      13085.0  United Kingdom    45.0  "
      ]
     },
     "execution_count": 6,
     "metadata": {},
     "output_type": "execute_result"
    }
   ],
   "source": [
    "#See the first 10 rows\n",
    "df.head(10)"
   ]
  },
  {
   "cell_type": "code",
   "execution_count": 7,
   "id": "f382eadb",
   "metadata": {},
   "outputs": [],
   "source": [
    "#Rename columns\n",
    "df.rename(columns={\n",
    "    'StockCode': 'Stock Code',\n",
    "    'InvoiceDate': 'Invoice Date',\n",
    "    'Price': 'Unit Price'\n",
    "}, inplace=True)"
   ]
  },
  {
   "cell_type": "code",
   "execution_count": 8,
   "id": "b8547eb1",
   "metadata": {},
   "outputs": [
    {
     "name": "stdout",
     "output_type": "stream",
     "text": [
      "<class 'pandas.core.frame.DataFrame'>\n",
      "RangeIndex: 1067371 entries, 0 to 1067370\n",
      "Data columns (total 9 columns):\n",
      " #   Column        Non-Null Count    Dtype         \n",
      "---  ------        --------------    -----         \n",
      " 0   Invoice       1067371 non-null  object        \n",
      " 1   Stock Code    1067371 non-null  object        \n",
      " 2   Description   1062989 non-null  object        \n",
      " 3   Quantity      1067371 non-null  int64         \n",
      " 4   Invoice Date  1067371 non-null  datetime64[ns]\n",
      " 5   Unit Price    1067371 non-null  float64       \n",
      " 6   Customer ID   824364 non-null   float64       \n",
      " 7   Country       1067371 non-null  object        \n",
      " 8   Amount        1067371 non-null  float64       \n",
      "dtypes: datetime64[ns](1), float64(3), int64(1), object(4)\n",
      "memory usage: 73.3+ MB\n"
     ]
    }
   ],
   "source": [
    "#Show dataset summary\n",
    "df.info()"
   ]
  },
  {
   "cell_type": "code",
   "execution_count": 9,
   "id": "99879c21",
   "metadata": {},
   "outputs": [
    {
     "data": {
      "text/html": [
       "<div>\n",
       "<style scoped>\n",
       "    .dataframe tbody tr th:only-of-type {\n",
       "        vertical-align: middle;\n",
       "    }\n",
       "\n",
       "    .dataframe tbody tr th {\n",
       "        vertical-align: top;\n",
       "    }\n",
       "\n",
       "    .dataframe thead th {\n",
       "        text-align: right;\n",
       "    }\n",
       "</style>\n",
       "<table border=\"1\" class=\"dataframe\">\n",
       "  <thead>\n",
       "    <tr style=\"text-align: right;\">\n",
       "      <th></th>\n",
       "      <th>Quantity</th>\n",
       "      <th>Invoice Date</th>\n",
       "      <th>Unit Price</th>\n",
       "      <th>Customer ID</th>\n",
       "      <th>Amount</th>\n",
       "    </tr>\n",
       "  </thead>\n",
       "  <tbody>\n",
       "    <tr>\n",
       "      <th>count</th>\n",
       "      <td>1.067371e+06</td>\n",
       "      <td>1067371</td>\n",
       "      <td>1.067371e+06</td>\n",
       "      <td>824364.000000</td>\n",
       "      <td>1.067371e+06</td>\n",
       "    </tr>\n",
       "    <tr>\n",
       "      <th>mean</th>\n",
       "      <td>9.938898e+00</td>\n",
       "      <td>2011-01-02 21:13:55.394028544</td>\n",
       "      <td>4.649388e+00</td>\n",
       "      <td>15324.638504</td>\n",
       "      <td>1.806987e+01</td>\n",
       "    </tr>\n",
       "    <tr>\n",
       "      <th>min</th>\n",
       "      <td>-8.099500e+04</td>\n",
       "      <td>2009-12-01 07:45:00</td>\n",
       "      <td>-5.359436e+04</td>\n",
       "      <td>12346.000000</td>\n",
       "      <td>-1.684696e+05</td>\n",
       "    </tr>\n",
       "    <tr>\n",
       "      <th>25%</th>\n",
       "      <td>1.000000e+00</td>\n",
       "      <td>2010-07-09 09:46:00</td>\n",
       "      <td>1.250000e+00</td>\n",
       "      <td>13975.000000</td>\n",
       "      <td>3.750000e+00</td>\n",
       "    </tr>\n",
       "    <tr>\n",
       "      <th>50%</th>\n",
       "      <td>3.000000e+00</td>\n",
       "      <td>2010-12-07 15:28:00</td>\n",
       "      <td>2.100000e+00</td>\n",
       "      <td>15255.000000</td>\n",
       "      <td>9.900000e+00</td>\n",
       "    </tr>\n",
       "    <tr>\n",
       "      <th>75%</th>\n",
       "      <td>1.000000e+01</td>\n",
       "      <td>2011-07-22 10:23:00</td>\n",
       "      <td>4.150000e+00</td>\n",
       "      <td>16797.000000</td>\n",
       "      <td>1.770000e+01</td>\n",
       "    </tr>\n",
       "    <tr>\n",
       "      <th>max</th>\n",
       "      <td>8.099500e+04</td>\n",
       "      <td>2011-12-09 12:50:00</td>\n",
       "      <td>3.897000e+04</td>\n",
       "      <td>18287.000000</td>\n",
       "      <td>1.684696e+05</td>\n",
       "    </tr>\n",
       "    <tr>\n",
       "      <th>std</th>\n",
       "      <td>1.727058e+02</td>\n",
       "      <td>NaN</td>\n",
       "      <td>1.235531e+02</td>\n",
       "      <td>1697.464450</td>\n",
       "      <td>2.924202e+02</td>\n",
       "    </tr>\n",
       "  </tbody>\n",
       "</table>\n",
       "</div>"
      ],
      "text/plain": [
       "           Quantity                   Invoice Date    Unit Price  \\\n",
       "count  1.067371e+06                        1067371  1.067371e+06   \n",
       "mean   9.938898e+00  2011-01-02 21:13:55.394028544  4.649388e+00   \n",
       "min   -8.099500e+04            2009-12-01 07:45:00 -5.359436e+04   \n",
       "25%    1.000000e+00            2010-07-09 09:46:00  1.250000e+00   \n",
       "50%    3.000000e+00            2010-12-07 15:28:00  2.100000e+00   \n",
       "75%    1.000000e+01            2011-07-22 10:23:00  4.150000e+00   \n",
       "max    8.099500e+04            2011-12-09 12:50:00  3.897000e+04   \n",
       "std    1.727058e+02                            NaN  1.235531e+02   \n",
       "\n",
       "         Customer ID        Amount  \n",
       "count  824364.000000  1.067371e+06  \n",
       "mean    15324.638504  1.806987e+01  \n",
       "min     12346.000000 -1.684696e+05  \n",
       "25%     13975.000000  3.750000e+00  \n",
       "50%     15255.000000  9.900000e+00  \n",
       "75%     16797.000000  1.770000e+01  \n",
       "max     18287.000000  1.684696e+05  \n",
       "std      1697.464450  2.924202e+02  "
      ]
     },
     "execution_count": 9,
     "metadata": {},
     "output_type": "execute_result"
    }
   ],
   "source": [
    "#Summary statistics\n",
    "df.describe()"
   ]
  },
  {
   "cell_type": "markdown",
   "id": "82399c9e",
   "metadata": {},
   "source": [
    "## Data Cleaning"
   ]
  },
  {
   "cell_type": "markdown",
   "id": "182322cc",
   "metadata": {},
   "source": [
    "### Handling Missing Values"
   ]
  },
  {
   "cell_type": "code",
   "execution_count": 10,
   "id": "0fee6fa5",
   "metadata": {},
   "outputs": [
    {
     "data": {
      "text/plain": [
       "Invoice              0\n",
       "Stock Code           0\n",
       "Description       4382\n",
       "Quantity             0\n",
       "Invoice Date         0\n",
       "Unit Price           0\n",
       "Customer ID     243007\n",
       "Country              0\n",
       "Amount               0\n",
       "dtype: int64"
      ]
     },
     "execution_count": 10,
     "metadata": {},
     "output_type": "execute_result"
    }
   ],
   "source": [
    "#Check for missing values\n",
    "df.isna().sum()"
   ]
  },
  {
   "cell_type": "markdown",
   "id": "b322a1f0",
   "metadata": {},
   "source": [
    "#### Handling Missing Values in \"Description\" column"
   ]
  },
  {
   "cell_type": "code",
   "execution_count": 11,
   "id": "c862750b",
   "metadata": {},
   "outputs": [],
   "source": [
    "#Make product descriptions uppercase\n",
    "df['Description'] = df['Description'].str.upper()"
   ]
  },
  {
   "cell_type": "code",
   "execution_count": 12,
   "id": "98a74f60",
   "metadata": {},
   "outputs": [
    {
     "data": {
      "text/plain": [
       "5671"
      ]
     },
     "execution_count": 12,
     "metadata": {},
     "output_type": "execute_result"
    }
   ],
   "source": [
    "#Check the number of unique values\n",
    "df['Description'].nunique()"
   ]
  },
  {
   "cell_type": "code",
   "execution_count": 13,
   "id": "313c1afa",
   "metadata": {},
   "outputs": [
    {
     "data": {
      "text/html": [
       "<div>\n",
       "<style scoped>\n",
       "    .dataframe tbody tr th:only-of-type {\n",
       "        vertical-align: middle;\n",
       "    }\n",
       "\n",
       "    .dataframe tbody tr th {\n",
       "        vertical-align: top;\n",
       "    }\n",
       "\n",
       "    .dataframe thead th {\n",
       "        text-align: right;\n",
       "    }\n",
       "</style>\n",
       "<table border=\"1\" class=\"dataframe\">\n",
       "  <thead>\n",
       "    <tr style=\"text-align: right;\">\n",
       "      <th></th>\n",
       "      <th>Invoice</th>\n",
       "      <th>Stock Code</th>\n",
       "      <th>Description</th>\n",
       "      <th>Quantity</th>\n",
       "      <th>Invoice Date</th>\n",
       "      <th>Unit Price</th>\n",
       "      <th>Customer ID</th>\n",
       "      <th>Country</th>\n",
       "      <th>Amount</th>\n",
       "    </tr>\n",
       "  </thead>\n",
       "  <tbody>\n",
       "    <tr>\n",
       "      <th>470</th>\n",
       "      <td>489521</td>\n",
       "      <td>21646</td>\n",
       "      <td>NaN</td>\n",
       "      <td>-50</td>\n",
       "      <td>2009-12-01 11:44:00</td>\n",
       "      <td>0.0</td>\n",
       "      <td>NaN</td>\n",
       "      <td>United Kingdom</td>\n",
       "      <td>-0.0</td>\n",
       "    </tr>\n",
       "    <tr>\n",
       "      <th>3114</th>\n",
       "      <td>489655</td>\n",
       "      <td>20683</td>\n",
       "      <td>NaN</td>\n",
       "      <td>-44</td>\n",
       "      <td>2009-12-01 17:26:00</td>\n",
       "      <td>0.0</td>\n",
       "      <td>NaN</td>\n",
       "      <td>United Kingdom</td>\n",
       "      <td>-0.0</td>\n",
       "    </tr>\n",
       "    <tr>\n",
       "      <th>3161</th>\n",
       "      <td>489659</td>\n",
       "      <td>21350</td>\n",
       "      <td>NaN</td>\n",
       "      <td>230</td>\n",
       "      <td>2009-12-01 17:39:00</td>\n",
       "      <td>0.0</td>\n",
       "      <td>NaN</td>\n",
       "      <td>United Kingdom</td>\n",
       "      <td>0.0</td>\n",
       "    </tr>\n",
       "    <tr>\n",
       "      <th>3731</th>\n",
       "      <td>489781</td>\n",
       "      <td>84292</td>\n",
       "      <td>NaN</td>\n",
       "      <td>17</td>\n",
       "      <td>2009-12-02 11:45:00</td>\n",
       "      <td>0.0</td>\n",
       "      <td>NaN</td>\n",
       "      <td>United Kingdom</td>\n",
       "      <td>0.0</td>\n",
       "    </tr>\n",
       "    <tr>\n",
       "      <th>4296</th>\n",
       "      <td>489806</td>\n",
       "      <td>18010</td>\n",
       "      <td>NaN</td>\n",
       "      <td>-770</td>\n",
       "      <td>2009-12-02 12:42:00</td>\n",
       "      <td>0.0</td>\n",
       "      <td>NaN</td>\n",
       "      <td>United Kingdom</td>\n",
       "      <td>-0.0</td>\n",
       "    </tr>\n",
       "    <tr>\n",
       "      <th>...</th>\n",
       "      <td>...</td>\n",
       "      <td>...</td>\n",
       "      <td>...</td>\n",
       "      <td>...</td>\n",
       "      <td>...</td>\n",
       "      <td>...</td>\n",
       "      <td>...</td>\n",
       "      <td>...</td>\n",
       "      <td>...</td>\n",
       "    </tr>\n",
       "    <tr>\n",
       "      <th>1060783</th>\n",
       "      <td>581199</td>\n",
       "      <td>84581</td>\n",
       "      <td>NaN</td>\n",
       "      <td>-2</td>\n",
       "      <td>2011-12-07 18:26:00</td>\n",
       "      <td>0.0</td>\n",
       "      <td>NaN</td>\n",
       "      <td>United Kingdom</td>\n",
       "      <td>-0.0</td>\n",
       "    </tr>\n",
       "    <tr>\n",
       "      <th>1060787</th>\n",
       "      <td>581203</td>\n",
       "      <td>23406</td>\n",
       "      <td>NaN</td>\n",
       "      <td>15</td>\n",
       "      <td>2011-12-07 18:31:00</td>\n",
       "      <td>0.0</td>\n",
       "      <td>NaN</td>\n",
       "      <td>United Kingdom</td>\n",
       "      <td>0.0</td>\n",
       "    </tr>\n",
       "    <tr>\n",
       "      <th>1060793</th>\n",
       "      <td>581209</td>\n",
       "      <td>21620</td>\n",
       "      <td>NaN</td>\n",
       "      <td>6</td>\n",
       "      <td>2011-12-07 18:35:00</td>\n",
       "      <td>0.0</td>\n",
       "      <td>NaN</td>\n",
       "      <td>United Kingdom</td>\n",
       "      <td>0.0</td>\n",
       "    </tr>\n",
       "    <tr>\n",
       "      <th>1062442</th>\n",
       "      <td>581234</td>\n",
       "      <td>72817</td>\n",
       "      <td>NaN</td>\n",
       "      <td>27</td>\n",
       "      <td>2011-12-08 10:33:00</td>\n",
       "      <td>0.0</td>\n",
       "      <td>NaN</td>\n",
       "      <td>United Kingdom</td>\n",
       "      <td>0.0</td>\n",
       "    </tr>\n",
       "    <tr>\n",
       "      <th>1064015</th>\n",
       "      <td>581408</td>\n",
       "      <td>85175</td>\n",
       "      <td>NaN</td>\n",
       "      <td>20</td>\n",
       "      <td>2011-12-08 14:06:00</td>\n",
       "      <td>0.0</td>\n",
       "      <td>NaN</td>\n",
       "      <td>United Kingdom</td>\n",
       "      <td>0.0</td>\n",
       "    </tr>\n",
       "  </tbody>\n",
       "</table>\n",
       "<p>4386 rows × 9 columns</p>\n",
       "</div>"
      ],
      "text/plain": [
       "        Invoice Stock Code Description  Quantity        Invoice Date  \\\n",
       "470      489521      21646         NaN       -50 2009-12-01 11:44:00   \n",
       "3114     489655      20683         NaN       -44 2009-12-01 17:26:00   \n",
       "3161     489659      21350         NaN       230 2009-12-01 17:39:00   \n",
       "3731     489781      84292         NaN        17 2009-12-02 11:45:00   \n",
       "4296     489806      18010         NaN      -770 2009-12-02 12:42:00   \n",
       "...         ...        ...         ...       ...                 ...   \n",
       "1060783  581199      84581         NaN        -2 2011-12-07 18:26:00   \n",
       "1060787  581203      23406         NaN        15 2011-12-07 18:31:00   \n",
       "1060793  581209      21620         NaN         6 2011-12-07 18:35:00   \n",
       "1062442  581234      72817         NaN        27 2011-12-08 10:33:00   \n",
       "1064015  581408      85175         NaN        20 2011-12-08 14:06:00   \n",
       "\n",
       "         Unit Price  Customer ID         Country  Amount  \n",
       "470             0.0          NaN  United Kingdom    -0.0  \n",
       "3114            0.0          NaN  United Kingdom    -0.0  \n",
       "3161            0.0          NaN  United Kingdom     0.0  \n",
       "3731            0.0          NaN  United Kingdom     0.0  \n",
       "4296            0.0          NaN  United Kingdom    -0.0  \n",
       "...             ...          ...             ...     ...  \n",
       "1060783         0.0          NaN  United Kingdom    -0.0  \n",
       "1060787         0.0          NaN  United Kingdom     0.0  \n",
       "1060793         0.0          NaN  United Kingdom     0.0  \n",
       "1062442         0.0          NaN  United Kingdom     0.0  \n",
       "1064015         0.0          NaN  United Kingdom     0.0  \n",
       "\n",
       "[4386 rows x 9 columns]"
      ]
     },
     "execution_count": 13,
     "metadata": {},
     "output_type": "execute_result"
    }
   ],
   "source": [
    "#Show rows with missing values\n",
    "df[df['Description'].isnull()]"
   ]
  },
  {
   "cell_type": "code",
   "execution_count": 14,
   "id": "1ebf66f4",
   "metadata": {},
   "outputs": [],
   "source": [
    "#Drop rows with null values\n",
    "df = df.dropna(subset=['Description'])"
   ]
  },
  {
   "cell_type": "code",
   "execution_count": 15,
   "id": "1432d810",
   "metadata": {},
   "outputs": [
    {
     "data": {
      "text/plain": [
       "1062985"
      ]
     },
     "execution_count": 15,
     "metadata": {},
     "output_type": "execute_result"
    }
   ],
   "source": [
    "#Check the number of descriptions after cleaning\n",
    "len(df['Description'])"
   ]
  },
  {
   "cell_type": "markdown",
   "id": "f9447d8a",
   "metadata": {},
   "source": [
    "#### Handling Missing Values in \"Customer ID\" column"
   ]
  },
  {
   "cell_type": "code",
   "execution_count": 16,
   "id": "3fa34cc6",
   "metadata": {},
   "outputs": [
    {
     "data": {
      "text/html": [
       "<div>\n",
       "<style scoped>\n",
       "    .dataframe tbody tr th:only-of-type {\n",
       "        vertical-align: middle;\n",
       "    }\n",
       "\n",
       "    .dataframe tbody tr th {\n",
       "        vertical-align: top;\n",
       "    }\n",
       "\n",
       "    .dataframe thead th {\n",
       "        text-align: right;\n",
       "    }\n",
       "</style>\n",
       "<table border=\"1\" class=\"dataframe\">\n",
       "  <thead>\n",
       "    <tr style=\"text-align: right;\">\n",
       "      <th></th>\n",
       "      <th>Invoice</th>\n",
       "      <th>Stock Code</th>\n",
       "      <th>Description</th>\n",
       "      <th>Quantity</th>\n",
       "      <th>Invoice Date</th>\n",
       "      <th>Unit Price</th>\n",
       "      <th>Customer ID</th>\n",
       "      <th>Country</th>\n",
       "      <th>Amount</th>\n",
       "    </tr>\n",
       "  </thead>\n",
       "  <tbody>\n",
       "    <tr>\n",
       "      <th>263</th>\n",
       "      <td>489464</td>\n",
       "      <td>21733</td>\n",
       "      <td>85123A MIXED</td>\n",
       "      <td>-96</td>\n",
       "      <td>2009-12-01 10:52:00</td>\n",
       "      <td>0.00</td>\n",
       "      <td>NaN</td>\n",
       "      <td>United Kingdom</td>\n",
       "      <td>-0.00</td>\n",
       "    </tr>\n",
       "    <tr>\n",
       "      <th>283</th>\n",
       "      <td>489463</td>\n",
       "      <td>71477</td>\n",
       "      <td>SHORT</td>\n",
       "      <td>-240</td>\n",
       "      <td>2009-12-01 10:52:00</td>\n",
       "      <td>0.00</td>\n",
       "      <td>NaN</td>\n",
       "      <td>United Kingdom</td>\n",
       "      <td>-0.00</td>\n",
       "    </tr>\n",
       "    <tr>\n",
       "      <th>284</th>\n",
       "      <td>489467</td>\n",
       "      <td>85123A</td>\n",
       "      <td>21733 MIXED</td>\n",
       "      <td>-192</td>\n",
       "      <td>2009-12-01 10:53:00</td>\n",
       "      <td>0.00</td>\n",
       "      <td>NaN</td>\n",
       "      <td>United Kingdom</td>\n",
       "      <td>-0.00</td>\n",
       "    </tr>\n",
       "    <tr>\n",
       "      <th>577</th>\n",
       "      <td>489525</td>\n",
       "      <td>85226C</td>\n",
       "      <td>BLUE PULL BACK RACING CAR</td>\n",
       "      <td>1</td>\n",
       "      <td>2009-12-01 11:49:00</td>\n",
       "      <td>0.55</td>\n",
       "      <td>NaN</td>\n",
       "      <td>United Kingdom</td>\n",
       "      <td>0.55</td>\n",
       "    </tr>\n",
       "    <tr>\n",
       "      <th>578</th>\n",
       "      <td>489525</td>\n",
       "      <td>85227</td>\n",
       "      <td>SET/6 3D KIT CARDS FOR KIDS</td>\n",
       "      <td>1</td>\n",
       "      <td>2009-12-01 11:49:00</td>\n",
       "      <td>0.85</td>\n",
       "      <td>NaN</td>\n",
       "      <td>United Kingdom</td>\n",
       "      <td>0.85</td>\n",
       "    </tr>\n",
       "    <tr>\n",
       "      <th>...</th>\n",
       "      <td>...</td>\n",
       "      <td>...</td>\n",
       "      <td>...</td>\n",
       "      <td>...</td>\n",
       "      <td>...</td>\n",
       "      <td>...</td>\n",
       "      <td>...</td>\n",
       "      <td>...</td>\n",
       "      <td>...</td>\n",
       "    </tr>\n",
       "    <tr>\n",
       "      <th>1066997</th>\n",
       "      <td>581498</td>\n",
       "      <td>85099B</td>\n",
       "      <td>JUMBO BAG RED RETROSPOT</td>\n",
       "      <td>5</td>\n",
       "      <td>2011-12-09 10:26:00</td>\n",
       "      <td>4.13</td>\n",
       "      <td>NaN</td>\n",
       "      <td>United Kingdom</td>\n",
       "      <td>20.65</td>\n",
       "    </tr>\n",
       "    <tr>\n",
       "      <th>1066998</th>\n",
       "      <td>581498</td>\n",
       "      <td>85099C</td>\n",
       "      <td>JUMBO  BAG BAROQUE BLACK WHITE</td>\n",
       "      <td>4</td>\n",
       "      <td>2011-12-09 10:26:00</td>\n",
       "      <td>4.13</td>\n",
       "      <td>NaN</td>\n",
       "      <td>United Kingdom</td>\n",
       "      <td>16.52</td>\n",
       "    </tr>\n",
       "    <tr>\n",
       "      <th>1066999</th>\n",
       "      <td>581498</td>\n",
       "      <td>85150</td>\n",
       "      <td>LADIES &amp; GENTLEMEN METAL SIGN</td>\n",
       "      <td>1</td>\n",
       "      <td>2011-12-09 10:26:00</td>\n",
       "      <td>4.96</td>\n",
       "      <td>NaN</td>\n",
       "      <td>United Kingdom</td>\n",
       "      <td>4.96</td>\n",
       "    </tr>\n",
       "    <tr>\n",
       "      <th>1067000</th>\n",
       "      <td>581498</td>\n",
       "      <td>85174</td>\n",
       "      <td>S/4 CACTI CANDLES</td>\n",
       "      <td>1</td>\n",
       "      <td>2011-12-09 10:26:00</td>\n",
       "      <td>10.79</td>\n",
       "      <td>NaN</td>\n",
       "      <td>United Kingdom</td>\n",
       "      <td>10.79</td>\n",
       "    </tr>\n",
       "    <tr>\n",
       "      <th>1067001</th>\n",
       "      <td>581498</td>\n",
       "      <td>DOT</td>\n",
       "      <td>DOTCOM POSTAGE</td>\n",
       "      <td>1</td>\n",
       "      <td>2011-12-09 10:26:00</td>\n",
       "      <td>1714.17</td>\n",
       "      <td>NaN</td>\n",
       "      <td>United Kingdom</td>\n",
       "      <td>1714.17</td>\n",
       "    </tr>\n",
       "  </tbody>\n",
       "</table>\n",
       "<p>238621 rows × 9 columns</p>\n",
       "</div>"
      ],
      "text/plain": [
       "        Invoice Stock Code                     Description  Quantity  \\\n",
       "263      489464      21733                    85123A MIXED       -96   \n",
       "283      489463      71477                           SHORT      -240   \n",
       "284      489467     85123A                     21733 MIXED      -192   \n",
       "577      489525     85226C       BLUE PULL BACK RACING CAR         1   \n",
       "578      489525      85227     SET/6 3D KIT CARDS FOR KIDS         1   \n",
       "...         ...        ...                             ...       ...   \n",
       "1066997  581498     85099B         JUMBO BAG RED RETROSPOT         5   \n",
       "1066998  581498     85099C  JUMBO  BAG BAROQUE BLACK WHITE         4   \n",
       "1066999  581498      85150   LADIES & GENTLEMEN METAL SIGN         1   \n",
       "1067000  581498      85174               S/4 CACTI CANDLES         1   \n",
       "1067001  581498        DOT                  DOTCOM POSTAGE         1   \n",
       "\n",
       "               Invoice Date  Unit Price  Customer ID         Country   Amount  \n",
       "263     2009-12-01 10:52:00        0.00          NaN  United Kingdom    -0.00  \n",
       "283     2009-12-01 10:52:00        0.00          NaN  United Kingdom    -0.00  \n",
       "284     2009-12-01 10:53:00        0.00          NaN  United Kingdom    -0.00  \n",
       "577     2009-12-01 11:49:00        0.55          NaN  United Kingdom     0.55  \n",
       "578     2009-12-01 11:49:00        0.85          NaN  United Kingdom     0.85  \n",
       "...                     ...         ...          ...             ...      ...  \n",
       "1066997 2011-12-09 10:26:00        4.13          NaN  United Kingdom    20.65  \n",
       "1066998 2011-12-09 10:26:00        4.13          NaN  United Kingdom    16.52  \n",
       "1066999 2011-12-09 10:26:00        4.96          NaN  United Kingdom     4.96  \n",
       "1067000 2011-12-09 10:26:00       10.79          NaN  United Kingdom    10.79  \n",
       "1067001 2011-12-09 10:26:00     1714.17          NaN  United Kingdom  1714.17  \n",
       "\n",
       "[238621 rows x 9 columns]"
      ]
     },
     "execution_count": 16,
     "metadata": {},
     "output_type": "execute_result"
    }
   ],
   "source": [
    "#Show rows with missing values\n",
    "df[df['Customer ID'].isnull()]"
   ]
  },
  {
   "cell_type": "code",
   "execution_count": 17,
   "id": "a7b55ce6",
   "metadata": {},
   "outputs": [
    {
     "data": {
      "text/plain": [
       "238621"
      ]
     },
     "execution_count": 17,
     "metadata": {},
     "output_type": "execute_result"
    }
   ],
   "source": [
    "#Get the total count of null values\n",
    "df['Customer ID'].isnull().sum()"
   ]
  },
  {
   "cell_type": "code",
   "execution_count": 18,
   "id": "8fdb094a",
   "metadata": {},
   "outputs": [],
   "source": [
    "#Drop rows with null values\n",
    "df = df.dropna(subset=['Customer ID'])"
   ]
  },
  {
   "cell_type": "markdown",
   "id": "96796387",
   "metadata": {},
   "source": [
    "### Handling Duplicates Data"
   ]
  },
  {
   "cell_type": "code",
   "execution_count": 19,
   "id": "80e25c9a",
   "metadata": {},
   "outputs": [
    {
     "data": {
      "text/plain": [
       "26479"
      ]
     },
     "execution_count": 19,
     "metadata": {},
     "output_type": "execute_result"
    }
   ],
   "source": [
    "#Check for duplicate rows\n",
    "df.duplicated().sum()"
   ]
  },
  {
   "cell_type": "code",
   "execution_count": 20,
   "id": "4d9bf47f",
   "metadata": {},
   "outputs": [],
   "source": [
    "#Drop duplicates\n",
    "df = df.drop_duplicates()"
   ]
  },
  {
   "cell_type": "markdown",
   "id": "cb9a207a",
   "metadata": {},
   "source": [
    "### Check and Handling Column One by One"
   ]
  },
  {
   "cell_type": "markdown",
   "id": "d02c6762",
   "metadata": {},
   "source": [
    "#### \"Invoice\" Column"
   ]
  },
  {
   "cell_type": "code",
   "execution_count": 21,
   "id": "c972e997",
   "metadata": {},
   "outputs": [],
   "source": [
    "#Change the data type to string\n",
    "df['Invoice'] = df['Invoice'].astype(str)"
   ]
  },
  {
   "cell_type": "code",
   "execution_count": 22,
   "id": "b9eff787",
   "metadata": {},
   "outputs": [
    {
     "data": {
      "text/html": [
       "<div>\n",
       "<style scoped>\n",
       "    .dataframe tbody tr th:only-of-type {\n",
       "        vertical-align: middle;\n",
       "    }\n",
       "\n",
       "    .dataframe tbody tr th {\n",
       "        vertical-align: top;\n",
       "    }\n",
       "\n",
       "    .dataframe thead th {\n",
       "        text-align: right;\n",
       "    }\n",
       "</style>\n",
       "<table border=\"1\" class=\"dataframe\">\n",
       "  <thead>\n",
       "    <tr style=\"text-align: right;\">\n",
       "      <th></th>\n",
       "      <th>Invoice</th>\n",
       "      <th>Stock Code</th>\n",
       "      <th>Description</th>\n",
       "      <th>Quantity</th>\n",
       "      <th>Invoice Date</th>\n",
       "      <th>Unit Price</th>\n",
       "      <th>Customer ID</th>\n",
       "      <th>Country</th>\n",
       "      <th>Amount</th>\n",
       "    </tr>\n",
       "  </thead>\n",
       "  <tbody>\n",
       "    <tr>\n",
       "      <th>178</th>\n",
       "      <td>C489449</td>\n",
       "      <td>22087</td>\n",
       "      <td>PAPER BUNTING WHITE LACE</td>\n",
       "      <td>-12</td>\n",
       "      <td>2009-12-01 10:33:00</td>\n",
       "      <td>2.95</td>\n",
       "      <td>16321.0</td>\n",
       "      <td>Australia</td>\n",
       "      <td>-35.40</td>\n",
       "    </tr>\n",
       "    <tr>\n",
       "      <th>179</th>\n",
       "      <td>C489449</td>\n",
       "      <td>85206A</td>\n",
       "      <td>CREAM FELT EASTER EGG BASKET</td>\n",
       "      <td>-6</td>\n",
       "      <td>2009-12-01 10:33:00</td>\n",
       "      <td>1.65</td>\n",
       "      <td>16321.0</td>\n",
       "      <td>Australia</td>\n",
       "      <td>-9.90</td>\n",
       "    </tr>\n",
       "    <tr>\n",
       "      <th>180</th>\n",
       "      <td>C489449</td>\n",
       "      <td>21895</td>\n",
       "      <td>POTTING SHED SOW 'N' GROW SET</td>\n",
       "      <td>-4</td>\n",
       "      <td>2009-12-01 10:33:00</td>\n",
       "      <td>4.25</td>\n",
       "      <td>16321.0</td>\n",
       "      <td>Australia</td>\n",
       "      <td>-17.00</td>\n",
       "    </tr>\n",
       "    <tr>\n",
       "      <th>181</th>\n",
       "      <td>C489449</td>\n",
       "      <td>21896</td>\n",
       "      <td>POTTING SHED TWINE</td>\n",
       "      <td>-6</td>\n",
       "      <td>2009-12-01 10:33:00</td>\n",
       "      <td>2.10</td>\n",
       "      <td>16321.0</td>\n",
       "      <td>Australia</td>\n",
       "      <td>-12.60</td>\n",
       "    </tr>\n",
       "    <tr>\n",
       "      <th>182</th>\n",
       "      <td>C489449</td>\n",
       "      <td>22083</td>\n",
       "      <td>PAPER CHAIN KIT RETRO SPOT</td>\n",
       "      <td>-12</td>\n",
       "      <td>2009-12-01 10:33:00</td>\n",
       "      <td>2.95</td>\n",
       "      <td>16321.0</td>\n",
       "      <td>Australia</td>\n",
       "      <td>-35.40</td>\n",
       "    </tr>\n",
       "    <tr>\n",
       "      <th>...</th>\n",
       "      <td>...</td>\n",
       "      <td>...</td>\n",
       "      <td>...</td>\n",
       "      <td>...</td>\n",
       "      <td>...</td>\n",
       "      <td>...</td>\n",
       "      <td>...</td>\n",
       "      <td>...</td>\n",
       "      <td>...</td>\n",
       "    </tr>\n",
       "    <tr>\n",
       "      <th>1065910</th>\n",
       "      <td>C581490</td>\n",
       "      <td>23144</td>\n",
       "      <td>ZINC T-LIGHT HOLDER STARS SMALL</td>\n",
       "      <td>-11</td>\n",
       "      <td>2011-12-09 09:57:00</td>\n",
       "      <td>0.83</td>\n",
       "      <td>14397.0</td>\n",
       "      <td>United Kingdom</td>\n",
       "      <td>-9.13</td>\n",
       "    </tr>\n",
       "    <tr>\n",
       "      <th>1067002</th>\n",
       "      <td>C581499</td>\n",
       "      <td>M</td>\n",
       "      <td>MANUAL</td>\n",
       "      <td>-1</td>\n",
       "      <td>2011-12-09 10:28:00</td>\n",
       "      <td>224.69</td>\n",
       "      <td>15498.0</td>\n",
       "      <td>United Kingdom</td>\n",
       "      <td>-224.69</td>\n",
       "    </tr>\n",
       "    <tr>\n",
       "      <th>1067176</th>\n",
       "      <td>C581568</td>\n",
       "      <td>21258</td>\n",
       "      <td>VICTORIAN SEWING BOX LARGE</td>\n",
       "      <td>-5</td>\n",
       "      <td>2011-12-09 11:57:00</td>\n",
       "      <td>10.95</td>\n",
       "      <td>15311.0</td>\n",
       "      <td>United Kingdom</td>\n",
       "      <td>-54.75</td>\n",
       "    </tr>\n",
       "    <tr>\n",
       "      <th>1067177</th>\n",
       "      <td>C581569</td>\n",
       "      <td>84978</td>\n",
       "      <td>HANGING HEART JAR T-LIGHT HOLDER</td>\n",
       "      <td>-1</td>\n",
       "      <td>2011-12-09 11:58:00</td>\n",
       "      <td>1.25</td>\n",
       "      <td>17315.0</td>\n",
       "      <td>United Kingdom</td>\n",
       "      <td>-1.25</td>\n",
       "    </tr>\n",
       "    <tr>\n",
       "      <th>1067178</th>\n",
       "      <td>C581569</td>\n",
       "      <td>20979</td>\n",
       "      <td>36 PENCILS TUBE RED RETROSPOT</td>\n",
       "      <td>-5</td>\n",
       "      <td>2011-12-09 11:58:00</td>\n",
       "      <td>1.25</td>\n",
       "      <td>17315.0</td>\n",
       "      <td>United Kingdom</td>\n",
       "      <td>-6.25</td>\n",
       "    </tr>\n",
       "  </tbody>\n",
       "</table>\n",
       "<p>18390 rows × 9 columns</p>\n",
       "</div>"
      ],
      "text/plain": [
       "         Invoice Stock Code                       Description  Quantity  \\\n",
       "178      C489449      22087          PAPER BUNTING WHITE LACE       -12   \n",
       "179      C489449     85206A      CREAM FELT EASTER EGG BASKET        -6   \n",
       "180      C489449      21895     POTTING SHED SOW 'N' GROW SET        -4   \n",
       "181      C489449      21896                POTTING SHED TWINE        -6   \n",
       "182      C489449      22083        PAPER CHAIN KIT RETRO SPOT       -12   \n",
       "...          ...        ...                               ...       ...   \n",
       "1065910  C581490      23144   ZINC T-LIGHT HOLDER STARS SMALL       -11   \n",
       "1067002  C581499          M                            MANUAL        -1   \n",
       "1067176  C581568      21258        VICTORIAN SEWING BOX LARGE        -5   \n",
       "1067177  C581569      84978  HANGING HEART JAR T-LIGHT HOLDER        -1   \n",
       "1067178  C581569      20979     36 PENCILS TUBE RED RETROSPOT        -5   \n",
       "\n",
       "               Invoice Date  Unit Price  Customer ID         Country  Amount  \n",
       "178     2009-12-01 10:33:00        2.95      16321.0       Australia  -35.40  \n",
       "179     2009-12-01 10:33:00        1.65      16321.0       Australia   -9.90  \n",
       "180     2009-12-01 10:33:00        4.25      16321.0       Australia  -17.00  \n",
       "181     2009-12-01 10:33:00        2.10      16321.0       Australia  -12.60  \n",
       "182     2009-12-01 10:33:00        2.95      16321.0       Australia  -35.40  \n",
       "...                     ...         ...          ...             ...     ...  \n",
       "1065910 2011-12-09 09:57:00        0.83      14397.0  United Kingdom   -9.13  \n",
       "1067002 2011-12-09 10:28:00      224.69      15498.0  United Kingdom -224.69  \n",
       "1067176 2011-12-09 11:57:00       10.95      15311.0  United Kingdom  -54.75  \n",
       "1067177 2011-12-09 11:58:00        1.25      17315.0  United Kingdom   -1.25  \n",
       "1067178 2011-12-09 11:58:00        1.25      17315.0  United Kingdom   -6.25  \n",
       "\n",
       "[18390 rows x 9 columns]"
      ]
     },
     "execution_count": 22,
     "metadata": {},
     "output_type": "execute_result"
    }
   ],
   "source": [
    "#Checking for orders starting with \"C\" indicating cancellations\n",
    "df[df['Invoice'].str.startswith('C')]"
   ]
  },
  {
   "cell_type": "code",
   "execution_count": 23,
   "id": "45031493",
   "metadata": {},
   "outputs": [],
   "source": [
    "#Drop cancelled orders\n",
    "df = df[~df['Invoice'].astype(str).str.startswith('C')]"
   ]
  },
  {
   "cell_type": "markdown",
   "id": "313b38d9",
   "metadata": {},
   "source": [
    "#### \"Stock Code\" Column"
   ]
  },
  {
   "cell_type": "code",
   "execution_count": 24,
   "id": "95cbdc1a",
   "metadata": {},
   "outputs": [],
   "source": [
    "#Change data type to string\n",
    "df['Stock Code'] = df['Stock Code'].astype(str)"
   ]
  },
  {
   "cell_type": "markdown",
   "id": "93d5dc59",
   "metadata": {},
   "source": [
    "#### \"Description\" Column"
   ]
  },
  {
   "cell_type": "code",
   "execution_count": 25,
   "id": "34da5af8",
   "metadata": {},
   "outputs": [
    {
     "data": {
      "text/plain": [
       "array(['MANUAL', 'ADJUSTMENT BY JOHN ON 26/01/2010 16',\n",
       "       'ADJUSTMENT BY JOHN ON 26/01/2010 17', 'DISCOUNT',\n",
       "       'ADJUSTMENT BY PETER ON JUN 25 2010 ', 'NEXT DAY CARRIAGE'],\n",
       "      dtype=object)"
      ]
     },
     "execution_count": 25,
     "metadata": {},
     "output_type": "execute_result"
    }
   ],
   "source": [
    "#Check for incorrect values\n",
    "unwanted = [\"ADJUSTMENT\", \"BROKEN\", \"WET\", \"CRUSHED\", \"DAMAGED\", \"DAMAGES\", \"DAMP\", \"DIRTY\", \"DONATED\", \"INCORRECT\", \n",
    "            \"LOST\", \"GONE\", \"MISSING\", \"MOULDY\", \"SMASHED\", \"WRONG\", \"ERROR\", \"WRONGLY\", \"OOPS\", \"CARGO\", \"COUNTED\", \n",
    "            \"DISCOLOURED\", \"DISCOUNT\", \"EBAY\", \"FAULTY\", \"FOUND\", \"GIVEN\", \"MANUAL\", \"NO STOCK\", \n",
    "            \"NON COLOUR\", \"REVERSE\", \"REX USE\", \"RUSTY\", \"SHORT\", \"UPDATE\", \"BROKEN WONKY\", \n",
    "            \"SAMPLES\", \"TAIG\", \"THROUGH\", \"UNSALEABLE\", \"WEBSITE\", \"FIND\", \"MARKED\", \"NEXT\"]\n",
    "\n",
    "df[df[\"Description\"].str.upper().str.contains(\"|\".join(unwanted))][\"Description\"].unique()"
   ]
  },
  {
   "cell_type": "code",
   "execution_count": 26,
   "id": "7c47fb61",
   "metadata": {},
   "outputs": [],
   "source": [
    "#Drop descriptions containing unwanted keywords\n",
    "df = df[~df['Description'].str.upper().str.contains(\"|\".join(unwanted), na=False)]"
   ]
  },
  {
   "cell_type": "markdown",
   "id": "5c9a3d3c",
   "metadata": {},
   "source": [
    "#### \"Quantity\" Column"
   ]
  },
  {
   "cell_type": "code",
   "execution_count": 27,
   "id": "6e06e2fd",
   "metadata": {},
   "outputs": [
    {
     "data": {
      "text/plain": [
       "0"
      ]
     },
     "execution_count": 27,
     "metadata": {},
     "output_type": "execute_result"
    }
   ],
   "source": [
    "#Check how many negative quantities exist\n",
    "(df['Quantity'] < 0).sum()"
   ]
  },
  {
   "cell_type": "markdown",
   "id": "d91016b4",
   "metadata": {},
   "source": [
    "#### \"Unit Price\" Column"
   ]
  },
  {
   "cell_type": "code",
   "execution_count": 28,
   "id": "fa275350",
   "metadata": {},
   "outputs": [
    {
     "data": {
      "text/plain": [
       "0"
      ]
     },
     "execution_count": 28,
     "metadata": {},
     "output_type": "execute_result"
    }
   ],
   "source": [
    "#Check how many negative unit prices exist\n",
    "(df['Unit Price'] < 0).sum()"
   ]
  },
  {
   "cell_type": "code",
   "execution_count": 29,
   "id": "c2252cb3",
   "metadata": {},
   "outputs": [
    {
     "data": {
      "text/html": [
       "<div>\n",
       "<style scoped>\n",
       "    .dataframe tbody tr th:only-of-type {\n",
       "        vertical-align: middle;\n",
       "    }\n",
       "\n",
       "    .dataframe tbody tr th {\n",
       "        vertical-align: top;\n",
       "    }\n",
       "\n",
       "    .dataframe thead th {\n",
       "        text-align: right;\n",
       "    }\n",
       "</style>\n",
       "<table border=\"1\" class=\"dataframe\">\n",
       "  <thead>\n",
       "    <tr style=\"text-align: right;\">\n",
       "      <th></th>\n",
       "      <th>Invoice</th>\n",
       "      <th>Stock Code</th>\n",
       "      <th>Description</th>\n",
       "      <th>Quantity</th>\n",
       "      <th>Invoice Date</th>\n",
       "      <th>Unit Price</th>\n",
       "      <th>Customer ID</th>\n",
       "      <th>Country</th>\n",
       "      <th>Amount</th>\n",
       "    </tr>\n",
       "  </thead>\n",
       "  <tbody>\n",
       "    <tr>\n",
       "      <th>4674</th>\n",
       "      <td>489825</td>\n",
       "      <td>22076</td>\n",
       "      <td>6 RIBBONS EMPIRE</td>\n",
       "      <td>12</td>\n",
       "      <td>2009-12-02 13:34:00</td>\n",
       "      <td>0.0</td>\n",
       "      <td>16126.0</td>\n",
       "      <td>United Kingdom</td>\n",
       "      <td>0.0</td>\n",
       "    </tr>\n",
       "    <tr>\n",
       "      <th>6781</th>\n",
       "      <td>489998</td>\n",
       "      <td>48185</td>\n",
       "      <td>DOOR MAT FAIRY CAKE</td>\n",
       "      <td>2</td>\n",
       "      <td>2009-12-03 11:19:00</td>\n",
       "      <td>0.0</td>\n",
       "      <td>15658.0</td>\n",
       "      <td>United Kingdom</td>\n",
       "      <td>0.0</td>\n",
       "    </tr>\n",
       "    <tr>\n",
       "      <th>18738</th>\n",
       "      <td>490961</td>\n",
       "      <td>22065</td>\n",
       "      <td>CHRISTMAS PUDDING TRINKET POT</td>\n",
       "      <td>1</td>\n",
       "      <td>2009-12-08 15:25:00</td>\n",
       "      <td>0.0</td>\n",
       "      <td>14108.0</td>\n",
       "      <td>United Kingdom</td>\n",
       "      <td>0.0</td>\n",
       "    </tr>\n",
       "    <tr>\n",
       "      <th>18739</th>\n",
       "      <td>490961</td>\n",
       "      <td>22142</td>\n",
       "      <td>CHRISTMAS CRAFT WHITE FAIRY</td>\n",
       "      <td>12</td>\n",
       "      <td>2009-12-08 15:25:00</td>\n",
       "      <td>0.0</td>\n",
       "      <td>14108.0</td>\n",
       "      <td>United Kingdom</td>\n",
       "      <td>0.0</td>\n",
       "    </tr>\n",
       "    <tr>\n",
       "      <th>32916</th>\n",
       "      <td>492079</td>\n",
       "      <td>85042</td>\n",
       "      <td>ANTIQUE LILY FAIRY LIGHTS</td>\n",
       "      <td>8</td>\n",
       "      <td>2009-12-15 13:49:00</td>\n",
       "      <td>0.0</td>\n",
       "      <td>15070.0</td>\n",
       "      <td>United Kingdom</td>\n",
       "      <td>0.0</td>\n",
       "    </tr>\n",
       "    <tr>\n",
       "      <th>...</th>\n",
       "      <td>...</td>\n",
       "      <td>...</td>\n",
       "      <td>...</td>\n",
       "      <td>...</td>\n",
       "      <td>...</td>\n",
       "      <td>...</td>\n",
       "      <td>...</td>\n",
       "      <td>...</td>\n",
       "      <td>...</td>\n",
       "    </tr>\n",
       "    <tr>\n",
       "      <th>979924</th>\n",
       "      <td>575579</td>\n",
       "      <td>22437</td>\n",
       "      <td>SET OF 9 BLACK SKULL BALLOONS</td>\n",
       "      <td>20</td>\n",
       "      <td>2011-11-10 11:49:00</td>\n",
       "      <td>0.0</td>\n",
       "      <td>13081.0</td>\n",
       "      <td>United Kingdom</td>\n",
       "      <td>0.0</td>\n",
       "    </tr>\n",
       "    <tr>\n",
       "      <th>979925</th>\n",
       "      <td>575579</td>\n",
       "      <td>22089</td>\n",
       "      <td>PAPER BUNTING VINTAGE PAISLEY</td>\n",
       "      <td>24</td>\n",
       "      <td>2011-11-10 11:49:00</td>\n",
       "      <td>0.0</td>\n",
       "      <td>13081.0</td>\n",
       "      <td>United Kingdom</td>\n",
       "      <td>0.0</td>\n",
       "    </tr>\n",
       "    <tr>\n",
       "      <th>1004540</th>\n",
       "      <td>577129</td>\n",
       "      <td>22464</td>\n",
       "      <td>HANGING METAL HEART LANTERN</td>\n",
       "      <td>4</td>\n",
       "      <td>2011-11-17 19:52:00</td>\n",
       "      <td>0.0</td>\n",
       "      <td>15602.0</td>\n",
       "      <td>United Kingdom</td>\n",
       "      <td>0.0</td>\n",
       "    </tr>\n",
       "    <tr>\n",
       "      <th>1006110</th>\n",
       "      <td>577314</td>\n",
       "      <td>23407</td>\n",
       "      <td>SET OF 2 TRAYS HOME SWEET HOME</td>\n",
       "      <td>2</td>\n",
       "      <td>2011-11-18 13:23:00</td>\n",
       "      <td>0.0</td>\n",
       "      <td>12444.0</td>\n",
       "      <td>Norway</td>\n",
       "      <td>0.0</td>\n",
       "    </tr>\n",
       "    <tr>\n",
       "      <th>1027583</th>\n",
       "      <td>578841</td>\n",
       "      <td>84826</td>\n",
       "      <td>ASSTD DESIGN 3D PAPER STICKERS</td>\n",
       "      <td>12540</td>\n",
       "      <td>2011-11-25 15:57:00</td>\n",
       "      <td>0.0</td>\n",
       "      <td>13256.0</td>\n",
       "      <td>United Kingdom</td>\n",
       "      <td>0.0</td>\n",
       "    </tr>\n",
       "  </tbody>\n",
       "</table>\n",
       "<p>63 rows × 9 columns</p>\n",
       "</div>"
      ],
      "text/plain": [
       "        Invoice Stock Code                     Description  Quantity  \\\n",
       "4674     489825      22076              6 RIBBONS EMPIRE          12   \n",
       "6781     489998      48185             DOOR MAT FAIRY CAKE         2   \n",
       "18738    490961      22065  CHRISTMAS PUDDING TRINKET POT          1   \n",
       "18739    490961      22142    CHRISTMAS CRAFT WHITE FAIRY         12   \n",
       "32916    492079      85042       ANTIQUE LILY FAIRY LIGHTS         8   \n",
       "...         ...        ...                             ...       ...   \n",
       "979924   575579      22437   SET OF 9 BLACK SKULL BALLOONS        20   \n",
       "979925   575579      22089   PAPER BUNTING VINTAGE PAISLEY        24   \n",
       "1004540  577129      22464     HANGING METAL HEART LANTERN         4   \n",
       "1006110  577314      23407  SET OF 2 TRAYS HOME SWEET HOME         2   \n",
       "1027583  578841      84826  ASSTD DESIGN 3D PAPER STICKERS     12540   \n",
       "\n",
       "               Invoice Date  Unit Price  Customer ID         Country  Amount  \n",
       "4674    2009-12-02 13:34:00         0.0      16126.0  United Kingdom     0.0  \n",
       "6781    2009-12-03 11:19:00         0.0      15658.0  United Kingdom     0.0  \n",
       "18738   2009-12-08 15:25:00         0.0      14108.0  United Kingdom     0.0  \n",
       "18739   2009-12-08 15:25:00         0.0      14108.0  United Kingdom     0.0  \n",
       "32916   2009-12-15 13:49:00         0.0      15070.0  United Kingdom     0.0  \n",
       "...                     ...         ...          ...             ...     ...  \n",
       "979924  2011-11-10 11:49:00         0.0      13081.0  United Kingdom     0.0  \n",
       "979925  2011-11-10 11:49:00         0.0      13081.0  United Kingdom     0.0  \n",
       "1004540 2011-11-17 19:52:00         0.0      15602.0  United Kingdom     0.0  \n",
       "1006110 2011-11-18 13:23:00         0.0      12444.0          Norway     0.0  \n",
       "1027583 2011-11-25 15:57:00         0.0      13256.0  United Kingdom     0.0  \n",
       "\n",
       "[63 rows x 9 columns]"
      ]
     },
     "execution_count": 29,
     "metadata": {},
     "output_type": "execute_result"
    }
   ],
   "source": [
    "#Show zero-priced items\n",
    "df[df['Unit Price'] == 0]"
   ]
  },
  {
   "cell_type": "code",
   "execution_count": 30,
   "id": "6b7840c0",
   "metadata": {},
   "outputs": [],
   "source": [
    "#Keep only rows with positive unit prices\n",
    "df = df[df['Unit Price'] > 0]"
   ]
  },
  {
   "cell_type": "markdown",
   "id": "2a0722d8",
   "metadata": {},
   "source": [
    "#### \"Customer ID\" Column"
   ]
  },
  {
   "cell_type": "code",
   "execution_count": 31,
   "id": "622009a8",
   "metadata": {},
   "outputs": [],
   "source": [
    "#Change data type to string\n",
    "df['Customer ID'] = df['Customer ID'].astype(str)"
   ]
  },
  {
   "cell_type": "code",
   "execution_count": 32,
   "id": "23701b68",
   "metadata": {},
   "outputs": [],
   "source": [
    "#Replace the decimal\n",
    "df['Customer ID'] = df['Customer ID'].str.replace('\\.0$', '', regex=True)"
   ]
  },
  {
   "cell_type": "markdown",
   "id": "ce7b3a87",
   "metadata": {},
   "source": [
    "#### \"Country\" Column"
   ]
  },
  {
   "cell_type": "code",
   "execution_count": 33,
   "id": "407ceaa7",
   "metadata": {},
   "outputs": [],
   "source": [
    "#Change the data type to string\n",
    "df['Country'] = df['Country'].astype(str)"
   ]
  },
  {
   "cell_type": "code",
   "execution_count": 34,
   "id": "ccc7bc94",
   "metadata": {},
   "outputs": [
    {
     "data": {
      "text/plain": [
       "array(['United Kingdom', 'France', 'USA', 'Belgium', 'Australia', 'EIRE',\n",
       "       'Germany', 'Portugal', 'Denmark', 'Netherlands', 'Poland',\n",
       "       'Channel Islands', 'Spain', 'Cyprus', 'Greece', 'Norway',\n",
       "       'Austria', 'Sweden', 'United Arab Emirates', 'Finland', 'Italy',\n",
       "       'Switzerland', 'Japan', 'Unspecified', 'Malta', 'RSA', 'Singapore',\n",
       "       'Bahrain', 'Thailand', 'Israel', 'Lithuania', 'Nigeria',\n",
       "       'West Indies', 'Korea', 'Brazil', 'Canada', 'Iceland', 'Lebanon',\n",
       "       'Saudi Arabia', 'Czech Republic', 'European Community'],\n",
       "      dtype=object)"
      ]
     },
     "execution_count": 34,
     "metadata": {},
     "output_type": "execute_result"
    }
   ],
   "source": [
    "#Show unique values \n",
    "df['Country'].unique()"
   ]
  },
  {
   "cell_type": "code",
   "execution_count": 35,
   "id": "311eb62d",
   "metadata": {},
   "outputs": [
    {
     "data": {
      "text/html": [
       "<div>\n",
       "<style scoped>\n",
       "    .dataframe tbody tr th:only-of-type {\n",
       "        vertical-align: middle;\n",
       "    }\n",
       "\n",
       "    .dataframe tbody tr th {\n",
       "        vertical-align: top;\n",
       "    }\n",
       "\n",
       "    .dataframe thead th {\n",
       "        text-align: right;\n",
       "    }\n",
       "</style>\n",
       "<table border=\"1\" class=\"dataframe\">\n",
       "  <thead>\n",
       "    <tr style=\"text-align: right;\">\n",
       "      <th></th>\n",
       "      <th>Invoice</th>\n",
       "      <th>Stock Code</th>\n",
       "      <th>Description</th>\n",
       "      <th>Quantity</th>\n",
       "      <th>Invoice Date</th>\n",
       "      <th>Unit Price</th>\n",
       "      <th>Customer ID</th>\n",
       "      <th>Country</th>\n",
       "      <th>Amount</th>\n",
       "    </tr>\n",
       "  </thead>\n",
       "  <tbody>\n",
       "    <tr>\n",
       "      <th>61394</th>\n",
       "      <td>494860</td>\n",
       "      <td>84832</td>\n",
       "      <td>ZINC WILLIE WINKIE  CANDLE STICK</td>\n",
       "      <td>5</td>\n",
       "      <td>2010-01-19 11:01:00</td>\n",
       "      <td>0.85</td>\n",
       "      <td>12470</td>\n",
       "      <td>Unspecified</td>\n",
       "      <td>4.25</td>\n",
       "    </tr>\n",
       "    <tr>\n",
       "      <th>61395</th>\n",
       "      <td>494860</td>\n",
       "      <td>84836</td>\n",
       "      <td>ZINC METAL HEART DECORATION</td>\n",
       "      <td>5</td>\n",
       "      <td>2010-01-19 11:01:00</td>\n",
       "      <td>1.25</td>\n",
       "      <td>12470</td>\n",
       "      <td>Unspecified</td>\n",
       "      <td>6.25</td>\n",
       "    </tr>\n",
       "    <tr>\n",
       "      <th>61396</th>\n",
       "      <td>494860</td>\n",
       "      <td>85014D</td>\n",
       "      <td>PINK/BROWN DOTS RUFFLED UMBRELLA</td>\n",
       "      <td>1</td>\n",
       "      <td>2010-01-19 11:01:00</td>\n",
       "      <td>5.95</td>\n",
       "      <td>12470</td>\n",
       "      <td>Unspecified</td>\n",
       "      <td>5.95</td>\n",
       "    </tr>\n",
       "    <tr>\n",
       "      <th>61397</th>\n",
       "      <td>494860</td>\n",
       "      <td>85014A</td>\n",
       "      <td>BLACK/BLUE DOTS RUFFLED UMBRELLA</td>\n",
       "      <td>1</td>\n",
       "      <td>2010-01-19 11:01:00</td>\n",
       "      <td>5.95</td>\n",
       "      <td>12470</td>\n",
       "      <td>Unspecified</td>\n",
       "      <td>5.95</td>\n",
       "    </tr>\n",
       "    <tr>\n",
       "      <th>61398</th>\n",
       "      <td>494860</td>\n",
       "      <td>85014B</td>\n",
       "      <td>RED/WHITE DOTS RUFFLED UMBRELLA</td>\n",
       "      <td>2</td>\n",
       "      <td>2010-01-19 11:01:00</td>\n",
       "      <td>5.95</td>\n",
       "      <td>12470</td>\n",
       "      <td>Unspecified</td>\n",
       "      <td>11.90</td>\n",
       "    </tr>\n",
       "    <tr>\n",
       "      <th>...</th>\n",
       "      <td>...</td>\n",
       "      <td>...</td>\n",
       "      <td>...</td>\n",
       "      <td>...</td>\n",
       "      <td>...</td>\n",
       "      <td>...</td>\n",
       "      <td>...</td>\n",
       "      <td>...</td>\n",
       "      <td>...</td>\n",
       "    </tr>\n",
       "    <tr>\n",
       "      <th>834271</th>\n",
       "      <td>564051</td>\n",
       "      <td>23007</td>\n",
       "      <td>SPACEBOY BABY GIFT SET</td>\n",
       "      <td>1</td>\n",
       "      <td>2011-08-22 13:32:00</td>\n",
       "      <td>16.95</td>\n",
       "      <td>14265</td>\n",
       "      <td>Unspecified</td>\n",
       "      <td>16.95</td>\n",
       "    </tr>\n",
       "    <tr>\n",
       "      <th>834272</th>\n",
       "      <td>564051</td>\n",
       "      <td>21833</td>\n",
       "      <td>CAMOUFLAGE LED TORCH</td>\n",
       "      <td>12</td>\n",
       "      <td>2011-08-22 13:32:00</td>\n",
       "      <td>1.69</td>\n",
       "      <td>14265</td>\n",
       "      <td>Unspecified</td>\n",
       "      <td>20.28</td>\n",
       "    </tr>\n",
       "    <tr>\n",
       "      <th>834273</th>\n",
       "      <td>564051</td>\n",
       "      <td>23081</td>\n",
       "      <td>GREEN METAL BOX ARMY SUPPLIES</td>\n",
       "      <td>2</td>\n",
       "      <td>2011-08-22 13:32:00</td>\n",
       "      <td>8.25</td>\n",
       "      <td>14265</td>\n",
       "      <td>Unspecified</td>\n",
       "      <td>16.50</td>\n",
       "    </tr>\n",
       "    <tr>\n",
       "      <th>834274</th>\n",
       "      <td>564051</td>\n",
       "      <td>23046</td>\n",
       "      <td>PAPER LANTERN 9 POINT DELUXE STAR</td>\n",
       "      <td>2</td>\n",
       "      <td>2011-08-22 13:32:00</td>\n",
       "      <td>6.65</td>\n",
       "      <td>14265</td>\n",
       "      <td>Unspecified</td>\n",
       "      <td>13.30</td>\n",
       "    </tr>\n",
       "    <tr>\n",
       "      <th>834275</th>\n",
       "      <td>564051</td>\n",
       "      <td>23045</td>\n",
       "      <td>PAPER LANTERN 5 POINT STAR MOON</td>\n",
       "      <td>4</td>\n",
       "      <td>2011-08-22 13:32:00</td>\n",
       "      <td>4.15</td>\n",
       "      <td>14265</td>\n",
       "      <td>Unspecified</td>\n",
       "      <td>16.60</td>\n",
       "    </tr>\n",
       "  </tbody>\n",
       "</table>\n",
       "<p>518 rows × 9 columns</p>\n",
       "</div>"
      ],
      "text/plain": [
       "       Invoice Stock Code                        Description  Quantity  \\\n",
       "61394   494860      84832   ZINC WILLIE WINKIE  CANDLE STICK         5   \n",
       "61395   494860      84836        ZINC METAL HEART DECORATION         5   \n",
       "61396   494860     85014D   PINK/BROWN DOTS RUFFLED UMBRELLA         1   \n",
       "61397   494860     85014A   BLACK/BLUE DOTS RUFFLED UMBRELLA         1   \n",
       "61398   494860     85014B    RED/WHITE DOTS RUFFLED UMBRELLA         2   \n",
       "...        ...        ...                                ...       ...   \n",
       "834271  564051      23007             SPACEBOY BABY GIFT SET         1   \n",
       "834272  564051      21833               CAMOUFLAGE LED TORCH        12   \n",
       "834273  564051      23081      GREEN METAL BOX ARMY SUPPLIES         2   \n",
       "834274  564051      23046  PAPER LANTERN 9 POINT DELUXE STAR         2   \n",
       "834275  564051      23045   PAPER LANTERN 5 POINT STAR MOON          4   \n",
       "\n",
       "              Invoice Date  Unit Price Customer ID      Country  Amount  \n",
       "61394  2010-01-19 11:01:00        0.85       12470  Unspecified    4.25  \n",
       "61395  2010-01-19 11:01:00        1.25       12470  Unspecified    6.25  \n",
       "61396  2010-01-19 11:01:00        5.95       12470  Unspecified    5.95  \n",
       "61397  2010-01-19 11:01:00        5.95       12470  Unspecified    5.95  \n",
       "61398  2010-01-19 11:01:00        5.95       12470  Unspecified   11.90  \n",
       "...                    ...         ...         ...          ...     ...  \n",
       "834271 2011-08-22 13:32:00       16.95       14265  Unspecified   16.95  \n",
       "834272 2011-08-22 13:32:00        1.69       14265  Unspecified   20.28  \n",
       "834273 2011-08-22 13:32:00        8.25       14265  Unspecified   16.50  \n",
       "834274 2011-08-22 13:32:00        6.65       14265  Unspecified   13.30  \n",
       "834275 2011-08-22 13:32:00        4.15       14265  Unspecified   16.60  \n",
       "\n",
       "[518 rows x 9 columns]"
      ]
     },
     "execution_count": 35,
     "metadata": {},
     "output_type": "execute_result"
    }
   ],
   "source": [
    "#Show rows where \"Country\" is unspecified\n",
    "df[df['Country'] == 'Unspecified']"
   ]
  },
  {
   "cell_type": "code",
   "execution_count": 36,
   "id": "96f13d60",
   "metadata": {},
   "outputs": [
    {
     "data": {
      "text/plain": [
       "518"
      ]
     },
     "execution_count": 36,
     "metadata": {},
     "output_type": "execute_result"
    }
   ],
   "source": [
    "#Number of 'Unspecified' countries\n",
    "(df['Country'] == 'Unspecified').sum()"
   ]
  },
  {
   "cell_type": "code",
   "execution_count": 37,
   "id": "cecf01b3",
   "metadata": {},
   "outputs": [],
   "source": [
    "#Filter out 'Unspecified' countries\n",
    "df = df[df['Country'] != 'Unspecified']"
   ]
  },
  {
   "cell_type": "markdown",
   "id": "e60c4807",
   "metadata": {},
   "source": [
    "### Check the Cleaned Data"
   ]
  },
  {
   "cell_type": "code",
   "execution_count": 38,
   "id": "c6f7b062",
   "metadata": {},
   "outputs": [
    {
     "data": {
      "text/html": [
       "<div>\n",
       "<style scoped>\n",
       "    .dataframe tbody tr th:only-of-type {\n",
       "        vertical-align: middle;\n",
       "    }\n",
       "\n",
       "    .dataframe tbody tr th {\n",
       "        vertical-align: top;\n",
       "    }\n",
       "\n",
       "    .dataframe thead th {\n",
       "        text-align: right;\n",
       "    }\n",
       "</style>\n",
       "<table border=\"1\" class=\"dataframe\">\n",
       "  <thead>\n",
       "    <tr style=\"text-align: right;\">\n",
       "      <th></th>\n",
       "      <th>Invoice</th>\n",
       "      <th>Stock Code</th>\n",
       "      <th>Description</th>\n",
       "      <th>Quantity</th>\n",
       "      <th>Invoice Date</th>\n",
       "      <th>Unit Price</th>\n",
       "      <th>Customer ID</th>\n",
       "      <th>Country</th>\n",
       "      <th>Amount</th>\n",
       "    </tr>\n",
       "  </thead>\n",
       "  <tbody>\n",
       "    <tr>\n",
       "      <th>0</th>\n",
       "      <td>489434</td>\n",
       "      <td>85048</td>\n",
       "      <td>15CM CHRISTMAS GLASS BALL 20 LIGHTS</td>\n",
       "      <td>12</td>\n",
       "      <td>2009-12-01 07:45:00</td>\n",
       "      <td>6.95</td>\n",
       "      <td>13085</td>\n",
       "      <td>United Kingdom</td>\n",
       "      <td>83.4</td>\n",
       "    </tr>\n",
       "    <tr>\n",
       "      <th>1</th>\n",
       "      <td>489434</td>\n",
       "      <td>79323P</td>\n",
       "      <td>PINK CHERRY LIGHTS</td>\n",
       "      <td>12</td>\n",
       "      <td>2009-12-01 07:45:00</td>\n",
       "      <td>6.75</td>\n",
       "      <td>13085</td>\n",
       "      <td>United Kingdom</td>\n",
       "      <td>81.0</td>\n",
       "    </tr>\n",
       "    <tr>\n",
       "      <th>2</th>\n",
       "      <td>489434</td>\n",
       "      <td>79323W</td>\n",
       "      <td>WHITE CHERRY LIGHTS</td>\n",
       "      <td>12</td>\n",
       "      <td>2009-12-01 07:45:00</td>\n",
       "      <td>6.75</td>\n",
       "      <td>13085</td>\n",
       "      <td>United Kingdom</td>\n",
       "      <td>81.0</td>\n",
       "    </tr>\n",
       "    <tr>\n",
       "      <th>3</th>\n",
       "      <td>489434</td>\n",
       "      <td>22041</td>\n",
       "      <td>RECORD FRAME 7\" SINGLE SIZE</td>\n",
       "      <td>48</td>\n",
       "      <td>2009-12-01 07:45:00</td>\n",
       "      <td>2.10</td>\n",
       "      <td>13085</td>\n",
       "      <td>United Kingdom</td>\n",
       "      <td>100.8</td>\n",
       "    </tr>\n",
       "    <tr>\n",
       "      <th>4</th>\n",
       "      <td>489434</td>\n",
       "      <td>21232</td>\n",
       "      <td>STRAWBERRY CERAMIC TRINKET BOX</td>\n",
       "      <td>24</td>\n",
       "      <td>2009-12-01 07:45:00</td>\n",
       "      <td>1.25</td>\n",
       "      <td>13085</td>\n",
       "      <td>United Kingdom</td>\n",
       "      <td>30.0</td>\n",
       "    </tr>\n",
       "  </tbody>\n",
       "</table>\n",
       "</div>"
      ],
      "text/plain": [
       "  Invoice Stock Code                          Description  Quantity  \\\n",
       "0  489434      85048  15CM CHRISTMAS GLASS BALL 20 LIGHTS        12   \n",
       "1  489434     79323P                   PINK CHERRY LIGHTS        12   \n",
       "2  489434     79323W                  WHITE CHERRY LIGHTS        12   \n",
       "3  489434      22041         RECORD FRAME 7\" SINGLE SIZE         48   \n",
       "4  489434      21232       STRAWBERRY CERAMIC TRINKET BOX        24   \n",
       "\n",
       "         Invoice Date  Unit Price Customer ID         Country  Amount  \n",
       "0 2009-12-01 07:45:00        6.95       13085  United Kingdom    83.4  \n",
       "1 2009-12-01 07:45:00        6.75       13085  United Kingdom    81.0  \n",
       "2 2009-12-01 07:45:00        6.75       13085  United Kingdom    81.0  \n",
       "3 2009-12-01 07:45:00        2.10       13085  United Kingdom   100.8  \n",
       "4 2009-12-01 07:45:00        1.25       13085  United Kingdom    30.0  "
      ]
     },
     "execution_count": 38,
     "metadata": {},
     "output_type": "execute_result"
    }
   ],
   "source": [
    "df.head()"
   ]
  },
  {
   "cell_type": "code",
   "execution_count": 39,
   "id": "8568fac9",
   "metadata": {},
   "outputs": [
    {
     "name": "stdout",
     "output_type": "stream",
     "text": [
      "<class 'pandas.core.frame.DataFrame'>\n",
      "Index: 778107 entries, 0 to 1067370\n",
      "Data columns (total 9 columns):\n",
      " #   Column        Non-Null Count   Dtype         \n",
      "---  ------        --------------   -----         \n",
      " 0   Invoice       778107 non-null  object        \n",
      " 1   Stock Code    778107 non-null  object        \n",
      " 2   Description   778107 non-null  object        \n",
      " 3   Quantity      778107 non-null  int64         \n",
      " 4   Invoice Date  778107 non-null  datetime64[ns]\n",
      " 5   Unit Price    778107 non-null  float64       \n",
      " 6   Customer ID   778107 non-null  object        \n",
      " 7   Country       778107 non-null  object        \n",
      " 8   Amount        778107 non-null  float64       \n",
      "dtypes: datetime64[ns](1), float64(2), int64(1), object(5)\n",
      "memory usage: 59.4+ MB\n"
     ]
    }
   ],
   "source": [
    "df.info()"
   ]
  },
  {
   "cell_type": "code",
   "execution_count": 40,
   "id": "f913d9b9",
   "metadata": {
    "scrolled": true
   },
   "outputs": [
    {
     "data": {
      "text/html": [
       "<div>\n",
       "<style scoped>\n",
       "    .dataframe tbody tr th:only-of-type {\n",
       "        vertical-align: middle;\n",
       "    }\n",
       "\n",
       "    .dataframe tbody tr th {\n",
       "        vertical-align: top;\n",
       "    }\n",
       "\n",
       "    .dataframe thead th {\n",
       "        text-align: right;\n",
       "    }\n",
       "</style>\n",
       "<table border=\"1\" class=\"dataframe\">\n",
       "  <thead>\n",
       "    <tr style=\"text-align: right;\">\n",
       "      <th></th>\n",
       "      <th>Quantity</th>\n",
       "      <th>Invoice Date</th>\n",
       "      <th>Unit Price</th>\n",
       "      <th>Amount</th>\n",
       "    </tr>\n",
       "  </thead>\n",
       "  <tbody>\n",
       "    <tr>\n",
       "      <th>count</th>\n",
       "      <td>778107.000000</td>\n",
       "      <td>778107</td>\n",
       "      <td>778107.000000</td>\n",
       "      <td>778107.000000</td>\n",
       "    </tr>\n",
       "    <tr>\n",
       "      <th>mean</th>\n",
       "      <td>13.493189</td>\n",
       "      <td>2011-01-03 02:36:50.296449792</td>\n",
       "      <td>3.026507</td>\n",
       "      <td>22.115920</td>\n",
       "    </tr>\n",
       "    <tr>\n",
       "      <th>min</th>\n",
       "      <td>1.000000</td>\n",
       "      <td>2009-12-01 07:45:00</td>\n",
       "      <td>0.001000</td>\n",
       "      <td>0.001000</td>\n",
       "    </tr>\n",
       "    <tr>\n",
       "      <th>25%</th>\n",
       "      <td>2.000000</td>\n",
       "      <td>2010-07-02 14:39:00</td>\n",
       "      <td>1.250000</td>\n",
       "      <td>4.950000</td>\n",
       "    </tr>\n",
       "    <tr>\n",
       "      <th>50%</th>\n",
       "      <td>6.000000</td>\n",
       "      <td>2010-12-02 14:40:00</td>\n",
       "      <td>1.950000</td>\n",
       "      <td>12.480000</td>\n",
       "    </tr>\n",
       "    <tr>\n",
       "      <th>75%</th>\n",
       "      <td>12.000000</td>\n",
       "      <td>2011-08-01 16:41:00</td>\n",
       "      <td>3.750000</td>\n",
       "      <td>19.800000</td>\n",
       "    </tr>\n",
       "    <tr>\n",
       "      <th>max</th>\n",
       "      <td>80995.000000</td>\n",
       "      <td>2011-12-09 12:50:00</td>\n",
       "      <td>8142.750000</td>\n",
       "      <td>168469.600000</td>\n",
       "    </tr>\n",
       "    <tr>\n",
       "      <th>std</th>\n",
       "      <td>145.953793</td>\n",
       "      <td>NaN</td>\n",
       "      <td>11.231755</td>\n",
       "      <td>225.963973</td>\n",
       "    </tr>\n",
       "  </tbody>\n",
       "</table>\n",
       "</div>"
      ],
      "text/plain": [
       "            Quantity                   Invoice Date     Unit Price  \\\n",
       "count  778107.000000                         778107  778107.000000   \n",
       "mean       13.493189  2011-01-03 02:36:50.296449792       3.026507   \n",
       "min         1.000000            2009-12-01 07:45:00       0.001000   \n",
       "25%         2.000000            2010-07-02 14:39:00       1.250000   \n",
       "50%         6.000000            2010-12-02 14:40:00       1.950000   \n",
       "75%        12.000000            2011-08-01 16:41:00       3.750000   \n",
       "max     80995.000000            2011-12-09 12:50:00    8142.750000   \n",
       "std       145.953793                            NaN      11.231755   \n",
       "\n",
       "              Amount  \n",
       "count  778107.000000  \n",
       "mean       22.115920  \n",
       "min         0.001000  \n",
       "25%         4.950000  \n",
       "50%        12.480000  \n",
       "75%        19.800000  \n",
       "max    168469.600000  \n",
       "std       225.963973  "
      ]
     },
     "execution_count": 40,
     "metadata": {},
     "output_type": "execute_result"
    }
   ],
   "source": [
    "df.describe()"
   ]
  },
  {
   "cell_type": "code",
   "execution_count": 41,
   "id": "3c194d68",
   "metadata": {},
   "outputs": [],
   "source": [
    "#Export cleaned data to excel\n",
    "#df.to_excel(\"Data Cleaned (RFM).xlsx\", index=False)"
   ]
  },
  {
   "cell_type": "markdown",
   "id": "acd830fd",
   "metadata": {},
   "source": [
    "## RFM Analysis"
   ]
  },
  {
   "cell_type": "code",
   "execution_count": 42,
   "id": "49fecbb0",
   "metadata": {},
   "outputs": [],
   "source": [
    "#Snapshot date: a day after last transaction\n",
    "snapshot_date = df['Invoice Date'].max() + pd.Timedelta(days=1)"
   ]
  },
  {
   "cell_type": "code",
   "execution_count": 43,
   "id": "3c26eb67",
   "metadata": {},
   "outputs": [
    {
     "data": {
      "text/html": [
       "<div>\n",
       "<style scoped>\n",
       "    .dataframe tbody tr th:only-of-type {\n",
       "        vertical-align: middle;\n",
       "    }\n",
       "\n",
       "    .dataframe tbody tr th {\n",
       "        vertical-align: top;\n",
       "    }\n",
       "\n",
       "    .dataframe thead th {\n",
       "        text-align: right;\n",
       "    }\n",
       "</style>\n",
       "<table border=\"1\" class=\"dataframe\">\n",
       "  <thead>\n",
       "    <tr style=\"text-align: right;\">\n",
       "      <th></th>\n",
       "      <th>Customer ID</th>\n",
       "      <th>Recency</th>\n",
       "      <th>Frequency</th>\n",
       "      <th>Monetary</th>\n",
       "    </tr>\n",
       "  </thead>\n",
       "  <tbody>\n",
       "    <tr>\n",
       "      <th>0</th>\n",
       "      <td>12346</td>\n",
       "      <td>326</td>\n",
       "      <td>12</td>\n",
       "      <td>77556.46</td>\n",
       "    </tr>\n",
       "    <tr>\n",
       "      <th>1</th>\n",
       "      <td>12347</td>\n",
       "      <td>2</td>\n",
       "      <td>8</td>\n",
       "      <td>4921.53</td>\n",
       "    </tr>\n",
       "    <tr>\n",
       "      <th>2</th>\n",
       "      <td>12348</td>\n",
       "      <td>75</td>\n",
       "      <td>5</td>\n",
       "      <td>2019.40</td>\n",
       "    </tr>\n",
       "    <tr>\n",
       "      <th>3</th>\n",
       "      <td>12349</td>\n",
       "      <td>19</td>\n",
       "      <td>4</td>\n",
       "      <td>4428.69</td>\n",
       "    </tr>\n",
       "    <tr>\n",
       "      <th>4</th>\n",
       "      <td>12350</td>\n",
       "      <td>310</td>\n",
       "      <td>1</td>\n",
       "      <td>334.40</td>\n",
       "    </tr>\n",
       "  </tbody>\n",
       "</table>\n",
       "</div>"
      ],
      "text/plain": [
       "  Customer ID  Recency  Frequency  Monetary\n",
       "0       12346      326         12  77556.46\n",
       "1       12347        2          8   4921.53\n",
       "2       12348       75          5   2019.40\n",
       "3       12349       19          4   4428.69\n",
       "4       12350      310          1    334.40"
      ]
     },
     "execution_count": 43,
     "metadata": {},
     "output_type": "execute_result"
    }
   ],
   "source": [
    "#Calculate RFM metrics\n",
    "rfm = df.groupby('Customer ID').agg({\n",
    "    'Invoice Date': lambda x: (snapshot_date - x.max()).days,\n",
    "    'Invoice': 'nunique',\n",
    "    'Amount': 'sum'\n",
    "})\n",
    "\n",
    "#Rename columns\n",
    "rfm.rename(columns={\n",
    "    'Invoice Date': 'Recency',\n",
    "    'Invoice': 'Frequency',\n",
    "    'Amount': 'Monetary'\n",
    "}, inplace=True)\n",
    "\n",
    "#Reset index to convert \"Customer ID\" from index to a column\n",
    "rfm = rfm.reset_index()\n",
    "\n",
    "#See the first 5 rows of RFM\n",
    "rfm.head()"
   ]
  },
  {
   "cell_type": "markdown",
   "id": "f59e9ff0",
   "metadata": {},
   "source": [
    "### Check the Distribution of RFM Metrics"
   ]
  },
  {
   "cell_type": "markdown",
   "id": "300218a2",
   "metadata": {},
   "source": [
    "#### Before Log Transformation"
   ]
  },
  {
   "cell_type": "code",
   "execution_count": 44,
   "id": "b678f91a",
   "metadata": {},
   "outputs": [
    {
     "data": {
      "text/plain": [
       "Text(0.5, 1.0, 'Recency Distribution')"
      ]
     },
     "execution_count": 44,
     "metadata": {},
     "output_type": "execute_result"
    },
    {
     "data": {
      "image/png": "[encoded data removed]",
      "text/plain": [
       "<Figure size 864x288 with 1 Axes>"
      ]
     },
     "metadata": {
      "needs_background": "light"
     },
     "output_type": "display_data"
    }
   ],
   "source": [
    "# ----- Recency -----\n",
    "plt.figure(figsize=(12, 4))\n",
    "\n",
    "sns.histplot(data=rfm, x='Recency', bins=30, color='skyblue')\n",
    "plt.title('Recency Distribution')"
   ]
  },
  {
   "cell_type": "code",
   "execution_count": 45,
   "id": "774b2d5e",
   "metadata": {},
   "outputs": [
    {
     "data": {
      "text/plain": [
       "Text(0.5, 1.0, 'Frequency Distribution')"
      ]
     },
     "execution_count": 45,
     "metadata": {},
     "output_type": "execute_result"
    },
    {
     "data": {
      "image/png": "[encoded data removed]",
      "text/plain": [
       "<Figure size 864x288 with 1 Axes>"
      ]
     },
     "metadata": {
      "needs_background": "light"
     },
     "output_type": "display_data"
    }
   ],
   "source": [
    "# ----- Frequency -----\n",
    "plt.figure(figsize=(12, 4))\n",
    "\n",
    "sns.histplot(data=rfm, x='Frequency', bins=30, color='lightgreen')\n",
    "plt.title('Frequency Distribution')"
   ]
  },
  {
   "cell_type": "code",
   "execution_count": 46,
   "id": "1023fa43",
   "metadata": {},
   "outputs": [
    {
     "data": {
      "text/plain": [
       "Text(0.5, 1.0, 'Monetary Distribution')"
      ]
     },
     "execution_count": 46,
     "metadata": {},
     "output_type": "execute_result"
    },
    {
     "data": {
      "image/png": "[encoded data removed]",
      "text/plain": [
       "<Figure size 864x288 with 1 Axes>"
      ]
     },
     "metadata": {
      "needs_background": "light"
     },
     "output_type": "display_data"
    }
   ],
   "source": [
    "# ----- Monetary -----\n",
    "plt.figure(figsize=(12, 4))\n",
    "\n",
    "sns.histplot(data=rfm, x='Monetary', bins=30, color='salmon')\n",
    "plt.title('Monetary Distribution')"
   ]
  },
  {
   "cell_type": "code",
   "execution_count": 47,
   "id": "a662c79f",
   "metadata": {
    "scrolled": false
   },
   "outputs": [
    {
     "data": {
      "image/png": "[encoded data removed]",
      "text/plain": [
       "<Figure size 1080x288 with 3 Axes>"
      ]
     },
     "metadata": {
      "needs_background": "light"
     },
     "output_type": "display_data"
    }
   ],
   "source": [
    "plt.figure(figsize=(15, 4))\n",
    "\n",
    "#Recency\n",
    "plt.subplot(1, 3, 1)\n",
    "sns.histplot(data=rfm, x='Recency', bins=30, color='skyblue')\n",
    "plt.title('Recency Distribution')\n",
    "\n",
    "#Frequency\n",
    "plt.subplot(1, 3, 2)\n",
    "sns.histplot(data=rfm, x='Frequency', bins=30, color='lightgreen')\n",
    "plt.title('Frequency Distribution')\n",
    "\n",
    "#Monetary\n",
    "plt.subplot(1, 3, 3)\n",
    "sns.histplot(data=rfm, x='Monetary', bins=30, color='salmon')\n",
    "plt.title('Monetary Distribution')\n",
    "\n",
    "plt.tight_layout()\n",
    "plt.show()"
   ]
  },
  {
   "cell_type": "markdown",
   "id": "ae6022b9",
   "metadata": {},
   "source": [
    "#### After Log Transformation"
   ]
  },
  {
   "cell_type": "code",
   "execution_count": 48,
   "id": "2c083c78",
   "metadata": {},
   "outputs": [],
   "source": [
    "#Copy RFM columns for visualization\n",
    "rfm_log = rfm[['Recency', 'Frequency', 'Monetary']].copy()"
   ]
  },
  {
   "cell_type": "code",
   "execution_count": 49,
   "id": "ca1f3078",
   "metadata": {},
   "outputs": [],
   "source": [
    "#Apply log transformation to reduce skewness in RFM variables\n",
    "rfm_log['Recency_log'] = np.log1p(rfm_log['Recency'])\n",
    "rfm_log['Frequency_log'] = np.log1p(rfm_log['Frequency'])\n",
    "rfm_log['Monetary_log'] = np.log1p(rfm_log['Monetary'])"
   ]
  },
  {
   "cell_type": "code",
   "execution_count": 50,
   "id": "d49bb783",
   "metadata": {},
   "outputs": [
    {
     "data": {
      "text/plain": [
       "Text(0.5, 1.0, 'Recency (log) Distribution')"
      ]
     },
     "execution_count": 50,
     "metadata": {},
     "output_type": "execute_result"
    },
    {
     "data": {
      "image/png": "[encoded data removed]",
      "text/plain": [
       "<Figure size 864x288 with 1 Axes>"
      ]
     },
     "metadata": {
      "needs_background": "light"
     },
     "output_type": "display_data"
    }
   ],
   "source": [
    "#Create the visualization\n",
    "# ----- Recency -----\n",
    "plt.figure(figsize=(12, 4))\n",
    "\n",
    "sns.histplot(data=rfm_log, x='Recency_log', bins=30, color='skyblue')\n",
    "plt.title('Recency (log) Distribution')"
   ]
  },
  {
   "cell_type": "code",
   "execution_count": 51,
   "id": "1fd59f81",
   "metadata": {},
   "outputs": [
    {
     "data": {
      "text/plain": [
       "Text(0.5, 1.0, 'Frequency (log) Distribution')"
      ]
     },
     "execution_count": 51,
     "metadata": {},
     "output_type": "execute_result"
    },
    {
     "data": {
      "image/png": "[encoded data removed]",
      "text/plain": [
       "<Figure size 864x288 with 1 Axes>"
      ]
     },
     "metadata": {
      "needs_background": "light"
     },
     "output_type": "display_data"
    }
   ],
   "source": [
    "# ----- Frequency -----\n",
    "plt.figure(figsize=(12, 4))\n",
    "\n",
    "sns.histplot(data=rfm_log, x='Frequency_log', bins=30, color='lightgreen')\n",
    "plt.title('Frequency (log) Distribution')"
   ]
  },
  {
   "cell_type": "code",
   "execution_count": 52,
   "id": "dd8ce264",
   "metadata": {},
   "outputs": [
    {
     "data": {
      "text/plain": [
       "Text(0.5, 1.0, 'Monetary (log) Distribution')"
      ]
     },
     "execution_count": 52,
     "metadata": {},
     "output_type": "execute_result"
    },
    {
     "data": {
      "image/png": "[encoded data removed]",
      "text/plain": [
       "<Figure size 864x288 with 1 Axes>"
      ]
     },
     "metadata": {
      "needs_background": "light"
     },
     "output_type": "display_data"
    }
   ],
   "source": [
    "# ----- Monetary -----\n",
    "plt.figure(figsize=(12, 4))\n",
    "\n",
    "sns.histplot(data=rfm_log, x='Monetary_log', bins=30, color='salmon')\n",
    "plt.title('Monetary (log) Distribution')"
   ]
  },
  {
   "cell_type": "markdown",
   "id": "bed6842a",
   "metadata": {},
   "source": [
    "## Clustering with K-Means"
   ]
  },
  {
   "cell_type": "markdown",
   "id": "2c680598",
   "metadata": {},
   "source": [
    "### Data Preprocessing"
   ]
  },
  {
   "cell_type": "code",
   "execution_count": 53,
   "id": "2c8ef7f9",
   "metadata": {},
   "outputs": [],
   "source": [
    "#Standardize RFM features using StandardScaler\n",
    "from sklearn.preprocessing import StandardScaler\n",
    "\n",
    "scaler = StandardScaler()\n",
    "rfm_scaled = scaler.fit_transform(rfm[['Recency', 'Frequency', 'Monetary']])"
   ]
  },
  {
   "cell_type": "markdown",
   "id": "13f898a4",
   "metadata": {},
   "source": [
    "### Finding the Optimal Number of Clusters"
   ]
  },
  {
   "cell_type": "code",
   "execution_count": 54,
   "id": "ee233275",
   "metadata": {},
   "outputs": [
    {
     "data": {
      "image/png": "[encoded data removed]",
      "text/plain": [
       "<Figure size 864x432 with 1 Axes>"
      ]
     },
     "metadata": {
      "needs_background": "light"
     },
     "output_type": "display_data"
    }
   ],
   "source": [
    "#Use the Elbow Method to determine the optimal number of clusters for K-Means\n",
    "from sklearn.cluster import KMeans\n",
    "\n",
    "wcss = []\n",
    "for k in range(1, 11):\n",
    "    kmeans = KMeans(n_clusters=k, random_state=42)\n",
    "    kmeans.fit(rfm_scaled)\n",
    "    wcss.append(kmeans.inertia_)\n",
    "\n",
    "plt.figure(figsize=(12, 6))\n",
    "plt.plot(range(1, 11), wcss, marker='o')\n",
    "plt.title('Elbow Method')\n",
    "plt.xlabel('Number of Clusters (k)')\n",
    "plt.ylabel('WCSS')\n",
    "plt.grid(True)\n",
    "plt.show()"
   ]
  },
  {
   "cell_type": "markdown",
   "id": "9f1e44cc",
   "metadata": {},
   "source": [
    "### Silhouette Score"
   ]
  },
  {
   "cell_type": "code",
   "execution_count": 55,
   "id": "c8ee9df8",
   "metadata": {},
   "outputs": [
    {
     "name": "stdout",
     "output_type": "stream",
     "text": [
      "Silhouette Score for 2 clusters: 0.9160\n",
      "Silhouette Score for 3 clusters: 0.5814\n",
      "Silhouette Score for 4 clusters: 0.5901\n",
      "Silhouette Score for 5 clusters: 0.6028\n",
      "Silhouette Score for 6 clusters: 0.5472\n",
      "Silhouette Score for 7 clusters: 0.5475\n",
      "Silhouette Score for 8 clusters: 0.5400\n",
      "Silhouette Score for 9 clusters: 0.5409\n",
      "Silhouette Score for 10 clusters: 0.5004\n"
     ]
    }
   ],
   "source": [
    "#Evaluate clustering quality using silhouette scores for k=2 to 10\n",
    "from sklearn.metrics import silhouette_score\n",
    "\n",
    "for k in range(2, 11):\n",
    "    kmeans = KMeans(n_clusters=k, random_state=42)\n",
    "    kmeans.fit(rfm_scaled)\n",
    "    score = silhouette_score(rfm_scaled, kmeans.labels_)\n",
    "    print(f\"Silhouette Score for {k} clusters: {score:.4f}\")"
   ]
  },
  {
   "cell_type": "markdown",
   "id": "a25c80bf",
   "metadata": {},
   "source": [
    "### Applying K-Means Clustering"
   ]
  },
  {
   "cell_type": "code",
   "execution_count": 56,
   "id": "bdc0885d",
   "metadata": {},
   "outputs": [],
   "source": [
    "#Assign clusters to customers using K-Means with 4 clusters\n",
    "kmeans = KMeans(n_clusters=4, random_state=42)\n",
    "rfm['Cluster'] = kmeans.fit_predict(rfm_scaled)"
   ]
  },
  {
   "cell_type": "code",
   "execution_count": 57,
   "id": "98614215",
   "metadata": {},
   "outputs": [
    {
     "data": {
      "text/html": [
       "<div>\n",
       "<style scoped>\n",
       "    .dataframe tbody tr th:only-of-type {\n",
       "        vertical-align: middle;\n",
       "    }\n",
       "\n",
       "    .dataframe tbody tr th {\n",
       "        vertical-align: top;\n",
       "    }\n",
       "\n",
       "    .dataframe thead th {\n",
       "        text-align: right;\n",
       "    }\n",
       "</style>\n",
       "<table border=\"1\" class=\"dataframe\">\n",
       "  <thead>\n",
       "    <tr style=\"text-align: right;\">\n",
       "      <th></th>\n",
       "      <th>Cluster</th>\n",
       "      <th>Recency</th>\n",
       "      <th>Frequency</th>\n",
       "      <th>Monetary</th>\n",
       "      <th>The Number of Customers</th>\n",
       "    </tr>\n",
       "  </thead>\n",
       "  <tbody>\n",
       "    <tr>\n",
       "      <th>0</th>\n",
       "      <td>0</td>\n",
       "      <td>67.1</td>\n",
       "      <td>7.2</td>\n",
       "      <td>2907.3</td>\n",
       "      <td>3830</td>\n",
       "    </tr>\n",
       "    <tr>\n",
       "      <th>1</th>\n",
       "      <td>1</td>\n",
       "      <td>461.8</td>\n",
       "      <td>2.2</td>\n",
       "      <td>729.0</td>\n",
       "      <td>1976</td>\n",
       "    </tr>\n",
       "    <tr>\n",
       "      <th>2</th>\n",
       "      <td>2</td>\n",
       "      <td>24.3</td>\n",
       "      <td>99.4</td>\n",
       "      <td>77347.9</td>\n",
       "      <td>38</td>\n",
       "    </tr>\n",
       "    <tr>\n",
       "      <th>3</th>\n",
       "      <td>3</td>\n",
       "      <td>3.5</td>\n",
       "      <td>204.2</td>\n",
       "      <td>423450.6</td>\n",
       "      <td>4</td>\n",
       "    </tr>\n",
       "  </tbody>\n",
       "</table>\n",
       "</div>"
      ],
      "text/plain": [
       "   Cluster  Recency  Frequency  Monetary  The Number of Customers\n",
       "0        0     67.1        7.2    2907.3                     3830\n",
       "1        1    461.8        2.2     729.0                     1976\n",
       "2        2     24.3       99.4   77347.9                       38\n",
       "3        3      3.5      204.2  423450.6                        4"
      ]
     },
     "execution_count": 57,
     "metadata": {},
     "output_type": "execute_result"
    }
   ],
   "source": [
    "#Summary statistics of RFM and customer count by cluster\n",
    "rfm.groupby('Cluster').agg({\n",
    "    'Recency': 'mean',\n",
    "    'Frequency': 'mean',\n",
    "    'Monetary': 'mean',\n",
    "    'Customer ID': 'count'\n",
    "}).round(1).rename(columns={'Customer ID': 'The Number of Customers'}).reset_index()"
   ]
  },
  {
   "cell_type": "code",
   "execution_count": 58,
   "id": "adf43495",
   "metadata": {
    "scrolled": false
   },
   "outputs": [
    {
     "data": {
      "image/png": "[encoded data removed]",
      "text/plain": [
       "<Figure size 864x360 with 1 Axes>"
      ]
     },
     "metadata": {
      "needs_background": "light"
     },
     "output_type": "display_data"
    }
   ],
   "source": [
    "#Scatterplot of clusters based on Recency and Monetary\n",
    "plt.figure(figsize=(12,5))\n",
    "\n",
    "sns.scatterplot(data=rfm, x='Recency', y='Monetary', hue='Cluster', palette='tab10', s=70)\n",
    "plt.title('Customer Segmentation using K-Means', fontsize=14)\n",
    "plt.xlabel('Recency (days)')\n",
    "plt.ylabel('Monetary Value')\n",
    "plt.show()"
   ]
  },
  {
   "cell_type": "code",
   "execution_count": 59,
   "id": "700e752c",
   "metadata": {},
   "outputs": [],
   "source": [
    "#Create a mapping of cluster labels to segment names\n",
    "segment_map={\n",
    "    0: 'Reguler Customers',\n",
    "    1: 'Churned Customers',\n",
    "    2: 'Loyal Customers',\n",
    "    3: 'New Customers'\n",
    "}\n",
    "\n",
    "#Add a new column \"Segment\" based on cluster mapping\n",
    "rfm['Segment'] = rfm['Cluster'].map(segment_map)"
   ]
  },
  {
   "cell_type": "code",
   "execution_count": 60,
   "id": "d38d7f86",
   "metadata": {},
   "outputs": [
    {
     "data": {
      "text/html": [
       "<div>\n",
       "<style scoped>\n",
       "    .dataframe tbody tr th:only-of-type {\n",
       "        vertical-align: middle;\n",
       "    }\n",
       "\n",
       "    .dataframe tbody tr th {\n",
       "        vertical-align: top;\n",
       "    }\n",
       "\n",
       "    .dataframe thead th {\n",
       "        text-align: right;\n",
       "    }\n",
       "</style>\n",
       "<table border=\"1\" class=\"dataframe\">\n",
       "  <thead>\n",
       "    <tr style=\"text-align: right;\">\n",
       "      <th></th>\n",
       "      <th>Customer ID</th>\n",
       "      <th>Recency</th>\n",
       "      <th>Frequency</th>\n",
       "      <th>Monetary</th>\n",
       "      <th>Cluster</th>\n",
       "      <th>Segment</th>\n",
       "    </tr>\n",
       "  </thead>\n",
       "  <tbody>\n",
       "    <tr>\n",
       "      <th>0</th>\n",
       "      <td>12346</td>\n",
       "      <td>326</td>\n",
       "      <td>12</td>\n",
       "      <td>77556.46</td>\n",
       "      <td>0</td>\n",
       "      <td>Reguler Customers</td>\n",
       "    </tr>\n",
       "    <tr>\n",
       "      <th>1</th>\n",
       "      <td>12347</td>\n",
       "      <td>2</td>\n",
       "      <td>8</td>\n",
       "      <td>4921.53</td>\n",
       "      <td>0</td>\n",
       "      <td>Reguler Customers</td>\n",
       "    </tr>\n",
       "    <tr>\n",
       "      <th>2</th>\n",
       "      <td>12348</td>\n",
       "      <td>75</td>\n",
       "      <td>5</td>\n",
       "      <td>2019.40</td>\n",
       "      <td>0</td>\n",
       "      <td>Reguler Customers</td>\n",
       "    </tr>\n",
       "    <tr>\n",
       "      <th>3</th>\n",
       "      <td>12349</td>\n",
       "      <td>19</td>\n",
       "      <td>4</td>\n",
       "      <td>4428.69</td>\n",
       "      <td>0</td>\n",
       "      <td>Reguler Customers</td>\n",
       "    </tr>\n",
       "    <tr>\n",
       "      <th>4</th>\n",
       "      <td>12350</td>\n",
       "      <td>310</td>\n",
       "      <td>1</td>\n",
       "      <td>334.40</td>\n",
       "      <td>1</td>\n",
       "      <td>Churned Customers</td>\n",
       "    </tr>\n",
       "  </tbody>\n",
       "</table>\n",
       "</div>"
      ],
      "text/plain": [
       "  Customer ID  Recency  Frequency  Monetary  Cluster            Segment\n",
       "0       12346      326         12  77556.46        0  Reguler Customers\n",
       "1       12347        2          8   4921.53        0  Reguler Customers\n",
       "2       12348       75          5   2019.40        0  Reguler Customers\n",
       "3       12349       19          4   4428.69        0  Reguler Customers\n",
       "4       12350      310          1    334.40        1  Churned Customers"
      ]
     },
     "execution_count": 60,
     "metadata": {},
     "output_type": "execute_result"
    }
   ],
   "source": [
    "#See the first 5 rows of the final RFM data\n",
    "rfm.head()"
   ]
  },
  {
   "cell_type": "code",
   "execution_count": 61,
   "id": "7374a40c",
   "metadata": {},
   "outputs": [],
   "source": [
    "#Export final RFM dataset to excel\n",
    "#rfm.to_excel(\"RFM Data.xlsx\", index=False)"
   ]
  },
  {
   "cell_type": "code",
   "execution_count": null,
   "id": "cd03e57e",
   "metadata": {},
   "outputs": [],
   "source": []
  },
  {
   "cell_type": "code",
   "execution_count": null,
   "id": "e275ef51",
   "metadata": {},
   "outputs": [],
   "source": []
  },
  {
   "cell_type": "code",
   "execution_count": null,
   "id": "727a5a9d",
   "metadata": {},
   "outputs": [],
   "source": []
  },
  {
   "cell_type": "code",
   "execution_count": null,
   "id": "20f9bb0a",
   "metadata": {},
   "outputs": [],
   "source": []
  },
  {
   "cell_type": "code",
   "execution_count": null,
   "id": "a135ae1b",
   "metadata": {},
   "outputs": [],
   "source": []
  },
  {
   "cell_type": "code",
   "execution_count": null,
   "id": "f615b070",
   "metadata": {},
   "outputs": [],
   "source": []
  },
  {
   "cell_type": "code",
   "execution_count": null,
   "id": "918b0a9e",
   "metadata": {},
   "outputs": [],
   "source": []
  }
 ],
 "metadata": {
  "kernelspec": {
   "display_name": "Python 3",
   "language": "python",
   "name": "python3"
  },
  "language_info": {
   "codemirror_mode": {
    "name": "ipython",
    "version": 3
   },
   "file_extension": ".py",
   "mimetype": "text/x-python",
   "name": "python",
   "nbconvert_exporter": "python",
   "pygments_lexer": "ipython3",
   "version": "3.8.8"
  }
 },
 "nbformat": 4,
 "nbformat_minor": 5
}
