{
 "cells": [
  {
   "cell_type": "markdown",
   "id": "93008773",
   "metadata": {},
   "source": [
    "# A/B Testing Marketing - full analysis project"
   ]
  },
  {
   "cell_type": "markdown",
   "id": "c7239adf",
   "metadata": {},
   "source": [
    "This notebook shows how I applied the A/B testing method to determine whether an ad or a Public Service Announcement (PSA) is more effective as a marketing strategy for promoting a product. I got the dataset from [Kaggle](https://www.kaggle.com/datasets/faviovaz/marketing-ab-testing/code)."
   ]
  },
  {
   "cell_type": "code",
   "execution_count": 1,
   "id": "933751c0",
   "metadata": {},
   "outputs": [],
   "source": [
    "#Importing libraries\n",
    "import pandas as pd\n",
    "import numpy as np\n",
    "import matplotlib.pyplot as plt\n",
    "import seaborn as sns\n",
    "\n",
    "from statsmodels.stats.proportion import proportions_ztest\n",
    "\n",
    "import warnings\n",
    "warnings.filterwarnings('ignore')"
   ]
  },
  {
   "cell_type": "code",
   "execution_count": 2,
   "id": "ad03744a",
   "metadata": {},
   "outputs": [],
   "source": [
    "#Load the dataset\n",
    "df = pd.read_csv('marketing_AB.csv')"
   ]
  },
  {
   "cell_type": "code",
   "execution_count": 3,
   "id": "c3f27790",
   "metadata": {},
   "outputs": [
    {
     "data": {
      "text/html": [
       "<div>\n",
       "<style scoped>\n",
       "    .dataframe tbody tr th:only-of-type {\n",
       "        vertical-align: middle;\n",
       "    }\n",
       "\n",
       "    .dataframe tbody tr th {\n",
       "        vertical-align: top;\n",
       "    }\n",
       "\n",
       "    .dataframe thead th {\n",
       "        text-align: right;\n",
       "    }\n",
       "</style>\n",
       "<table border=\"1\" class=\"dataframe\">\n",
       "  <thead>\n",
       "    <tr style=\"text-align: right;\">\n",
       "      <th></th>\n",
       "      <th>Unnamed: 0</th>\n",
       "      <th>user id</th>\n",
       "      <th>test group</th>\n",
       "      <th>converted</th>\n",
       "      <th>total ads</th>\n",
       "      <th>most ads day</th>\n",
       "      <th>most ads hour</th>\n",
       "    </tr>\n",
       "  </thead>\n",
       "  <tbody>\n",
       "    <tr>\n",
       "      <th>0</th>\n",
       "      <td>0</td>\n",
       "      <td>1069124</td>\n",
       "      <td>ad</td>\n",
       "      <td>False</td>\n",
       "      <td>130</td>\n",
       "      <td>Monday</td>\n",
       "      <td>20</td>\n",
       "    </tr>\n",
       "    <tr>\n",
       "      <th>1</th>\n",
       "      <td>1</td>\n",
       "      <td>1119715</td>\n",
       "      <td>ad</td>\n",
       "      <td>False</td>\n",
       "      <td>93</td>\n",
       "      <td>Tuesday</td>\n",
       "      <td>22</td>\n",
       "    </tr>\n",
       "    <tr>\n",
       "      <th>2</th>\n",
       "      <td>2</td>\n",
       "      <td>1144181</td>\n",
       "      <td>ad</td>\n",
       "      <td>False</td>\n",
       "      <td>21</td>\n",
       "      <td>Tuesday</td>\n",
       "      <td>18</td>\n",
       "    </tr>\n",
       "    <tr>\n",
       "      <th>3</th>\n",
       "      <td>3</td>\n",
       "      <td>1435133</td>\n",
       "      <td>ad</td>\n",
       "      <td>False</td>\n",
       "      <td>355</td>\n",
       "      <td>Tuesday</td>\n",
       "      <td>10</td>\n",
       "    </tr>\n",
       "    <tr>\n",
       "      <th>4</th>\n",
       "      <td>4</td>\n",
       "      <td>1015700</td>\n",
       "      <td>ad</td>\n",
       "      <td>False</td>\n",
       "      <td>276</td>\n",
       "      <td>Friday</td>\n",
       "      <td>14</td>\n",
       "    </tr>\n",
       "  </tbody>\n",
       "</table>\n",
       "</div>"
      ],
      "text/plain": [
       "   Unnamed: 0  user id test group  converted  total ads most ads day  \\\n",
       "0           0  1069124         ad      False        130       Monday   \n",
       "1           1  1119715         ad      False         93      Tuesday   \n",
       "2           2  1144181         ad      False         21      Tuesday   \n",
       "3           3  1435133         ad      False        355      Tuesday   \n",
       "4           4  1015700         ad      False        276       Friday   \n",
       "\n",
       "   most ads hour  \n",
       "0             20  \n",
       "1             22  \n",
       "2             18  \n",
       "3             10  \n",
       "4             14  "
      ]
     },
     "execution_count": 3,
     "metadata": {},
     "output_type": "execute_result"
    }
   ],
   "source": [
    "#See the first 5 rows\n",
    "df.head()"
   ]
  },
  {
   "cell_type": "code",
   "execution_count": 4,
   "id": "303e9645",
   "metadata": {},
   "outputs": [],
   "source": [
    "#Rename columns\n",
    "df = df.rename(columns={\n",
    "    'user id': 'User ID',\n",
    "    'test group': 'Test Group',\n",
    "    'converted': 'Converted',\n",
    "    'total ads': 'Total Ads',\n",
    "    'most ads day': 'Most Ads Day',\n",
    "    'most ads hour': 'Most Ads Hour'\n",
    "})"
   ]
  },
  {
   "cell_type": "code",
   "execution_count": 5,
   "id": "54ee8d20",
   "metadata": {},
   "outputs": [
    {
     "name": "stdout",
     "output_type": "stream",
     "text": [
      "<class 'pandas.core.frame.DataFrame'>\n",
      "RangeIndex: 588101 entries, 0 to 588100\n",
      "Data columns (total 7 columns):\n",
      " #   Column         Non-Null Count   Dtype \n",
      "---  ------         --------------   ----- \n",
      " 0   Unnamed: 0     588101 non-null  int64 \n",
      " 1   User ID        588101 non-null  int64 \n",
      " 2   Test Group     588101 non-null  object\n",
      " 3   Converted      588101 non-null  bool  \n",
      " 4   Total Ads      588101 non-null  int64 \n",
      " 5   Most Ads Day   588101 non-null  object\n",
      " 6   Most Ads Hour  588101 non-null  int64 \n",
      "dtypes: bool(1), int64(4), object(2)\n",
      "memory usage: 27.5+ MB\n"
     ]
    }
   ],
   "source": [
    "#Check data types and nulls\n",
    "df.info()"
   ]
  },
  {
   "cell_type": "code",
   "execution_count": 6,
   "id": "7a1f1895",
   "metadata": {},
   "outputs": [
    {
     "data": {
      "text/html": [
       "<div>\n",
       "<style scoped>\n",
       "    .dataframe tbody tr th:only-of-type {\n",
       "        vertical-align: middle;\n",
       "    }\n",
       "\n",
       "    .dataframe tbody tr th {\n",
       "        vertical-align: top;\n",
       "    }\n",
       "\n",
       "    .dataframe thead th {\n",
       "        text-align: right;\n",
       "    }\n",
       "</style>\n",
       "<table border=\"1\" class=\"dataframe\">\n",
       "  <thead>\n",
       "    <tr style=\"text-align: right;\">\n",
       "      <th></th>\n",
       "      <th>Unnamed: 0</th>\n",
       "      <th>User ID</th>\n",
       "      <th>Total Ads</th>\n",
       "      <th>Most Ads Hour</th>\n",
       "    </tr>\n",
       "  </thead>\n",
       "  <tbody>\n",
       "    <tr>\n",
       "      <th>count</th>\n",
       "      <td>588101.000000</td>\n",
       "      <td>5.881010e+05</td>\n",
       "      <td>588101.000000</td>\n",
       "      <td>588101.000000</td>\n",
       "    </tr>\n",
       "    <tr>\n",
       "      <th>mean</th>\n",
       "      <td>294050.000000</td>\n",
       "      <td>1.310692e+06</td>\n",
       "      <td>24.820876</td>\n",
       "      <td>14.469061</td>\n",
       "    </tr>\n",
       "    <tr>\n",
       "      <th>std</th>\n",
       "      <td>169770.279667</td>\n",
       "      <td>2.022260e+05</td>\n",
       "      <td>43.715181</td>\n",
       "      <td>4.834634</td>\n",
       "    </tr>\n",
       "    <tr>\n",
       "      <th>min</th>\n",
       "      <td>0.000000</td>\n",
       "      <td>9.000000e+05</td>\n",
       "      <td>1.000000</td>\n",
       "      <td>0.000000</td>\n",
       "    </tr>\n",
       "    <tr>\n",
       "      <th>25%</th>\n",
       "      <td>147025.000000</td>\n",
       "      <td>1.143190e+06</td>\n",
       "      <td>4.000000</td>\n",
       "      <td>11.000000</td>\n",
       "    </tr>\n",
       "    <tr>\n",
       "      <th>50%</th>\n",
       "      <td>294050.000000</td>\n",
       "      <td>1.313725e+06</td>\n",
       "      <td>13.000000</td>\n",
       "      <td>14.000000</td>\n",
       "    </tr>\n",
       "    <tr>\n",
       "      <th>75%</th>\n",
       "      <td>441075.000000</td>\n",
       "      <td>1.484088e+06</td>\n",
       "      <td>27.000000</td>\n",
       "      <td>18.000000</td>\n",
       "    </tr>\n",
       "    <tr>\n",
       "      <th>max</th>\n",
       "      <td>588100.000000</td>\n",
       "      <td>1.654483e+06</td>\n",
       "      <td>2065.000000</td>\n",
       "      <td>23.000000</td>\n",
       "    </tr>\n",
       "  </tbody>\n",
       "</table>\n",
       "</div>"
      ],
      "text/plain": [
       "          Unnamed: 0       User ID      Total Ads  Most Ads Hour\n",
       "count  588101.000000  5.881010e+05  588101.000000  588101.000000\n",
       "mean   294050.000000  1.310692e+06      24.820876      14.469061\n",
       "std    169770.279667  2.022260e+05      43.715181       4.834634\n",
       "min         0.000000  9.000000e+05       1.000000       0.000000\n",
       "25%    147025.000000  1.143190e+06       4.000000      11.000000\n",
       "50%    294050.000000  1.313725e+06      13.000000      14.000000\n",
       "75%    441075.000000  1.484088e+06      27.000000      18.000000\n",
       "max    588100.000000  1.654483e+06    2065.000000      23.000000"
      ]
     },
     "execution_count": 6,
     "metadata": {},
     "output_type": "execute_result"
    }
   ],
   "source": [
    "#Summary stats for numeric columns\n",
    "df.describe()"
   ]
  },
  {
   "cell_type": "markdown",
   "id": "4ee25207",
   "metadata": {},
   "source": [
    "## Data Preprocessing"
   ]
  },
  {
   "cell_type": "code",
   "execution_count": 7,
   "id": "5ed8a8f7",
   "metadata": {},
   "outputs": [],
   "source": [
    "#Drop column \"Unnamed: 0\"\n",
    "df = df.drop(columns=['Unnamed: 0'])"
   ]
  },
  {
   "cell_type": "code",
   "execution_count": 8,
   "id": "afa22e9b",
   "metadata": {},
   "outputs": [
    {
     "data": {
      "text/plain": [
       "User ID          0\n",
       "Test Group       0\n",
       "Converted        0\n",
       "Total Ads        0\n",
       "Most Ads Day     0\n",
       "Most Ads Hour    0\n",
       "dtype: int64"
      ]
     },
     "execution_count": 8,
     "metadata": {},
     "output_type": "execute_result"
    }
   ],
   "source": [
    "#Check for missing values\n",
    "df.isna().sum()"
   ]
  },
  {
   "cell_type": "code",
   "execution_count": 9,
   "id": "ad40336c",
   "metadata": {},
   "outputs": [
    {
     "data": {
      "text/plain": [
       "0"
      ]
     },
     "execution_count": 9,
     "metadata": {},
     "output_type": "execute_result"
    }
   ],
   "source": [
    "#Check for duplicate data\n",
    "df.duplicated().sum()"
   ]
  },
  {
   "cell_type": "markdown",
   "id": "c25d74ae",
   "metadata": {},
   "source": [
    "## Data Visualizations"
   ]
  },
  {
   "cell_type": "markdown",
   "id": "3b15c31c",
   "metadata": {},
   "source": [
    "### 1. What is the distribution of user exposure between the ad and the PSA groups?"
   ]
  },
  {
   "cell_type": "code",
   "execution_count": 10,
   "id": "7ed44c27",
   "metadata": {},
   "outputs": [
    {
     "data": {
      "text/plain": [
       "Test Group\n",
       "ad     564577\n",
       "psa     23524\n",
       "Name: count, dtype: int64"
      ]
     },
     "execution_count": 10,
     "metadata": {},
     "output_type": "execute_result"
    }
   ],
   "source": [
    "df1 = df['Test Group'].value_counts()\n",
    "df1"
   ]
  },
  {
   "cell_type": "code",
   "execution_count": 11,
   "id": "0a3f8058",
   "metadata": {},
   "outputs": [
    {
     "data": {
      "image/png": "[encoded data removed]",
      "text/plain": [
       "<Figure size 504x360 with 1 Axes>"
      ]
     },
     "metadata": {
      "needs_background": "light"
     },
     "output_type": "display_data"
    }
   ],
   "source": [
    "plt.figure(figsize=(7,5))\n",
    "df1.plot(kind='bar', color=['#b5c99a', '#e5989b'])\n",
    "plt.title(\"User Distribution by Group: ad vs PSA\")\n",
    "plt.xlabel(\"Group (ad, PSA)\")\n",
    "plt.ylabel(\"Number  of Users\")\n",
    "plt.xticks(rotation=0)\n",
    "plt.tight_layout()\n",
    "plt.show()"
   ]
  },
  {
   "cell_type": "markdown",
   "id": "48596562",
   "metadata": {},
   "source": [
    "### 2. What is the number of users who made a purchase in each group (ad vs PSA)?"
   ]
  },
  {
   "cell_type": "code",
   "execution_count": 12,
   "id": "0d8a00f3",
   "metadata": {},
   "outputs": [
    {
     "data": {
      "text/html": [
       "<div>\n",
       "<style scoped>\n",
       "    .dataframe tbody tr th:only-of-type {\n",
       "        vertical-align: middle;\n",
       "    }\n",
       "\n",
       "    .dataframe tbody tr th {\n",
       "        vertical-align: top;\n",
       "    }\n",
       "\n",
       "    .dataframe thead th {\n",
       "        text-align: right;\n",
       "    }\n",
       "</style>\n",
       "<table border=\"1\" class=\"dataframe\">\n",
       "  <thead>\n",
       "    <tr style=\"text-align: right;\">\n",
       "      <th></th>\n",
       "      <th>Test Group</th>\n",
       "      <th>Converted</th>\n",
       "    </tr>\n",
       "  </thead>\n",
       "  <tbody>\n",
       "    <tr>\n",
       "      <th>0</th>\n",
       "      <td>ad</td>\n",
       "      <td>14423</td>\n",
       "    </tr>\n",
       "    <tr>\n",
       "      <th>1</th>\n",
       "      <td>psa</td>\n",
       "      <td>420</td>\n",
       "    </tr>\n",
       "  </tbody>\n",
       "</table>\n",
       "</div>"
      ],
      "text/plain": [
       "  Test Group  Converted\n",
       "0         ad      14423\n",
       "1        psa        420"
      ]
     },
     "execution_count": 12,
     "metadata": {},
     "output_type": "execute_result"
    }
   ],
   "source": [
    "df2 = df.groupby('Test Group')['Converted'].sum().reset_index()\n",
    "df2"
   ]
  },
  {
   "cell_type": "code",
   "execution_count": 13,
   "id": "b1a5eefa",
   "metadata": {},
   "outputs": [
    {
     "data": {
      "image/png": "[encoded data removed]",
      "text/plain": [
       "<Figure size 504x360 with 1 Axes>"
      ]
     },
     "metadata": {
      "needs_background": "light"
     },
     "output_type": "display_data"
    }
   ],
   "source": [
    "plt.figure(figsize=(7,5))\n",
    "plt.bar(df2['Test Group'], df2['Converted'], color=['#b5c99a', '#e5989b'])\n",
    "plt.title(\"Number of Purchases by Group: ad vs PSA\")\n",
    "plt.xlabel(\"Group (ad, PSA)\")\n",
    "plt.ylabel(\"Number of Conversions\")\n",
    "plt.tight_layout()\n",
    "plt.show()"
   ]
  },
  {
   "cell_type": "markdown",
   "id": "72baf00f",
   "metadata": {},
   "source": [
    "### 3. Does the ad campaign lead to a higher conversion rata compares to the PSA campaign?"
   ]
  },
  {
   "cell_type": "code",
   "execution_count": 14,
   "id": "b6387537",
   "metadata": {},
   "outputs": [
    {
     "data": {
      "text/html": [
       "<div>\n",
       "<style scoped>\n",
       "    .dataframe tbody tr th:only-of-type {\n",
       "        vertical-align: middle;\n",
       "    }\n",
       "\n",
       "    .dataframe tbody tr th {\n",
       "        vertical-align: top;\n",
       "    }\n",
       "\n",
       "    .dataframe thead th {\n",
       "        text-align: right;\n",
       "    }\n",
       "</style>\n",
       "<table border=\"1\" class=\"dataframe\">\n",
       "  <thead>\n",
       "    <tr style=\"text-align: right;\">\n",
       "      <th></th>\n",
       "      <th>Test Group</th>\n",
       "      <th>Converted</th>\n",
       "    </tr>\n",
       "  </thead>\n",
       "  <tbody>\n",
       "    <tr>\n",
       "      <th>0</th>\n",
       "      <td>ad</td>\n",
       "      <td>0.025547</td>\n",
       "    </tr>\n",
       "    <tr>\n",
       "      <th>1</th>\n",
       "      <td>psa</td>\n",
       "      <td>0.017854</td>\n",
       "    </tr>\n",
       "  </tbody>\n",
       "</table>\n",
       "</div>"
      ],
      "text/plain": [
       "  Test Group  Converted\n",
       "0         ad   0.025547\n",
       "1        psa   0.017854"
      ]
     },
     "execution_count": 14,
     "metadata": {},
     "output_type": "execute_result"
    }
   ],
   "source": [
    "df3 = df.groupby('Test Group')['Converted'].mean().reset_index()\n",
    "df3"
   ]
  },
  {
   "cell_type": "code",
   "execution_count": 15,
   "id": "090d60d6",
   "metadata": {},
   "outputs": [
    {
     "data": {
      "image/png": "[encoded data removed]",
      "text/plain": [
       "<Figure size 504x360 with 1 Axes>"
      ]
     },
     "metadata": {
      "needs_background": "light"
     },
     "output_type": "display_data"
    }
   ],
   "source": [
    "plt.figure(figsize=(7,5))\n",
    "plt.bar(df3['Test Group'], df3['Converted'], color=['#b5c99a', '#e5989b'])\n",
    "plt.title(\"Conversion Rate by Group: ad vs PSA\")\n",
    "plt.xlabel(\"Group (ad, PSA)\")\n",
    "plt.ylabel(\"Conversion Rate\")\n",
    "plt.tight_layout()\n",
    "plt.show()"
   ]
  },
  {
   "cell_type": "markdown",
   "id": "ab8bda01",
   "metadata": {},
   "source": [
    "### 4. Which days had the highest number of impressions for the ad and PSA groups?"
   ]
  },
  {
   "cell_type": "code",
   "execution_count": 16,
   "id": "eeee435a",
   "metadata": {},
   "outputs": [
    {
     "data": {
      "text/html": [
       "<div>\n",
       "<style scoped>\n",
       "    .dataframe tbody tr th:only-of-type {\n",
       "        vertical-align: middle;\n",
       "    }\n",
       "\n",
       "    .dataframe tbody tr th {\n",
       "        vertical-align: top;\n",
       "    }\n",
       "\n",
       "    .dataframe thead th {\n",
       "        text-align: right;\n",
       "    }\n",
       "</style>\n",
       "<table border=\"1\" class=\"dataframe\">\n",
       "  <thead>\n",
       "    <tr style=\"text-align: right;\">\n",
       "      <th>Test Group</th>\n",
       "      <th>ad</th>\n",
       "      <th>psa</th>\n",
       "    </tr>\n",
       "    <tr>\n",
       "      <th>Most Ads Day</th>\n",
       "      <th></th>\n",
       "      <th></th>\n",
       "    </tr>\n",
       "  </thead>\n",
       "  <tbody>\n",
       "    <tr>\n",
       "      <th>Friday</th>\n",
       "      <td>88805</td>\n",
       "      <td>3803</td>\n",
       "    </tr>\n",
       "    <tr>\n",
       "      <th>Monday</th>\n",
       "      <td>83571</td>\n",
       "      <td>3502</td>\n",
       "    </tr>\n",
       "    <tr>\n",
       "      <th>Saturday</th>\n",
       "      <td>78802</td>\n",
       "      <td>2858</td>\n",
       "    </tr>\n",
       "    <tr>\n",
       "      <th>Sunday</th>\n",
       "      <td>82332</td>\n",
       "      <td>3059</td>\n",
       "    </tr>\n",
       "    <tr>\n",
       "      <th>Thursday</th>\n",
       "      <td>79077</td>\n",
       "      <td>3905</td>\n",
       "    </tr>\n",
       "    <tr>\n",
       "      <th>Tuesday</th>\n",
       "      <td>74572</td>\n",
       "      <td>2907</td>\n",
       "    </tr>\n",
       "    <tr>\n",
       "      <th>Wednesday</th>\n",
       "      <td>77418</td>\n",
       "      <td>3490</td>\n",
       "    </tr>\n",
       "  </tbody>\n",
       "</table>\n",
       "</div>"
      ],
      "text/plain": [
       "Test Group       ad   psa\n",
       "Most Ads Day             \n",
       "Friday        88805  3803\n",
       "Monday        83571  3502\n",
       "Saturday      78802  2858\n",
       "Sunday        82332  3059\n",
       "Thursday      79077  3905\n",
       "Tuesday       74572  2907\n",
       "Wednesday     77418  3490"
      ]
     },
     "execution_count": 16,
     "metadata": {},
     "output_type": "execute_result"
    }
   ],
   "source": [
    "df4 = df.groupby(['Most Ads Day', 'Test Group']).size().unstack().fillna(0)\n",
    "df4"
   ]
  },
  {
   "cell_type": "code",
   "execution_count": 17,
   "id": "21783863",
   "metadata": {},
   "outputs": [
    {
     "data": {
      "image/png": "[encoded data removed]",
      "text/plain": [
       "<Figure size 720x360 with 1 Axes>"
      ]
     },
     "metadata": {
      "needs_background": "light"
     },
     "output_type": "display_data"
    }
   ],
   "source": [
    "df5 = df['Most Ads Day'].value_counts().sort_values(ascending=False).index\n",
    "\n",
    "#Plot\n",
    "plt.figure(figsize=(10,5))\n",
    "sns.countplot(data=df, x='Most Ads Day', hue='Test Group', order=df5, palette=['#b5c99a', '#e5989b'])\n",
    "plt.title(\"Most Ads Day by Group\")\n",
    "plt.xlabel(\"Days\")\n",
    "plt.ylabel(\"\")\n",
    "plt.legend(loc='center right', bbox_to_anchor=(1.15, 0.5))\n",
    "plt.tight_layout()\n",
    "plt.show()"
   ]
  },
  {
   "cell_type": "markdown",
   "id": "aa24f588",
   "metadata": {},
   "source": [
    "### 5. Which hour had the highest number of impressions for the ad and the PSA group?"
   ]
  },
  {
   "cell_type": "code",
   "execution_count": 18,
   "id": "fe96b717",
   "metadata": {},
   "outputs": [
    {
     "data": {
      "text/html": [
       "<div>\n",
       "<style scoped>\n",
       "    .dataframe tbody tr th:only-of-type {\n",
       "        vertical-align: middle;\n",
       "    }\n",
       "\n",
       "    .dataframe tbody tr th {\n",
       "        vertical-align: top;\n",
       "    }\n",
       "\n",
       "    .dataframe thead th {\n",
       "        text-align: right;\n",
       "    }\n",
       "</style>\n",
       "<table border=\"1\" class=\"dataframe\">\n",
       "  <thead>\n",
       "    <tr style=\"text-align: right;\">\n",
       "      <th>Test Group</th>\n",
       "      <th>ad</th>\n",
       "      <th>psa</th>\n",
       "    </tr>\n",
       "    <tr>\n",
       "      <th>Most Ads Hour</th>\n",
       "      <th></th>\n",
       "      <th></th>\n",
       "    </tr>\n",
       "  </thead>\n",
       "  <tbody>\n",
       "    <tr>\n",
       "      <th>0</th>\n",
       "      <td>5309</td>\n",
       "      <td>227</td>\n",
       "    </tr>\n",
       "    <tr>\n",
       "      <th>1</th>\n",
       "      <td>4615</td>\n",
       "      <td>187</td>\n",
       "    </tr>\n",
       "    <tr>\n",
       "      <th>2</th>\n",
       "      <td>5152</td>\n",
       "      <td>181</td>\n",
       "    </tr>\n",
       "    <tr>\n",
       "      <th>3</th>\n",
       "      <td>2590</td>\n",
       "      <td>89</td>\n",
       "    </tr>\n",
       "    <tr>\n",
       "      <th>4</th>\n",
       "      <td>694</td>\n",
       "      <td>28</td>\n",
       "    </tr>\n",
       "    <tr>\n",
       "      <th>5</th>\n",
       "      <td>742</td>\n",
       "      <td>23</td>\n",
       "    </tr>\n",
       "    <tr>\n",
       "      <th>6</th>\n",
       "      <td>1985</td>\n",
       "      <td>83</td>\n",
       "    </tr>\n",
       "    <tr>\n",
       "      <th>7</th>\n",
       "      <td>6168</td>\n",
       "      <td>237</td>\n",
       "    </tr>\n",
       "    <tr>\n",
       "      <th>8</th>\n",
       "      <td>16968</td>\n",
       "      <td>659</td>\n",
       "    </tr>\n",
       "    <tr>\n",
       "      <th>9</th>\n",
       "      <td>29802</td>\n",
       "      <td>1202</td>\n",
       "    </tr>\n",
       "    <tr>\n",
       "      <th>10</th>\n",
       "      <td>37454</td>\n",
       "      <td>1485</td>\n",
       "    </tr>\n",
       "    <tr>\n",
       "      <th>11</th>\n",
       "      <td>44149</td>\n",
       "      <td>2061</td>\n",
       "    </tr>\n",
       "    <tr>\n",
       "      <th>12</th>\n",
       "      <td>45238</td>\n",
       "      <td>2060</td>\n",
       "    </tr>\n",
       "    <tr>\n",
       "      <th>13</th>\n",
       "      <td>45485</td>\n",
       "      <td>2170</td>\n",
       "    </tr>\n",
       "    <tr>\n",
       "      <th>14</th>\n",
       "      <td>43779</td>\n",
       "      <td>1869</td>\n",
       "    </tr>\n",
       "    <tr>\n",
       "      <th>15</th>\n",
       "      <td>42855</td>\n",
       "      <td>1828</td>\n",
       "    </tr>\n",
       "    <tr>\n",
       "      <th>16</th>\n",
       "      <td>35963</td>\n",
       "      <td>1604</td>\n",
       "    </tr>\n",
       "    <tr>\n",
       "      <th>17</th>\n",
       "      <td>33605</td>\n",
       "      <td>1383</td>\n",
       "    </tr>\n",
       "    <tr>\n",
       "      <th>18</th>\n",
       "      <td>31052</td>\n",
       "      <td>1271</td>\n",
       "    </tr>\n",
       "    <tr>\n",
       "      <th>19</th>\n",
       "      <td>29169</td>\n",
       "      <td>1183</td>\n",
       "    </tr>\n",
       "    <tr>\n",
       "      <th>20</th>\n",
       "      <td>27846</td>\n",
       "      <td>1077</td>\n",
       "    </tr>\n",
       "    <tr>\n",
       "      <th>21</th>\n",
       "      <td>28895</td>\n",
       "      <td>1081</td>\n",
       "    </tr>\n",
       "    <tr>\n",
       "      <th>22</th>\n",
       "      <td>25515</td>\n",
       "      <td>917</td>\n",
       "    </tr>\n",
       "    <tr>\n",
       "      <th>23</th>\n",
       "      <td>19547</td>\n",
       "      <td>619</td>\n",
       "    </tr>\n",
       "  </tbody>\n",
       "</table>\n",
       "</div>"
      ],
      "text/plain": [
       "Test Group        ad   psa\n",
       "Most Ads Hour             \n",
       "0               5309   227\n",
       "1               4615   187\n",
       "2               5152   181\n",
       "3               2590    89\n",
       "4                694    28\n",
       "5                742    23\n",
       "6               1985    83\n",
       "7               6168   237\n",
       "8              16968   659\n",
       "9              29802  1202\n",
       "10             37454  1485\n",
       "11             44149  2061\n",
       "12             45238  2060\n",
       "13             45485  2170\n",
       "14             43779  1869\n",
       "15             42855  1828\n",
       "16             35963  1604\n",
       "17             33605  1383\n",
       "18             31052  1271\n",
       "19             29169  1183\n",
       "20             27846  1077\n",
       "21             28895  1081\n",
       "22             25515   917\n",
       "23             19547   619"
      ]
     },
     "execution_count": 18,
     "metadata": {},
     "output_type": "execute_result"
    }
   ],
   "source": [
    "df6 = df.groupby(['Most Ads Hour', 'Test Group']).size().unstack().fillna(0)\n",
    "df6"
   ]
  },
  {
   "cell_type": "code",
   "execution_count": 19,
   "id": "51b75056",
   "metadata": {},
   "outputs": [
    {
     "data": {
      "image/png": "[encoded data removed]",
      "text/plain": [
       "<Figure size 720x360 with 1 Axes>"
      ]
     },
     "metadata": {
      "needs_background": "light"
     },
     "output_type": "display_data"
    }
   ],
   "source": [
    "df7 = df['Most Ads Hour'].value_counts().sort_values(ascending=False).index\n",
    "\n",
    "plt.figure(figsize=(10,5))\n",
    "sns.countplot(data=df, x='Most Ads Hour', hue='Test Group', order=df7, palette=['#b5c99a', '#e5989b'])\n",
    "plt.title(\"Most Ads Hour by Group\")\n",
    "plt.xlabel(\"Hour\")\n",
    "plt.ylabel(\"\")\n",
    "plt.legend(loc='center right', bbox_to_anchor=(1.15, 0.5))\n",
    "plt.tight_layout()\n",
    "plt.show()"
   ]
  },
  {
   "cell_type": "markdown",
   "id": "f733f439",
   "metadata": {},
   "source": [
    "## Exploratory Data Analysis (EDA)"
   ]
  },
  {
   "cell_type": "markdown",
   "id": "527e3f76",
   "metadata": {},
   "source": [
    "### 1. Would the campaign be successful?\n",
    "Hypothesis:\n",
    "\n",
    "Null hypothesis (H0):\n",
    "\n",
    "The conversion rate of the ad group is equal to the conversion rate of the PSA group. (There is no significant difference, the ad may not be effective)\n",
    "\n",
    "Alternative hypothesis (H1):\n",
    "\n",
    "The conversion rate of the ad group is not equal to the conversion rate of the PSA group. (There is a significant difference, the ad may be effective)\n",
    "\n",
    "Interpretation:\n",
    "\n",
    "- If the p-value < 0.05, we conclude that there is a significant difference in conversion rates, meaning the campaign is likely successful.\n",
    "\n",
    "- If the p-value ≥ 0.05, we conclude that the difference is not statistically significant, meaning the campaign might not be effective."
   ]
  },
  {
   "cell_type": "code",
   "execution_count": 20,
   "id": "3d2766a4",
   "metadata": {},
   "outputs": [
    {
     "name": "stdout",
     "output_type": "stream",
     "text": [
      "Z-statistic: 7.3701\n",
      "p-value: 0.0000\n"
     ]
    }
   ],
   "source": [
    "#Total number of converted users in each group\n",
    "converted = df.groupby('Test Group')['Converted'].sum().values\n",
    "\n",
    "#Total number of users in each group\n",
    "total = df.groupby('Test Group')['Converted'].count().values\n",
    "\n",
    "#Z-test\n",
    "z_stat, p_value = proportions_ztest(count=converted, nobs=total)\n",
    "\n",
    "#The results\n",
    "print(f\"Z-statistic: {z_stat:.4f}\")\n",
    "print(f\"p-value: {p_value:.4f}\")"
   ]
  },
  {
   "cell_type": "markdown",
   "id": "6ad74f96",
   "metadata": {},
   "source": [
    "Based on the results of the analysis, the p-value is less than 0.05, which indicates a statistically significant difference in conversion rates between users who saw the ad and those who saw the PSA. This suggests that the ad campaign can be considered successful."
   ]
  },
  {
   "cell_type": "markdown",
   "id": "7a9c0e06",
   "metadata": {},
   "source": [
    "### 2. If the campaign was successful, how much of that success could be atributed to the ads?"
   ]
  },
  {
   "cell_type": "markdown",
   "id": "7560ddf0",
   "metadata": {},
   "source": [
    "To determine how much of the campaign's success can be attributed to the ads, I'll use lift to measure how much the ad improved the results. How does lift work? Lift measures the percentage increase in conversion rate between the ad group and the PSA group, showing how much impact the ad had."
   ]
  },
  {
   "cell_type": "code",
   "execution_count": 21,
   "id": "b7402313",
   "metadata": {},
   "outputs": [
    {
     "name": "stdout",
     "output_type": "stream",
     "text": [
      "Lift: 43.09%\n"
     ]
    }
   ],
   "source": [
    "#Lift calculation\n",
    "df8 = df.groupby('Test Group')['Converted'].mean()\n",
    "\n",
    "conversionrate_ad = df8['ad']\n",
    "conversionrate_psa = df8['psa']\n",
    "\n",
    "lift = (conversionrate_ad - conversionrate_psa)/conversionrate_psa\n",
    "lift_percentage = lift * 100\n",
    "\n",
    "print(f\"Lift: {lift_percentage:.2f}%\")"
   ]
  },
  {
   "cell_type": "markdown",
   "id": "25d29059",
   "metadata": {},
   "source": [
    "A lift of 43.09% means that the ad campaign was the main factor driving the campaign's overall success, contributing to a 43.09% relative increase in conversions.\n",
    "\n",
    "Given that the statistical test showed a significant result, it confirms that the ad played a key role in this success. The ad clearly had a strong impact in getting more users to take desired action, such as making a purchase or signing up."
   ]
  },
  {
   "cell_type": "code",
   "execution_count": null,
   "id": "d781c12a",
   "metadata": {},
   "outputs": [],
   "source": []
  },
  {
   "cell_type": "code",
   "execution_count": null,
   "id": "85e1eaee",
   "metadata": {},
   "outputs": [],
   "source": []
  }
 ],
 "metadata": {
  "kernelspec": {
   "display_name": "Python 3",
   "language": "python",
   "name": "python3"
  },
  "language_info": {
   "codemirror_mode": {
    "name": "ipython",
    "version": 3
   },
   "file_extension": ".py",
   "mimetype": "text/x-python",
   "name": "python",
   "nbconvert_exporter": "python",
   "pygments_lexer": "ipython3",
   "version": "3.8.8"
  }
 },
 "nbformat": 4,
 "nbformat_minor": 5
}
